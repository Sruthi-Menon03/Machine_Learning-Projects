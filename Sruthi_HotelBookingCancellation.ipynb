{
 "cells": [
  {
   "cell_type": "markdown",
   "id": "1f40a19a",
   "metadata": {},
   "source": [
    "# Hotel Bookings Cancellation Prediction"
   ]
  },
  {
   "cell_type": "markdown",
   "id": "ca1836e0",
   "metadata": {},
   "source": [
    "- Predicting Hotel Booking Cancellation in Portugal is a machine learning classification project that will try to predict whether a booking will be cancelled or not using machine learning models based on historical data.\n",
    "- The data for this project is from Hotel Booking Demand Dataset Sciencedirect. This data was acquired by extraction from hotel’s Property management system from 2015 to 2017 from hotel in Region Algarve and Lisbon.\n"
   ]
  },
  {
   "cell_type": "markdown",
   "id": "257b81e3",
   "metadata": {},
   "source": [
    "### Importing the libraries"
   ]
  },
  {
   "cell_type": "code",
   "execution_count": 1,
   "id": "f51056f6",
   "metadata": {},
   "outputs": [],
   "source": [
    "import pandas as pd\n",
    "import numpy as np\n",
    "import matplotlib.pyplot as plt\n",
    "import seaborn as sns\n",
    "%matplotlib inline\n",
    "import warnings\n",
    "warnings.filterwarnings(\"ignore\")"
   ]
  },
  {
   "cell_type": "markdown",
   "id": "cec9126c",
   "metadata": {},
   "source": [
    "# Loading the dataset"
   ]
  },
  {
   "cell_type": "code",
   "execution_count": 2,
   "id": "e44f4c3c",
   "metadata": {},
   "outputs": [
    {
     "data": {
      "text/html": [
       "<div>\n",
       "<style scoped>\n",
       "    .dataframe tbody tr th:only-of-type {\n",
       "        vertical-align: middle;\n",
       "    }\n",
       "\n",
       "    .dataframe tbody tr th {\n",
       "        vertical-align: top;\n",
       "    }\n",
       "\n",
       "    .dataframe thead th {\n",
       "        text-align: right;\n",
       "    }\n",
       "</style>\n",
       "<table border=\"1\" class=\"dataframe\">\n",
       "  <thead>\n",
       "    <tr style=\"text-align: right;\">\n",
       "      <th></th>\n",
       "      <th>hotel</th>\n",
       "      <th>is_canceled</th>\n",
       "      <th>lead_time</th>\n",
       "      <th>arrival_date_year</th>\n",
       "      <th>arrival_date_month</th>\n",
       "      <th>arrival_date_week_number</th>\n",
       "      <th>arrival_date_day_of_month</th>\n",
       "      <th>stays_in_weekend_nights</th>\n",
       "      <th>stays_in_week_nights</th>\n",
       "      <th>adults</th>\n",
       "      <th>...</th>\n",
       "      <th>deposit_type</th>\n",
       "      <th>agent</th>\n",
       "      <th>company</th>\n",
       "      <th>days_in_waiting_list</th>\n",
       "      <th>customer_type</th>\n",
       "      <th>adr</th>\n",
       "      <th>required_car_parking_spaces</th>\n",
       "      <th>total_of_special_requests</th>\n",
       "      <th>reservation_status</th>\n",
       "      <th>reservation_status_date</th>\n",
       "    </tr>\n",
       "  </thead>\n",
       "  <tbody>\n",
       "    <tr>\n",
       "      <th>0</th>\n",
       "      <td>Resort Hotel</td>\n",
       "      <td>0</td>\n",
       "      <td>342</td>\n",
       "      <td>2015</td>\n",
       "      <td>July</td>\n",
       "      <td>27</td>\n",
       "      <td>1</td>\n",
       "      <td>0</td>\n",
       "      <td>0</td>\n",
       "      <td>2</td>\n",
       "      <td>...</td>\n",
       "      <td>No Deposit</td>\n",
       "      <td>NaN</td>\n",
       "      <td>NaN</td>\n",
       "      <td>0</td>\n",
       "      <td>Transient</td>\n",
       "      <td>0.00</td>\n",
       "      <td>0</td>\n",
       "      <td>0</td>\n",
       "      <td>Check-Out</td>\n",
       "      <td>2015-07-01</td>\n",
       "    </tr>\n",
       "    <tr>\n",
       "      <th>1</th>\n",
       "      <td>Resort Hotel</td>\n",
       "      <td>0</td>\n",
       "      <td>737</td>\n",
       "      <td>2015</td>\n",
       "      <td>July</td>\n",
       "      <td>27</td>\n",
       "      <td>1</td>\n",
       "      <td>0</td>\n",
       "      <td>0</td>\n",
       "      <td>2</td>\n",
       "      <td>...</td>\n",
       "      <td>No Deposit</td>\n",
       "      <td>NaN</td>\n",
       "      <td>NaN</td>\n",
       "      <td>0</td>\n",
       "      <td>Transient</td>\n",
       "      <td>0.00</td>\n",
       "      <td>0</td>\n",
       "      <td>0</td>\n",
       "      <td>Check-Out</td>\n",
       "      <td>2015-07-01</td>\n",
       "    </tr>\n",
       "    <tr>\n",
       "      <th>2</th>\n",
       "      <td>Resort Hotel</td>\n",
       "      <td>0</td>\n",
       "      <td>7</td>\n",
       "      <td>2015</td>\n",
       "      <td>July</td>\n",
       "      <td>27</td>\n",
       "      <td>1</td>\n",
       "      <td>0</td>\n",
       "      <td>1</td>\n",
       "      <td>1</td>\n",
       "      <td>...</td>\n",
       "      <td>No Deposit</td>\n",
       "      <td>NaN</td>\n",
       "      <td>NaN</td>\n",
       "      <td>0</td>\n",
       "      <td>Transient</td>\n",
       "      <td>75.00</td>\n",
       "      <td>0</td>\n",
       "      <td>0</td>\n",
       "      <td>Check-Out</td>\n",
       "      <td>2015-07-02</td>\n",
       "    </tr>\n",
       "    <tr>\n",
       "      <th>3</th>\n",
       "      <td>Resort Hotel</td>\n",
       "      <td>0</td>\n",
       "      <td>13</td>\n",
       "      <td>2015</td>\n",
       "      <td>July</td>\n",
       "      <td>27</td>\n",
       "      <td>1</td>\n",
       "      <td>0</td>\n",
       "      <td>1</td>\n",
       "      <td>1</td>\n",
       "      <td>...</td>\n",
       "      <td>No Deposit</td>\n",
       "      <td>304.0</td>\n",
       "      <td>NaN</td>\n",
       "      <td>0</td>\n",
       "      <td>Transient</td>\n",
       "      <td>75.00</td>\n",
       "      <td>0</td>\n",
       "      <td>0</td>\n",
       "      <td>Check-Out</td>\n",
       "      <td>2015-07-02</td>\n",
       "    </tr>\n",
       "    <tr>\n",
       "      <th>4</th>\n",
       "      <td>Resort Hotel</td>\n",
       "      <td>0</td>\n",
       "      <td>14</td>\n",
       "      <td>2015</td>\n",
       "      <td>July</td>\n",
       "      <td>27</td>\n",
       "      <td>1</td>\n",
       "      <td>0</td>\n",
       "      <td>2</td>\n",
       "      <td>2</td>\n",
       "      <td>...</td>\n",
       "      <td>No Deposit</td>\n",
       "      <td>240.0</td>\n",
       "      <td>NaN</td>\n",
       "      <td>0</td>\n",
       "      <td>Transient</td>\n",
       "      <td>98.00</td>\n",
       "      <td>0</td>\n",
       "      <td>1</td>\n",
       "      <td>Check-Out</td>\n",
       "      <td>2015-07-03</td>\n",
       "    </tr>\n",
       "    <tr>\n",
       "      <th>5</th>\n",
       "      <td>Resort Hotel</td>\n",
       "      <td>0</td>\n",
       "      <td>14</td>\n",
       "      <td>2015</td>\n",
       "      <td>July</td>\n",
       "      <td>27</td>\n",
       "      <td>1</td>\n",
       "      <td>0</td>\n",
       "      <td>2</td>\n",
       "      <td>2</td>\n",
       "      <td>...</td>\n",
       "      <td>No Deposit</td>\n",
       "      <td>240.0</td>\n",
       "      <td>NaN</td>\n",
       "      <td>0</td>\n",
       "      <td>Transient</td>\n",
       "      <td>98.00</td>\n",
       "      <td>0</td>\n",
       "      <td>1</td>\n",
       "      <td>Check-Out</td>\n",
       "      <td>2015-07-03</td>\n",
       "    </tr>\n",
       "    <tr>\n",
       "      <th>6</th>\n",
       "      <td>Resort Hotel</td>\n",
       "      <td>0</td>\n",
       "      <td>0</td>\n",
       "      <td>2015</td>\n",
       "      <td>July</td>\n",
       "      <td>27</td>\n",
       "      <td>1</td>\n",
       "      <td>0</td>\n",
       "      <td>2</td>\n",
       "      <td>2</td>\n",
       "      <td>...</td>\n",
       "      <td>No Deposit</td>\n",
       "      <td>NaN</td>\n",
       "      <td>NaN</td>\n",
       "      <td>0</td>\n",
       "      <td>Transient</td>\n",
       "      <td>107.00</td>\n",
       "      <td>0</td>\n",
       "      <td>0</td>\n",
       "      <td>Check-Out</td>\n",
       "      <td>2015-07-03</td>\n",
       "    </tr>\n",
       "    <tr>\n",
       "      <th>7</th>\n",
       "      <td>Resort Hotel</td>\n",
       "      <td>0</td>\n",
       "      <td>9</td>\n",
       "      <td>2015</td>\n",
       "      <td>July</td>\n",
       "      <td>27</td>\n",
       "      <td>1</td>\n",
       "      <td>0</td>\n",
       "      <td>2</td>\n",
       "      <td>2</td>\n",
       "      <td>...</td>\n",
       "      <td>No Deposit</td>\n",
       "      <td>303.0</td>\n",
       "      <td>NaN</td>\n",
       "      <td>0</td>\n",
       "      <td>Transient</td>\n",
       "      <td>103.00</td>\n",
       "      <td>0</td>\n",
       "      <td>1</td>\n",
       "      <td>Check-Out</td>\n",
       "      <td>2015-07-03</td>\n",
       "    </tr>\n",
       "    <tr>\n",
       "      <th>8</th>\n",
       "      <td>Resort Hotel</td>\n",
       "      <td>1</td>\n",
       "      <td>85</td>\n",
       "      <td>2015</td>\n",
       "      <td>July</td>\n",
       "      <td>27</td>\n",
       "      <td>1</td>\n",
       "      <td>0</td>\n",
       "      <td>3</td>\n",
       "      <td>2</td>\n",
       "      <td>...</td>\n",
       "      <td>No Deposit</td>\n",
       "      <td>240.0</td>\n",
       "      <td>NaN</td>\n",
       "      <td>0</td>\n",
       "      <td>Transient</td>\n",
       "      <td>82.00</td>\n",
       "      <td>0</td>\n",
       "      <td>1</td>\n",
       "      <td>Canceled</td>\n",
       "      <td>2015-05-06</td>\n",
       "    </tr>\n",
       "    <tr>\n",
       "      <th>9</th>\n",
       "      <td>Resort Hotel</td>\n",
       "      <td>1</td>\n",
       "      <td>75</td>\n",
       "      <td>2015</td>\n",
       "      <td>July</td>\n",
       "      <td>27</td>\n",
       "      <td>1</td>\n",
       "      <td>0</td>\n",
       "      <td>3</td>\n",
       "      <td>2</td>\n",
       "      <td>...</td>\n",
       "      <td>No Deposit</td>\n",
       "      <td>15.0</td>\n",
       "      <td>NaN</td>\n",
       "      <td>0</td>\n",
       "      <td>Transient</td>\n",
       "      <td>105.50</td>\n",
       "      <td>0</td>\n",
       "      <td>0</td>\n",
       "      <td>Canceled</td>\n",
       "      <td>2015-04-22</td>\n",
       "    </tr>\n",
       "    <tr>\n",
       "      <th>10</th>\n",
       "      <td>Resort Hotel</td>\n",
       "      <td>1</td>\n",
       "      <td>23</td>\n",
       "      <td>2015</td>\n",
       "      <td>July</td>\n",
       "      <td>27</td>\n",
       "      <td>1</td>\n",
       "      <td>0</td>\n",
       "      <td>4</td>\n",
       "      <td>2</td>\n",
       "      <td>...</td>\n",
       "      <td>No Deposit</td>\n",
       "      <td>240.0</td>\n",
       "      <td>NaN</td>\n",
       "      <td>0</td>\n",
       "      <td>Transient</td>\n",
       "      <td>123.00</td>\n",
       "      <td>0</td>\n",
       "      <td>0</td>\n",
       "      <td>Canceled</td>\n",
       "      <td>2015-06-23</td>\n",
       "    </tr>\n",
       "    <tr>\n",
       "      <th>11</th>\n",
       "      <td>Resort Hotel</td>\n",
       "      <td>0</td>\n",
       "      <td>35</td>\n",
       "      <td>2015</td>\n",
       "      <td>July</td>\n",
       "      <td>27</td>\n",
       "      <td>1</td>\n",
       "      <td>0</td>\n",
       "      <td>4</td>\n",
       "      <td>2</td>\n",
       "      <td>...</td>\n",
       "      <td>No Deposit</td>\n",
       "      <td>240.0</td>\n",
       "      <td>NaN</td>\n",
       "      <td>0</td>\n",
       "      <td>Transient</td>\n",
       "      <td>145.00</td>\n",
       "      <td>0</td>\n",
       "      <td>0</td>\n",
       "      <td>Check-Out</td>\n",
       "      <td>2015-07-05</td>\n",
       "    </tr>\n",
       "    <tr>\n",
       "      <th>12</th>\n",
       "      <td>Resort Hotel</td>\n",
       "      <td>0</td>\n",
       "      <td>68</td>\n",
       "      <td>2015</td>\n",
       "      <td>July</td>\n",
       "      <td>27</td>\n",
       "      <td>1</td>\n",
       "      <td>0</td>\n",
       "      <td>4</td>\n",
       "      <td>2</td>\n",
       "      <td>...</td>\n",
       "      <td>No Deposit</td>\n",
       "      <td>240.0</td>\n",
       "      <td>NaN</td>\n",
       "      <td>0</td>\n",
       "      <td>Transient</td>\n",
       "      <td>97.00</td>\n",
       "      <td>0</td>\n",
       "      <td>3</td>\n",
       "      <td>Check-Out</td>\n",
       "      <td>2015-07-05</td>\n",
       "    </tr>\n",
       "    <tr>\n",
       "      <th>13</th>\n",
       "      <td>Resort Hotel</td>\n",
       "      <td>0</td>\n",
       "      <td>18</td>\n",
       "      <td>2015</td>\n",
       "      <td>July</td>\n",
       "      <td>27</td>\n",
       "      <td>1</td>\n",
       "      <td>0</td>\n",
       "      <td>4</td>\n",
       "      <td>2</td>\n",
       "      <td>...</td>\n",
       "      <td>No Deposit</td>\n",
       "      <td>241.0</td>\n",
       "      <td>NaN</td>\n",
       "      <td>0</td>\n",
       "      <td>Transient</td>\n",
       "      <td>154.77</td>\n",
       "      <td>0</td>\n",
       "      <td>1</td>\n",
       "      <td>Check-Out</td>\n",
       "      <td>2015-07-05</td>\n",
       "    </tr>\n",
       "    <tr>\n",
       "      <th>14</th>\n",
       "      <td>Resort Hotel</td>\n",
       "      <td>0</td>\n",
       "      <td>37</td>\n",
       "      <td>2015</td>\n",
       "      <td>July</td>\n",
       "      <td>27</td>\n",
       "      <td>1</td>\n",
       "      <td>0</td>\n",
       "      <td>4</td>\n",
       "      <td>2</td>\n",
       "      <td>...</td>\n",
       "      <td>No Deposit</td>\n",
       "      <td>241.0</td>\n",
       "      <td>NaN</td>\n",
       "      <td>0</td>\n",
       "      <td>Transient</td>\n",
       "      <td>94.71</td>\n",
       "      <td>0</td>\n",
       "      <td>0</td>\n",
       "      <td>Check-Out</td>\n",
       "      <td>2015-07-05</td>\n",
       "    </tr>\n",
       "    <tr>\n",
       "      <th>15</th>\n",
       "      <td>Resort Hotel</td>\n",
       "      <td>0</td>\n",
       "      <td>68</td>\n",
       "      <td>2015</td>\n",
       "      <td>July</td>\n",
       "      <td>27</td>\n",
       "      <td>1</td>\n",
       "      <td>0</td>\n",
       "      <td>4</td>\n",
       "      <td>2</td>\n",
       "      <td>...</td>\n",
       "      <td>No Deposit</td>\n",
       "      <td>240.0</td>\n",
       "      <td>NaN</td>\n",
       "      <td>0</td>\n",
       "      <td>Transient</td>\n",
       "      <td>97.00</td>\n",
       "      <td>0</td>\n",
       "      <td>3</td>\n",
       "      <td>Check-Out</td>\n",
       "      <td>2015-07-05</td>\n",
       "    </tr>\n",
       "    <tr>\n",
       "      <th>16</th>\n",
       "      <td>Resort Hotel</td>\n",
       "      <td>0</td>\n",
       "      <td>37</td>\n",
       "      <td>2015</td>\n",
       "      <td>July</td>\n",
       "      <td>27</td>\n",
       "      <td>1</td>\n",
       "      <td>0</td>\n",
       "      <td>4</td>\n",
       "      <td>2</td>\n",
       "      <td>...</td>\n",
       "      <td>No Deposit</td>\n",
       "      <td>8.0</td>\n",
       "      <td>NaN</td>\n",
       "      <td>0</td>\n",
       "      <td>Contract</td>\n",
       "      <td>97.50</td>\n",
       "      <td>0</td>\n",
       "      <td>0</td>\n",
       "      <td>Check-Out</td>\n",
       "      <td>2015-07-05</td>\n",
       "    </tr>\n",
       "    <tr>\n",
       "      <th>17</th>\n",
       "      <td>Resort Hotel</td>\n",
       "      <td>0</td>\n",
       "      <td>12</td>\n",
       "      <td>2015</td>\n",
       "      <td>July</td>\n",
       "      <td>27</td>\n",
       "      <td>1</td>\n",
       "      <td>0</td>\n",
       "      <td>1</td>\n",
       "      <td>2</td>\n",
       "      <td>...</td>\n",
       "      <td>No Deposit</td>\n",
       "      <td>240.0</td>\n",
       "      <td>NaN</td>\n",
       "      <td>0</td>\n",
       "      <td>Transient</td>\n",
       "      <td>88.20</td>\n",
       "      <td>0</td>\n",
       "      <td>0</td>\n",
       "      <td>Check-Out</td>\n",
       "      <td>2015-07-02</td>\n",
       "    </tr>\n",
       "    <tr>\n",
       "      <th>18</th>\n",
       "      <td>Resort Hotel</td>\n",
       "      <td>0</td>\n",
       "      <td>0</td>\n",
       "      <td>2015</td>\n",
       "      <td>July</td>\n",
       "      <td>27</td>\n",
       "      <td>1</td>\n",
       "      <td>0</td>\n",
       "      <td>1</td>\n",
       "      <td>2</td>\n",
       "      <td>...</td>\n",
       "      <td>No Deposit</td>\n",
       "      <td>NaN</td>\n",
       "      <td>110.0</td>\n",
       "      <td>0</td>\n",
       "      <td>Transient</td>\n",
       "      <td>107.42</td>\n",
       "      <td>0</td>\n",
       "      <td>0</td>\n",
       "      <td>Check-Out</td>\n",
       "      <td>2015-07-02</td>\n",
       "    </tr>\n",
       "    <tr>\n",
       "      <th>19</th>\n",
       "      <td>Resort Hotel</td>\n",
       "      <td>0</td>\n",
       "      <td>7</td>\n",
       "      <td>2015</td>\n",
       "      <td>July</td>\n",
       "      <td>27</td>\n",
       "      <td>1</td>\n",
       "      <td>0</td>\n",
       "      <td>4</td>\n",
       "      <td>2</td>\n",
       "      <td>...</td>\n",
       "      <td>No Deposit</td>\n",
       "      <td>250.0</td>\n",
       "      <td>NaN</td>\n",
       "      <td>0</td>\n",
       "      <td>Transient</td>\n",
       "      <td>153.00</td>\n",
       "      <td>0</td>\n",
       "      <td>1</td>\n",
       "      <td>Check-Out</td>\n",
       "      <td>2015-07-05</td>\n",
       "    </tr>\n",
       "  </tbody>\n",
       "</table>\n",
       "<p>20 rows × 32 columns</p>\n",
       "</div>"
      ],
      "text/plain": [
       "           hotel  is_canceled  lead_time  arrival_date_year  \\\n",
       "0   Resort Hotel            0        342               2015   \n",
       "1   Resort Hotel            0        737               2015   \n",
       "2   Resort Hotel            0          7               2015   \n",
       "3   Resort Hotel            0         13               2015   \n",
       "4   Resort Hotel            0         14               2015   \n",
       "5   Resort Hotel            0         14               2015   \n",
       "6   Resort Hotel            0          0               2015   \n",
       "7   Resort Hotel            0          9               2015   \n",
       "8   Resort Hotel            1         85               2015   \n",
       "9   Resort Hotel            1         75               2015   \n",
       "10  Resort Hotel            1         23               2015   \n",
       "11  Resort Hotel            0         35               2015   \n",
       "12  Resort Hotel            0         68               2015   \n",
       "13  Resort Hotel            0         18               2015   \n",
       "14  Resort Hotel            0         37               2015   \n",
       "15  Resort Hotel            0         68               2015   \n",
       "16  Resort Hotel            0         37               2015   \n",
       "17  Resort Hotel            0         12               2015   \n",
       "18  Resort Hotel            0          0               2015   \n",
       "19  Resort Hotel            0          7               2015   \n",
       "\n",
       "   arrival_date_month  arrival_date_week_number  arrival_date_day_of_month  \\\n",
       "0                July                        27                          1   \n",
       "1                July                        27                          1   \n",
       "2                July                        27                          1   \n",
       "3                July                        27                          1   \n",
       "4                July                        27                          1   \n",
       "5                July                        27                          1   \n",
       "6                July                        27                          1   \n",
       "7                July                        27                          1   \n",
       "8                July                        27                          1   \n",
       "9                July                        27                          1   \n",
       "10               July                        27                          1   \n",
       "11               July                        27                          1   \n",
       "12               July                        27                          1   \n",
       "13               July                        27                          1   \n",
       "14               July                        27                          1   \n",
       "15               July                        27                          1   \n",
       "16               July                        27                          1   \n",
       "17               July                        27                          1   \n",
       "18               July                        27                          1   \n",
       "19               July                        27                          1   \n",
       "\n",
       "    stays_in_weekend_nights  stays_in_week_nights  adults  ...  deposit_type  \\\n",
       "0                         0                     0       2  ...    No Deposit   \n",
       "1                         0                     0       2  ...    No Deposit   \n",
       "2                         0                     1       1  ...    No Deposit   \n",
       "3                         0                     1       1  ...    No Deposit   \n",
       "4                         0                     2       2  ...    No Deposit   \n",
       "5                         0                     2       2  ...    No Deposit   \n",
       "6                         0                     2       2  ...    No Deposit   \n",
       "7                         0                     2       2  ...    No Deposit   \n",
       "8                         0                     3       2  ...    No Deposit   \n",
       "9                         0                     3       2  ...    No Deposit   \n",
       "10                        0                     4       2  ...    No Deposit   \n",
       "11                        0                     4       2  ...    No Deposit   \n",
       "12                        0                     4       2  ...    No Deposit   \n",
       "13                        0                     4       2  ...    No Deposit   \n",
       "14                        0                     4       2  ...    No Deposit   \n",
       "15                        0                     4       2  ...    No Deposit   \n",
       "16                        0                     4       2  ...    No Deposit   \n",
       "17                        0                     1       2  ...    No Deposit   \n",
       "18                        0                     1       2  ...    No Deposit   \n",
       "19                        0                     4       2  ...    No Deposit   \n",
       "\n",
       "    agent company days_in_waiting_list customer_type     adr  \\\n",
       "0     NaN     NaN                    0     Transient    0.00   \n",
       "1     NaN     NaN                    0     Transient    0.00   \n",
       "2     NaN     NaN                    0     Transient   75.00   \n",
       "3   304.0     NaN                    0     Transient   75.00   \n",
       "4   240.0     NaN                    0     Transient   98.00   \n",
       "5   240.0     NaN                    0     Transient   98.00   \n",
       "6     NaN     NaN                    0     Transient  107.00   \n",
       "7   303.0     NaN                    0     Transient  103.00   \n",
       "8   240.0     NaN                    0     Transient   82.00   \n",
       "9    15.0     NaN                    0     Transient  105.50   \n",
       "10  240.0     NaN                    0     Transient  123.00   \n",
       "11  240.0     NaN                    0     Transient  145.00   \n",
       "12  240.0     NaN                    0     Transient   97.00   \n",
       "13  241.0     NaN                    0     Transient  154.77   \n",
       "14  241.0     NaN                    0     Transient   94.71   \n",
       "15  240.0     NaN                    0     Transient   97.00   \n",
       "16    8.0     NaN                    0      Contract   97.50   \n",
       "17  240.0     NaN                    0     Transient   88.20   \n",
       "18    NaN   110.0                    0     Transient  107.42   \n",
       "19  250.0     NaN                    0     Transient  153.00   \n",
       "\n",
       "    required_car_parking_spaces  total_of_special_requests  \\\n",
       "0                             0                          0   \n",
       "1                             0                          0   \n",
       "2                             0                          0   \n",
       "3                             0                          0   \n",
       "4                             0                          1   \n",
       "5                             0                          1   \n",
       "6                             0                          0   \n",
       "7                             0                          1   \n",
       "8                             0                          1   \n",
       "9                             0                          0   \n",
       "10                            0                          0   \n",
       "11                            0                          0   \n",
       "12                            0                          3   \n",
       "13                            0                          1   \n",
       "14                            0                          0   \n",
       "15                            0                          3   \n",
       "16                            0                          0   \n",
       "17                            0                          0   \n",
       "18                            0                          0   \n",
       "19                            0                          1   \n",
       "\n",
       "    reservation_status reservation_status_date  \n",
       "0            Check-Out              2015-07-01  \n",
       "1            Check-Out              2015-07-01  \n",
       "2            Check-Out              2015-07-02  \n",
       "3            Check-Out              2015-07-02  \n",
       "4            Check-Out              2015-07-03  \n",
       "5            Check-Out              2015-07-03  \n",
       "6            Check-Out              2015-07-03  \n",
       "7            Check-Out              2015-07-03  \n",
       "8             Canceled              2015-05-06  \n",
       "9             Canceled              2015-04-22  \n",
       "10            Canceled              2015-06-23  \n",
       "11           Check-Out              2015-07-05  \n",
       "12           Check-Out              2015-07-05  \n",
       "13           Check-Out              2015-07-05  \n",
       "14           Check-Out              2015-07-05  \n",
       "15           Check-Out              2015-07-05  \n",
       "16           Check-Out              2015-07-05  \n",
       "17           Check-Out              2015-07-02  \n",
       "18           Check-Out              2015-07-02  \n",
       "19           Check-Out              2015-07-05  \n",
       "\n",
       "[20 rows x 32 columns]"
      ]
     },
     "execution_count": 2,
     "metadata": {},
     "output_type": "execute_result"
    }
   ],
   "source": [
    "df=pd.read_csv('hotel_bookings (1).csv')\n",
    "df.head(20)"
   ]
  },
  {
   "cell_type": "code",
   "execution_count": 3,
   "id": "0d94381f",
   "metadata": {},
   "outputs": [
    {
     "name": "stdout",
     "output_type": "stream",
     "text": [
      "<class 'pandas.core.frame.DataFrame'>\n",
      "RangeIndex: 119390 entries, 0 to 119389\n",
      "Data columns (total 32 columns):\n",
      " #   Column                          Non-Null Count   Dtype  \n",
      "---  ------                          --------------   -----  \n",
      " 0   hotel                           119390 non-null  object \n",
      " 1   is_canceled                     119390 non-null  int64  \n",
      " 2   lead_time                       119390 non-null  int64  \n",
      " 3   arrival_date_year               119390 non-null  int64  \n",
      " 4   arrival_date_month              119390 non-null  object \n",
      " 5   arrival_date_week_number        119390 non-null  int64  \n",
      " 6   arrival_date_day_of_month       119390 non-null  int64  \n",
      " 7   stays_in_weekend_nights         119390 non-null  int64  \n",
      " 8   stays_in_week_nights            119390 non-null  int64  \n",
      " 9   adults                          119390 non-null  int64  \n",
      " 10  children                        119386 non-null  float64\n",
      " 11  babies                          119390 non-null  int64  \n",
      " 12  meal                            119390 non-null  object \n",
      " 13  country                         118902 non-null  object \n",
      " 14  market_segment                  119390 non-null  object \n",
      " 15  distribution_channel            119390 non-null  object \n",
      " 16  is_repeated_guest               119390 non-null  int64  \n",
      " 17  previous_cancellations          119390 non-null  int64  \n",
      " 18  previous_bookings_not_canceled  119390 non-null  int64  \n",
      " 19  reserved_room_type              119390 non-null  object \n",
      " 20  assigned_room_type              119390 non-null  object \n",
      " 21  booking_changes                 119390 non-null  int64  \n",
      " 22  deposit_type                    119390 non-null  object \n",
      " 23  agent                           103050 non-null  float64\n",
      " 24  company                         6797 non-null    float64\n",
      " 25  days_in_waiting_list            119390 non-null  int64  \n",
      " 26  customer_type                   119390 non-null  object \n",
      " 27  adr                             119390 non-null  float64\n",
      " 28  required_car_parking_spaces     119390 non-null  int64  \n",
      " 29  total_of_special_requests       119390 non-null  int64  \n",
      " 30  reservation_status              119390 non-null  object \n",
      " 31  reservation_status_date         119390 non-null  object \n",
      "dtypes: float64(4), int64(16), object(12)\n",
      "memory usage: 29.1+ MB\n"
     ]
    }
   ],
   "source": [
    "df.info()"
   ]
  },
  {
   "cell_type": "markdown",
   "id": "9ce5441a",
   "metadata": {},
   "source": [
    "# Removing duplicates"
   ]
  },
  {
   "cell_type": "code",
   "execution_count": 4,
   "id": "377041c9",
   "metadata": {},
   "outputs": [
    {
     "data": {
      "text/html": [
       "<div>\n",
       "<style scoped>\n",
       "    .dataframe tbody tr th:only-of-type {\n",
       "        vertical-align: middle;\n",
       "    }\n",
       "\n",
       "    .dataframe tbody tr th {\n",
       "        vertical-align: top;\n",
       "    }\n",
       "\n",
       "    .dataframe thead th {\n",
       "        text-align: right;\n",
       "    }\n",
       "</style>\n",
       "<table border=\"1\" class=\"dataframe\">\n",
       "  <thead>\n",
       "    <tr style=\"text-align: right;\">\n",
       "      <th></th>\n",
       "      <th>hotel</th>\n",
       "      <th>is_canceled</th>\n",
       "      <th>lead_time</th>\n",
       "      <th>arrival_date_year</th>\n",
       "      <th>arrival_date_month</th>\n",
       "      <th>arrival_date_week_number</th>\n",
       "      <th>arrival_date_day_of_month</th>\n",
       "      <th>stays_in_weekend_nights</th>\n",
       "      <th>stays_in_week_nights</th>\n",
       "      <th>adults</th>\n",
       "      <th>...</th>\n",
       "      <th>deposit_type</th>\n",
       "      <th>agent</th>\n",
       "      <th>company</th>\n",
       "      <th>days_in_waiting_list</th>\n",
       "      <th>customer_type</th>\n",
       "      <th>adr</th>\n",
       "      <th>required_car_parking_spaces</th>\n",
       "      <th>total_of_special_requests</th>\n",
       "      <th>reservation_status</th>\n",
       "      <th>reservation_status_date</th>\n",
       "    </tr>\n",
       "  </thead>\n",
       "  <tbody>\n",
       "    <tr>\n",
       "      <th>0</th>\n",
       "      <td>Resort Hotel</td>\n",
       "      <td>0</td>\n",
       "      <td>342</td>\n",
       "      <td>2015</td>\n",
       "      <td>July</td>\n",
       "      <td>27</td>\n",
       "      <td>1</td>\n",
       "      <td>0</td>\n",
       "      <td>0</td>\n",
       "      <td>2</td>\n",
       "      <td>...</td>\n",
       "      <td>No Deposit</td>\n",
       "      <td>NaN</td>\n",
       "      <td>NaN</td>\n",
       "      <td>0</td>\n",
       "      <td>Transient</td>\n",
       "      <td>0.0</td>\n",
       "      <td>0</td>\n",
       "      <td>0</td>\n",
       "      <td>Check-Out</td>\n",
       "      <td>2015-07-01</td>\n",
       "    </tr>\n",
       "    <tr>\n",
       "      <th>1</th>\n",
       "      <td>Resort Hotel</td>\n",
       "      <td>0</td>\n",
       "      <td>737</td>\n",
       "      <td>2015</td>\n",
       "      <td>July</td>\n",
       "      <td>27</td>\n",
       "      <td>1</td>\n",
       "      <td>0</td>\n",
       "      <td>0</td>\n",
       "      <td>2</td>\n",
       "      <td>...</td>\n",
       "      <td>No Deposit</td>\n",
       "      <td>NaN</td>\n",
       "      <td>NaN</td>\n",
       "      <td>0</td>\n",
       "      <td>Transient</td>\n",
       "      <td>0.0</td>\n",
       "      <td>0</td>\n",
       "      <td>0</td>\n",
       "      <td>Check-Out</td>\n",
       "      <td>2015-07-01</td>\n",
       "    </tr>\n",
       "    <tr>\n",
       "      <th>2</th>\n",
       "      <td>Resort Hotel</td>\n",
       "      <td>0</td>\n",
       "      <td>7</td>\n",
       "      <td>2015</td>\n",
       "      <td>July</td>\n",
       "      <td>27</td>\n",
       "      <td>1</td>\n",
       "      <td>0</td>\n",
       "      <td>1</td>\n",
       "      <td>1</td>\n",
       "      <td>...</td>\n",
       "      <td>No Deposit</td>\n",
       "      <td>NaN</td>\n",
       "      <td>NaN</td>\n",
       "      <td>0</td>\n",
       "      <td>Transient</td>\n",
       "      <td>75.0</td>\n",
       "      <td>0</td>\n",
       "      <td>0</td>\n",
       "      <td>Check-Out</td>\n",
       "      <td>2015-07-02</td>\n",
       "    </tr>\n",
       "    <tr>\n",
       "      <th>3</th>\n",
       "      <td>Resort Hotel</td>\n",
       "      <td>0</td>\n",
       "      <td>13</td>\n",
       "      <td>2015</td>\n",
       "      <td>July</td>\n",
       "      <td>27</td>\n",
       "      <td>1</td>\n",
       "      <td>0</td>\n",
       "      <td>1</td>\n",
       "      <td>1</td>\n",
       "      <td>...</td>\n",
       "      <td>No Deposit</td>\n",
       "      <td>304.0</td>\n",
       "      <td>NaN</td>\n",
       "      <td>0</td>\n",
       "      <td>Transient</td>\n",
       "      <td>75.0</td>\n",
       "      <td>0</td>\n",
       "      <td>0</td>\n",
       "      <td>Check-Out</td>\n",
       "      <td>2015-07-02</td>\n",
       "    </tr>\n",
       "    <tr>\n",
       "      <th>4</th>\n",
       "      <td>Resort Hotel</td>\n",
       "      <td>0</td>\n",
       "      <td>14</td>\n",
       "      <td>2015</td>\n",
       "      <td>July</td>\n",
       "      <td>27</td>\n",
       "      <td>1</td>\n",
       "      <td>0</td>\n",
       "      <td>2</td>\n",
       "      <td>2</td>\n",
       "      <td>...</td>\n",
       "      <td>No Deposit</td>\n",
       "      <td>240.0</td>\n",
       "      <td>NaN</td>\n",
       "      <td>0</td>\n",
       "      <td>Transient</td>\n",
       "      <td>98.0</td>\n",
       "      <td>0</td>\n",
       "      <td>1</td>\n",
       "      <td>Check-Out</td>\n",
       "      <td>2015-07-03</td>\n",
       "    </tr>\n",
       "  </tbody>\n",
       "</table>\n",
       "<p>5 rows × 32 columns</p>\n",
       "</div>"
      ],
      "text/plain": [
       "          hotel  is_canceled  lead_time  arrival_date_year arrival_date_month  \\\n",
       "0  Resort Hotel            0        342               2015               July   \n",
       "1  Resort Hotel            0        737               2015               July   \n",
       "2  Resort Hotel            0          7               2015               July   \n",
       "3  Resort Hotel            0         13               2015               July   \n",
       "4  Resort Hotel            0         14               2015               July   \n",
       "\n",
       "   arrival_date_week_number  arrival_date_day_of_month  \\\n",
       "0                        27                          1   \n",
       "1                        27                          1   \n",
       "2                        27                          1   \n",
       "3                        27                          1   \n",
       "4                        27                          1   \n",
       "\n",
       "   stays_in_weekend_nights  stays_in_week_nights  adults  ...  deposit_type  \\\n",
       "0                        0                     0       2  ...    No Deposit   \n",
       "1                        0                     0       2  ...    No Deposit   \n",
       "2                        0                     1       1  ...    No Deposit   \n",
       "3                        0                     1       1  ...    No Deposit   \n",
       "4                        0                     2       2  ...    No Deposit   \n",
       "\n",
       "   agent company days_in_waiting_list customer_type   adr  \\\n",
       "0    NaN     NaN                    0     Transient   0.0   \n",
       "1    NaN     NaN                    0     Transient   0.0   \n",
       "2    NaN     NaN                    0     Transient  75.0   \n",
       "3  304.0     NaN                    0     Transient  75.0   \n",
       "4  240.0     NaN                    0     Transient  98.0   \n",
       "\n",
       "   required_car_parking_spaces  total_of_special_requests  reservation_status  \\\n",
       "0                            0                          0           Check-Out   \n",
       "1                            0                          0           Check-Out   \n",
       "2                            0                          0           Check-Out   \n",
       "3                            0                          0           Check-Out   \n",
       "4                            0                          1           Check-Out   \n",
       "\n",
       "  reservation_status_date  \n",
       "0              2015-07-01  \n",
       "1              2015-07-01  \n",
       "2              2015-07-02  \n",
       "3              2015-07-02  \n",
       "4              2015-07-03  \n",
       "\n",
       "[5 rows x 32 columns]"
      ]
     },
     "execution_count": 4,
     "metadata": {},
     "output_type": "execute_result"
    }
   ],
   "source": [
    "df=df.drop_duplicates()\n",
    "df.reset_index(drop=True,inplace=True)\n",
    "df.head()"
   ]
  },
  {
   "cell_type": "code",
   "execution_count": 5,
   "id": "ea67ebea",
   "metadata": {},
   "outputs": [
    {
     "name": "stdout",
     "output_type": "stream",
     "text": [
      "<class 'pandas.core.frame.DataFrame'>\n",
      "RangeIndex: 87396 entries, 0 to 87395\n",
      "Data columns (total 32 columns):\n",
      " #   Column                          Non-Null Count  Dtype  \n",
      "---  ------                          --------------  -----  \n",
      " 0   hotel                           87396 non-null  object \n",
      " 1   is_canceled                     87396 non-null  int64  \n",
      " 2   lead_time                       87396 non-null  int64  \n",
      " 3   arrival_date_year               87396 non-null  int64  \n",
      " 4   arrival_date_month              87396 non-null  object \n",
      " 5   arrival_date_week_number        87396 non-null  int64  \n",
      " 6   arrival_date_day_of_month       87396 non-null  int64  \n",
      " 7   stays_in_weekend_nights         87396 non-null  int64  \n",
      " 8   stays_in_week_nights            87396 non-null  int64  \n",
      " 9   adults                          87396 non-null  int64  \n",
      " 10  children                        87392 non-null  float64\n",
      " 11  babies                          87396 non-null  int64  \n",
      " 12  meal                            87396 non-null  object \n",
      " 13  country                         86944 non-null  object \n",
      " 14  market_segment                  87396 non-null  object \n",
      " 15  distribution_channel            87396 non-null  object \n",
      " 16  is_repeated_guest               87396 non-null  int64  \n",
      " 17  previous_cancellations          87396 non-null  int64  \n",
      " 18  previous_bookings_not_canceled  87396 non-null  int64  \n",
      " 19  reserved_room_type              87396 non-null  object \n",
      " 20  assigned_room_type              87396 non-null  object \n",
      " 21  booking_changes                 87396 non-null  int64  \n",
      " 22  deposit_type                    87396 non-null  object \n",
      " 23  agent                           75203 non-null  float64\n",
      " 24  company                         5259 non-null   float64\n",
      " 25  days_in_waiting_list            87396 non-null  int64  \n",
      " 26  customer_type                   87396 non-null  object \n",
      " 27  adr                             87396 non-null  float64\n",
      " 28  required_car_parking_spaces     87396 non-null  int64  \n",
      " 29  total_of_special_requests       87396 non-null  int64  \n",
      " 30  reservation_status              87396 non-null  object \n",
      " 31  reservation_status_date         87396 non-null  object \n",
      "dtypes: float64(4), int64(16), object(12)\n",
      "memory usage: 21.3+ MB\n"
     ]
    }
   ],
   "source": [
    "df.info()"
   ]
  },
  {
   "cell_type": "code",
   "execution_count": 6,
   "id": "87b28163",
   "metadata": {},
   "outputs": [
    {
     "data": {
      "text/html": [
       "<div>\n",
       "<style scoped>\n",
       "    .dataframe tbody tr th:only-of-type {\n",
       "        vertical-align: middle;\n",
       "    }\n",
       "\n",
       "    .dataframe tbody tr th {\n",
       "        vertical-align: top;\n",
       "    }\n",
       "\n",
       "    .dataframe thead th {\n",
       "        text-align: right;\n",
       "    }\n",
       "</style>\n",
       "<table border=\"1\" class=\"dataframe\">\n",
       "  <thead>\n",
       "    <tr style=\"text-align: right;\">\n",
       "      <th></th>\n",
       "      <th>is_canceled</th>\n",
       "      <th>lead_time</th>\n",
       "      <th>arrival_date_year</th>\n",
       "      <th>arrival_date_week_number</th>\n",
       "      <th>arrival_date_day_of_month</th>\n",
       "      <th>stays_in_weekend_nights</th>\n",
       "      <th>stays_in_week_nights</th>\n",
       "      <th>adults</th>\n",
       "      <th>children</th>\n",
       "      <th>babies</th>\n",
       "      <th>is_repeated_guest</th>\n",
       "      <th>previous_cancellations</th>\n",
       "      <th>previous_bookings_not_canceled</th>\n",
       "      <th>booking_changes</th>\n",
       "      <th>agent</th>\n",
       "      <th>company</th>\n",
       "      <th>days_in_waiting_list</th>\n",
       "      <th>adr</th>\n",
       "      <th>required_car_parking_spaces</th>\n",
       "      <th>total_of_special_requests</th>\n",
       "    </tr>\n",
       "  </thead>\n",
       "  <tbody>\n",
       "    <tr>\n",
       "      <th>count</th>\n",
       "      <td>87396.000000</td>\n",
       "      <td>87396.000000</td>\n",
       "      <td>87396.000000</td>\n",
       "      <td>87396.000000</td>\n",
       "      <td>87396.000000</td>\n",
       "      <td>87396.000000</td>\n",
       "      <td>87396.000000</td>\n",
       "      <td>87396.000000</td>\n",
       "      <td>87392.000000</td>\n",
       "      <td>87396.000000</td>\n",
       "      <td>87396.000000</td>\n",
       "      <td>87396.000000</td>\n",
       "      <td>87396.000000</td>\n",
       "      <td>87396.000000</td>\n",
       "      <td>75203.000000</td>\n",
       "      <td>5259.000000</td>\n",
       "      <td>87396.000000</td>\n",
       "      <td>87396.000000</td>\n",
       "      <td>87396.000000</td>\n",
       "      <td>87396.000000</td>\n",
       "    </tr>\n",
       "    <tr>\n",
       "      <th>mean</th>\n",
       "      <td>0.274898</td>\n",
       "      <td>79.891368</td>\n",
       "      <td>2016.210296</td>\n",
       "      <td>26.838334</td>\n",
       "      <td>15.815541</td>\n",
       "      <td>1.005263</td>\n",
       "      <td>2.625395</td>\n",
       "      <td>1.875795</td>\n",
       "      <td>0.138640</td>\n",
       "      <td>0.010824</td>\n",
       "      <td>0.039075</td>\n",
       "      <td>0.030413</td>\n",
       "      <td>0.183990</td>\n",
       "      <td>0.271603</td>\n",
       "      <td>94.138306</td>\n",
       "      <td>183.081384</td>\n",
       "      <td>0.749565</td>\n",
       "      <td>106.337246</td>\n",
       "      <td>0.084226</td>\n",
       "      <td>0.698567</td>\n",
       "    </tr>\n",
       "    <tr>\n",
       "      <th>std</th>\n",
       "      <td>0.446466</td>\n",
       "      <td>86.052325</td>\n",
       "      <td>0.686102</td>\n",
       "      <td>13.674572</td>\n",
       "      <td>8.835146</td>\n",
       "      <td>1.031921</td>\n",
       "      <td>2.053584</td>\n",
       "      <td>0.626500</td>\n",
       "      <td>0.455881</td>\n",
       "      <td>0.113597</td>\n",
       "      <td>0.193775</td>\n",
       "      <td>0.369145</td>\n",
       "      <td>1.731894</td>\n",
       "      <td>0.727245</td>\n",
       "      <td>113.188172</td>\n",
       "      <td>130.557608</td>\n",
       "      <td>10.015731</td>\n",
       "      <td>55.013953</td>\n",
       "      <td>0.281533</td>\n",
       "      <td>0.831946</td>\n",
       "    </tr>\n",
       "    <tr>\n",
       "      <th>min</th>\n",
       "      <td>0.000000</td>\n",
       "      <td>0.000000</td>\n",
       "      <td>2015.000000</td>\n",
       "      <td>1.000000</td>\n",
       "      <td>1.000000</td>\n",
       "      <td>0.000000</td>\n",
       "      <td>0.000000</td>\n",
       "      <td>0.000000</td>\n",
       "      <td>0.000000</td>\n",
       "      <td>0.000000</td>\n",
       "      <td>0.000000</td>\n",
       "      <td>0.000000</td>\n",
       "      <td>0.000000</td>\n",
       "      <td>0.000000</td>\n",
       "      <td>1.000000</td>\n",
       "      <td>6.000000</td>\n",
       "      <td>0.000000</td>\n",
       "      <td>-6.380000</td>\n",
       "      <td>0.000000</td>\n",
       "      <td>0.000000</td>\n",
       "    </tr>\n",
       "    <tr>\n",
       "      <th>25%</th>\n",
       "      <td>0.000000</td>\n",
       "      <td>11.000000</td>\n",
       "      <td>2016.000000</td>\n",
       "      <td>16.000000</td>\n",
       "      <td>8.000000</td>\n",
       "      <td>0.000000</td>\n",
       "      <td>1.000000</td>\n",
       "      <td>2.000000</td>\n",
       "      <td>0.000000</td>\n",
       "      <td>0.000000</td>\n",
       "      <td>0.000000</td>\n",
       "      <td>0.000000</td>\n",
       "      <td>0.000000</td>\n",
       "      <td>0.000000</td>\n",
       "      <td>9.000000</td>\n",
       "      <td>47.000000</td>\n",
       "      <td>0.000000</td>\n",
       "      <td>72.000000</td>\n",
       "      <td>0.000000</td>\n",
       "      <td>0.000000</td>\n",
       "    </tr>\n",
       "    <tr>\n",
       "      <th>50%</th>\n",
       "      <td>0.000000</td>\n",
       "      <td>49.000000</td>\n",
       "      <td>2016.000000</td>\n",
       "      <td>27.000000</td>\n",
       "      <td>16.000000</td>\n",
       "      <td>1.000000</td>\n",
       "      <td>2.000000</td>\n",
       "      <td>2.000000</td>\n",
       "      <td>0.000000</td>\n",
       "      <td>0.000000</td>\n",
       "      <td>0.000000</td>\n",
       "      <td>0.000000</td>\n",
       "      <td>0.000000</td>\n",
       "      <td>0.000000</td>\n",
       "      <td>14.000000</td>\n",
       "      <td>169.000000</td>\n",
       "      <td>0.000000</td>\n",
       "      <td>98.100000</td>\n",
       "      <td>0.000000</td>\n",
       "      <td>0.000000</td>\n",
       "    </tr>\n",
       "    <tr>\n",
       "      <th>75%</th>\n",
       "      <td>1.000000</td>\n",
       "      <td>125.000000</td>\n",
       "      <td>2017.000000</td>\n",
       "      <td>37.000000</td>\n",
       "      <td>23.000000</td>\n",
       "      <td>2.000000</td>\n",
       "      <td>4.000000</td>\n",
       "      <td>2.000000</td>\n",
       "      <td>0.000000</td>\n",
       "      <td>0.000000</td>\n",
       "      <td>0.000000</td>\n",
       "      <td>0.000000</td>\n",
       "      <td>0.000000</td>\n",
       "      <td>0.000000</td>\n",
       "      <td>240.000000</td>\n",
       "      <td>263.000000</td>\n",
       "      <td>0.000000</td>\n",
       "      <td>134.000000</td>\n",
       "      <td>0.000000</td>\n",
       "      <td>1.000000</td>\n",
       "    </tr>\n",
       "    <tr>\n",
       "      <th>max</th>\n",
       "      <td>1.000000</td>\n",
       "      <td>737.000000</td>\n",
       "      <td>2017.000000</td>\n",
       "      <td>53.000000</td>\n",
       "      <td>31.000000</td>\n",
       "      <td>19.000000</td>\n",
       "      <td>50.000000</td>\n",
       "      <td>55.000000</td>\n",
       "      <td>10.000000</td>\n",
       "      <td>10.000000</td>\n",
       "      <td>1.000000</td>\n",
       "      <td>26.000000</td>\n",
       "      <td>72.000000</td>\n",
       "      <td>21.000000</td>\n",
       "      <td>535.000000</td>\n",
       "      <td>543.000000</td>\n",
       "      <td>391.000000</td>\n",
       "      <td>5400.000000</td>\n",
       "      <td>8.000000</td>\n",
       "      <td>5.000000</td>\n",
       "    </tr>\n",
       "  </tbody>\n",
       "</table>\n",
       "</div>"
      ],
      "text/plain": [
       "        is_canceled     lead_time  arrival_date_year  \\\n",
       "count  87396.000000  87396.000000       87396.000000   \n",
       "mean       0.274898     79.891368        2016.210296   \n",
       "std        0.446466     86.052325           0.686102   \n",
       "min        0.000000      0.000000        2015.000000   \n",
       "25%        0.000000     11.000000        2016.000000   \n",
       "50%        0.000000     49.000000        2016.000000   \n",
       "75%        1.000000    125.000000        2017.000000   \n",
       "max        1.000000    737.000000        2017.000000   \n",
       "\n",
       "       arrival_date_week_number  arrival_date_day_of_month  \\\n",
       "count              87396.000000               87396.000000   \n",
       "mean                  26.838334                  15.815541   \n",
       "std                   13.674572                   8.835146   \n",
       "min                    1.000000                   1.000000   \n",
       "25%                   16.000000                   8.000000   \n",
       "50%                   27.000000                  16.000000   \n",
       "75%                   37.000000                  23.000000   \n",
       "max                   53.000000                  31.000000   \n",
       "\n",
       "       stays_in_weekend_nights  stays_in_week_nights        adults  \\\n",
       "count             87396.000000          87396.000000  87396.000000   \n",
       "mean                  1.005263              2.625395      1.875795   \n",
       "std                   1.031921              2.053584      0.626500   \n",
       "min                   0.000000              0.000000      0.000000   \n",
       "25%                   0.000000              1.000000      2.000000   \n",
       "50%                   1.000000              2.000000      2.000000   \n",
       "75%                   2.000000              4.000000      2.000000   \n",
       "max                  19.000000             50.000000     55.000000   \n",
       "\n",
       "           children        babies  is_repeated_guest  previous_cancellations  \\\n",
       "count  87392.000000  87396.000000       87396.000000            87396.000000   \n",
       "mean       0.138640      0.010824           0.039075                0.030413   \n",
       "std        0.455881      0.113597           0.193775                0.369145   \n",
       "min        0.000000      0.000000           0.000000                0.000000   \n",
       "25%        0.000000      0.000000           0.000000                0.000000   \n",
       "50%        0.000000      0.000000           0.000000                0.000000   \n",
       "75%        0.000000      0.000000           0.000000                0.000000   \n",
       "max       10.000000     10.000000           1.000000               26.000000   \n",
       "\n",
       "       previous_bookings_not_canceled  booking_changes         agent  \\\n",
       "count                    87396.000000     87396.000000  75203.000000   \n",
       "mean                         0.183990         0.271603     94.138306   \n",
       "std                          1.731894         0.727245    113.188172   \n",
       "min                          0.000000         0.000000      1.000000   \n",
       "25%                          0.000000         0.000000      9.000000   \n",
       "50%                          0.000000         0.000000     14.000000   \n",
       "75%                          0.000000         0.000000    240.000000   \n",
       "max                         72.000000        21.000000    535.000000   \n",
       "\n",
       "           company  days_in_waiting_list           adr  \\\n",
       "count  5259.000000          87396.000000  87396.000000   \n",
       "mean    183.081384              0.749565    106.337246   \n",
       "std     130.557608             10.015731     55.013953   \n",
       "min       6.000000              0.000000     -6.380000   \n",
       "25%      47.000000              0.000000     72.000000   \n",
       "50%     169.000000              0.000000     98.100000   \n",
       "75%     263.000000              0.000000    134.000000   \n",
       "max     543.000000            391.000000   5400.000000   \n",
       "\n",
       "       required_car_parking_spaces  total_of_special_requests  \n",
       "count                 87396.000000               87396.000000  \n",
       "mean                      0.084226                   0.698567  \n",
       "std                       0.281533                   0.831946  \n",
       "min                       0.000000                   0.000000  \n",
       "25%                       0.000000                   0.000000  \n",
       "50%                       0.000000                   0.000000  \n",
       "75%                       0.000000                   1.000000  \n",
       "max                       8.000000                   5.000000  "
      ]
     },
     "execution_count": 6,
     "metadata": {},
     "output_type": "execute_result"
    }
   ],
   "source": [
    "df.describe()"
   ]
  },
  {
   "cell_type": "code",
   "execution_count": 7,
   "id": "a195f61a",
   "metadata": {},
   "outputs": [
    {
     "data": {
      "text/html": [
       "<div>\n",
       "<style scoped>\n",
       "    .dataframe tbody tr th:only-of-type {\n",
       "        vertical-align: middle;\n",
       "    }\n",
       "\n",
       "    .dataframe tbody tr th {\n",
       "        vertical-align: top;\n",
       "    }\n",
       "\n",
       "    .dataframe thead th {\n",
       "        text-align: right;\n",
       "    }\n",
       "</style>\n",
       "<table border=\"1\" class=\"dataframe\">\n",
       "  <thead>\n",
       "    <tr style=\"text-align: right;\">\n",
       "      <th></th>\n",
       "      <th>hotel</th>\n",
       "      <th>arrival_date_month</th>\n",
       "      <th>meal</th>\n",
       "      <th>country</th>\n",
       "      <th>market_segment</th>\n",
       "      <th>distribution_channel</th>\n",
       "      <th>reserved_room_type</th>\n",
       "      <th>assigned_room_type</th>\n",
       "      <th>deposit_type</th>\n",
       "      <th>customer_type</th>\n",
       "      <th>reservation_status</th>\n",
       "      <th>reservation_status_date</th>\n",
       "    </tr>\n",
       "  </thead>\n",
       "  <tbody>\n",
       "    <tr>\n",
       "      <th>count</th>\n",
       "      <td>87396</td>\n",
       "      <td>87396</td>\n",
       "      <td>87396</td>\n",
       "      <td>86944</td>\n",
       "      <td>87396</td>\n",
       "      <td>87396</td>\n",
       "      <td>87396</td>\n",
       "      <td>87396</td>\n",
       "      <td>87396</td>\n",
       "      <td>87396</td>\n",
       "      <td>87396</td>\n",
       "      <td>87396</td>\n",
       "    </tr>\n",
       "    <tr>\n",
       "      <th>unique</th>\n",
       "      <td>2</td>\n",
       "      <td>12</td>\n",
       "      <td>5</td>\n",
       "      <td>177</td>\n",
       "      <td>8</td>\n",
       "      <td>5</td>\n",
       "      <td>10</td>\n",
       "      <td>12</td>\n",
       "      <td>3</td>\n",
       "      <td>4</td>\n",
       "      <td>3</td>\n",
       "      <td>926</td>\n",
       "    </tr>\n",
       "    <tr>\n",
       "      <th>top</th>\n",
       "      <td>City Hotel</td>\n",
       "      <td>August</td>\n",
       "      <td>BB</td>\n",
       "      <td>PRT</td>\n",
       "      <td>Online TA</td>\n",
       "      <td>TA/TO</td>\n",
       "      <td>A</td>\n",
       "      <td>A</td>\n",
       "      <td>No Deposit</td>\n",
       "      <td>Transient</td>\n",
       "      <td>Check-Out</td>\n",
       "      <td>2016-02-14</td>\n",
       "    </tr>\n",
       "    <tr>\n",
       "      <th>freq</th>\n",
       "      <td>53428</td>\n",
       "      <td>11257</td>\n",
       "      <td>67978</td>\n",
       "      <td>27453</td>\n",
       "      <td>51618</td>\n",
       "      <td>69141</td>\n",
       "      <td>56552</td>\n",
       "      <td>46313</td>\n",
       "      <td>86251</td>\n",
       "      <td>71986</td>\n",
       "      <td>63371</td>\n",
       "      <td>211</td>\n",
       "    </tr>\n",
       "  </tbody>\n",
       "</table>\n",
       "</div>"
      ],
      "text/plain": [
       "             hotel arrival_date_month   meal country market_segment  \\\n",
       "count        87396              87396  87396   86944          87396   \n",
       "unique           2                 12      5     177              8   \n",
       "top     City Hotel             August     BB     PRT      Online TA   \n",
       "freq         53428              11257  67978   27453          51618   \n",
       "\n",
       "       distribution_channel reserved_room_type assigned_room_type  \\\n",
       "count                 87396              87396              87396   \n",
       "unique                    5                 10                 12   \n",
       "top                   TA/TO                  A                  A   \n",
       "freq                  69141              56552              46313   \n",
       "\n",
       "       deposit_type customer_type reservation_status reservation_status_date  \n",
       "count         87396         87396              87396                   87396  \n",
       "unique            3             4                  3                     926  \n",
       "top      No Deposit     Transient          Check-Out              2016-02-14  \n",
       "freq          86251         71986              63371                     211  "
      ]
     },
     "execution_count": 7,
     "metadata": {},
     "output_type": "execute_result"
    }
   ],
   "source": [
    "df.describe(include=object)"
   ]
  },
  {
   "cell_type": "markdown",
   "id": "a07784e6",
   "metadata": {},
   "source": [
    "##  Identifying the Target Variable"
   ]
  },
  {
   "cell_type": "markdown",
   "id": "c1c03c24",
   "metadata": {},
   "source": [
    "'is_canceled' is the target column in the dataset and it has no missing values. It takes two values 1 for cancelled status and 0 for not cancelled."
   ]
  },
  {
   "cell_type": "code",
   "execution_count": 8,
   "id": "fab18802",
   "metadata": {},
   "outputs": [
    {
     "data": {
      "text/plain": [
       "0    63371\n",
       "1    24025\n",
       "Name: is_canceled, dtype: int64"
      ]
     },
     "execution_count": 8,
     "metadata": {},
     "output_type": "execute_result"
    }
   ],
   "source": [
    "df[\"is_canceled\"].value_counts()"
   ]
  },
  {
   "cell_type": "markdown",
   "id": "0d044706",
   "metadata": {},
   "source": [
    "# EDA\n",
    "## Find Missing Values"
   ]
  },
  {
   "cell_type": "code",
   "execution_count": 9,
   "id": "1cf4e3a7",
   "metadata": {},
   "outputs": [
    {
     "data": {
      "text/html": [
       "<div>\n",
       "<style scoped>\n",
       "    .dataframe tbody tr th:only-of-type {\n",
       "        vertical-align: middle;\n",
       "    }\n",
       "\n",
       "    .dataframe tbody tr th {\n",
       "        vertical-align: top;\n",
       "    }\n",
       "\n",
       "    .dataframe thead th {\n",
       "        text-align: right;\n",
       "    }\n",
       "</style>\n",
       "<table border=\"1\" class=\"dataframe\">\n",
       "  <thead>\n",
       "    <tr style=\"text-align: right;\">\n",
       "      <th></th>\n",
       "      <th>col_name</th>\n",
       "      <th>null_count</th>\n",
       "      <th>nulls_percentage</th>\n",
       "    </tr>\n",
       "  </thead>\n",
       "  <tbody>\n",
       "    <tr>\n",
       "      <th>hotel</th>\n",
       "      <td>hotel</td>\n",
       "      <td>0</td>\n",
       "      <td>0.00</td>\n",
       "    </tr>\n",
       "    <tr>\n",
       "      <th>is_canceled</th>\n",
       "      <td>is_canceled</td>\n",
       "      <td>0</td>\n",
       "      <td>0.00</td>\n",
       "    </tr>\n",
       "    <tr>\n",
       "      <th>lead_time</th>\n",
       "      <td>lead_time</td>\n",
       "      <td>0</td>\n",
       "      <td>0.00</td>\n",
       "    </tr>\n",
       "    <tr>\n",
       "      <th>arrival_date_year</th>\n",
       "      <td>arrival_date_year</td>\n",
       "      <td>0</td>\n",
       "      <td>0.00</td>\n",
       "    </tr>\n",
       "    <tr>\n",
       "      <th>arrival_date_month</th>\n",
       "      <td>arrival_date_month</td>\n",
       "      <td>0</td>\n",
       "      <td>0.00</td>\n",
       "    </tr>\n",
       "    <tr>\n",
       "      <th>arrival_date_week_number</th>\n",
       "      <td>arrival_date_week_number</td>\n",
       "      <td>0</td>\n",
       "      <td>0.00</td>\n",
       "    </tr>\n",
       "    <tr>\n",
       "      <th>arrival_date_day_of_month</th>\n",
       "      <td>arrival_date_day_of_month</td>\n",
       "      <td>0</td>\n",
       "      <td>0.00</td>\n",
       "    </tr>\n",
       "    <tr>\n",
       "      <th>stays_in_weekend_nights</th>\n",
       "      <td>stays_in_weekend_nights</td>\n",
       "      <td>0</td>\n",
       "      <td>0.00</td>\n",
       "    </tr>\n",
       "    <tr>\n",
       "      <th>stays_in_week_nights</th>\n",
       "      <td>stays_in_week_nights</td>\n",
       "      <td>0</td>\n",
       "      <td>0.00</td>\n",
       "    </tr>\n",
       "    <tr>\n",
       "      <th>adults</th>\n",
       "      <td>adults</td>\n",
       "      <td>0</td>\n",
       "      <td>0.00</td>\n",
       "    </tr>\n",
       "    <tr>\n",
       "      <th>children</th>\n",
       "      <td>children</td>\n",
       "      <td>4</td>\n",
       "      <td>0.00</td>\n",
       "    </tr>\n",
       "    <tr>\n",
       "      <th>babies</th>\n",
       "      <td>babies</td>\n",
       "      <td>0</td>\n",
       "      <td>0.00</td>\n",
       "    </tr>\n",
       "    <tr>\n",
       "      <th>meal</th>\n",
       "      <td>meal</td>\n",
       "      <td>0</td>\n",
       "      <td>0.00</td>\n",
       "    </tr>\n",
       "    <tr>\n",
       "      <th>country</th>\n",
       "      <td>country</td>\n",
       "      <td>452</td>\n",
       "      <td>0.52</td>\n",
       "    </tr>\n",
       "    <tr>\n",
       "      <th>market_segment</th>\n",
       "      <td>market_segment</td>\n",
       "      <td>0</td>\n",
       "      <td>0.00</td>\n",
       "    </tr>\n",
       "    <tr>\n",
       "      <th>distribution_channel</th>\n",
       "      <td>distribution_channel</td>\n",
       "      <td>0</td>\n",
       "      <td>0.00</td>\n",
       "    </tr>\n",
       "    <tr>\n",
       "      <th>is_repeated_guest</th>\n",
       "      <td>is_repeated_guest</td>\n",
       "      <td>0</td>\n",
       "      <td>0.00</td>\n",
       "    </tr>\n",
       "    <tr>\n",
       "      <th>previous_cancellations</th>\n",
       "      <td>previous_cancellations</td>\n",
       "      <td>0</td>\n",
       "      <td>0.00</td>\n",
       "    </tr>\n",
       "    <tr>\n",
       "      <th>previous_bookings_not_canceled</th>\n",
       "      <td>previous_bookings_not_canceled</td>\n",
       "      <td>0</td>\n",
       "      <td>0.00</td>\n",
       "    </tr>\n",
       "    <tr>\n",
       "      <th>reserved_room_type</th>\n",
       "      <td>reserved_room_type</td>\n",
       "      <td>0</td>\n",
       "      <td>0.00</td>\n",
       "    </tr>\n",
       "    <tr>\n",
       "      <th>assigned_room_type</th>\n",
       "      <td>assigned_room_type</td>\n",
       "      <td>0</td>\n",
       "      <td>0.00</td>\n",
       "    </tr>\n",
       "    <tr>\n",
       "      <th>booking_changes</th>\n",
       "      <td>booking_changes</td>\n",
       "      <td>0</td>\n",
       "      <td>0.00</td>\n",
       "    </tr>\n",
       "    <tr>\n",
       "      <th>deposit_type</th>\n",
       "      <td>deposit_type</td>\n",
       "      <td>0</td>\n",
       "      <td>0.00</td>\n",
       "    </tr>\n",
       "    <tr>\n",
       "      <th>agent</th>\n",
       "      <td>agent</td>\n",
       "      <td>12193</td>\n",
       "      <td>13.95</td>\n",
       "    </tr>\n",
       "    <tr>\n",
       "      <th>company</th>\n",
       "      <td>company</td>\n",
       "      <td>82137</td>\n",
       "      <td>93.98</td>\n",
       "    </tr>\n",
       "    <tr>\n",
       "      <th>days_in_waiting_list</th>\n",
       "      <td>days_in_waiting_list</td>\n",
       "      <td>0</td>\n",
       "      <td>0.00</td>\n",
       "    </tr>\n",
       "    <tr>\n",
       "      <th>customer_type</th>\n",
       "      <td>customer_type</td>\n",
       "      <td>0</td>\n",
       "      <td>0.00</td>\n",
       "    </tr>\n",
       "    <tr>\n",
       "      <th>adr</th>\n",
       "      <td>adr</td>\n",
       "      <td>0</td>\n",
       "      <td>0.00</td>\n",
       "    </tr>\n",
       "    <tr>\n",
       "      <th>required_car_parking_spaces</th>\n",
       "      <td>required_car_parking_spaces</td>\n",
       "      <td>0</td>\n",
       "      <td>0.00</td>\n",
       "    </tr>\n",
       "    <tr>\n",
       "      <th>total_of_special_requests</th>\n",
       "      <td>total_of_special_requests</td>\n",
       "      <td>0</td>\n",
       "      <td>0.00</td>\n",
       "    </tr>\n",
       "    <tr>\n",
       "      <th>reservation_status</th>\n",
       "      <td>reservation_status</td>\n",
       "      <td>0</td>\n",
       "      <td>0.00</td>\n",
       "    </tr>\n",
       "    <tr>\n",
       "      <th>reservation_status_date</th>\n",
       "      <td>reservation_status_date</td>\n",
       "      <td>0</td>\n",
       "      <td>0.00</td>\n",
       "    </tr>\n",
       "  </tbody>\n",
       "</table>\n",
       "</div>"
      ],
      "text/plain": [
       "                                                      col_name  null_count  \\\n",
       "hotel                                                    hotel           0   \n",
       "is_canceled                                        is_canceled           0   \n",
       "lead_time                                            lead_time           0   \n",
       "arrival_date_year                            arrival_date_year           0   \n",
       "arrival_date_month                          arrival_date_month           0   \n",
       "arrival_date_week_number              arrival_date_week_number           0   \n",
       "arrival_date_day_of_month            arrival_date_day_of_month           0   \n",
       "stays_in_weekend_nights                stays_in_weekend_nights           0   \n",
       "stays_in_week_nights                      stays_in_week_nights           0   \n",
       "adults                                                  adults           0   \n",
       "children                                              children           4   \n",
       "babies                                                  babies           0   \n",
       "meal                                                      meal           0   \n",
       "country                                                country         452   \n",
       "market_segment                                  market_segment           0   \n",
       "distribution_channel                      distribution_channel           0   \n",
       "is_repeated_guest                            is_repeated_guest           0   \n",
       "previous_cancellations                  previous_cancellations           0   \n",
       "previous_bookings_not_canceled  previous_bookings_not_canceled           0   \n",
       "reserved_room_type                          reserved_room_type           0   \n",
       "assigned_room_type                          assigned_room_type           0   \n",
       "booking_changes                                booking_changes           0   \n",
       "deposit_type                                      deposit_type           0   \n",
       "agent                                                    agent       12193   \n",
       "company                                                company       82137   \n",
       "days_in_waiting_list                      days_in_waiting_list           0   \n",
       "customer_type                                    customer_type           0   \n",
       "adr                                                        adr           0   \n",
       "required_car_parking_spaces        required_car_parking_spaces           0   \n",
       "total_of_special_requests            total_of_special_requests           0   \n",
       "reservation_status                          reservation_status           0   \n",
       "reservation_status_date                reservation_status_date           0   \n",
       "\n",
       "                                nulls_percentage  \n",
       "hotel                                       0.00  \n",
       "is_canceled                                 0.00  \n",
       "lead_time                                   0.00  \n",
       "arrival_date_year                           0.00  \n",
       "arrival_date_month                          0.00  \n",
       "arrival_date_week_number                    0.00  \n",
       "arrival_date_day_of_month                   0.00  \n",
       "stays_in_weekend_nights                     0.00  \n",
       "stays_in_week_nights                        0.00  \n",
       "adults                                      0.00  \n",
       "children                                    0.00  \n",
       "babies                                      0.00  \n",
       "meal                                        0.00  \n",
       "country                                     0.52  \n",
       "market_segment                              0.00  \n",
       "distribution_channel                        0.00  \n",
       "is_repeated_guest                           0.00  \n",
       "previous_cancellations                      0.00  \n",
       "previous_bookings_not_canceled              0.00  \n",
       "reserved_room_type                          0.00  \n",
       "assigned_room_type                          0.00  \n",
       "booking_changes                             0.00  \n",
       "deposit_type                                0.00  \n",
       "agent                                      13.95  \n",
       "company                                    93.98  \n",
       "days_in_waiting_list                        0.00  \n",
       "customer_type                               0.00  \n",
       "adr                                         0.00  \n",
       "required_car_parking_spaces                 0.00  \n",
       "total_of_special_requests                   0.00  \n",
       "reservation_status                          0.00  \n",
       "reservation_status_date                     0.00  "
      ]
     },
     "execution_count": 9,
     "metadata": {},
     "output_type": "execute_result"
    }
   ],
   "source": [
    "nulls=pd.DataFrame({\"col_name\":df.columns,\"null_count\":df.isnull().sum()})\n",
    "nulls[\"nulls_percentage\"]=round(nulls[\"null_count\"]*100/df.shape[0],2)\n",
    "nulls"
   ]
  },
  {
   "cell_type": "code",
   "execution_count": 10,
   "id": "fccb309e",
   "metadata": {},
   "outputs": [
    {
     "data": {
      "text/plain": [
       "40.0     851\n",
       "223.0    503\n",
       "45.0     238\n",
       "153.0    206\n",
       "154.0    133\n",
       "        ... \n",
       "10.0       1\n",
       "419.0      1\n",
       "415.0      1\n",
       "425.0      1\n",
       "534.0      1\n",
       "Name: company, Length: 352, dtype: int64"
      ]
     },
     "execution_count": 10,
     "metadata": {},
     "output_type": "execute_result"
    }
   ],
   "source": [
    "df['company'].value_counts()"
   ]
  },
  {
   "cell_type": "markdown",
   "id": "d41d4aa3",
   "metadata": {},
   "source": [
    "The column 'Company' is having 93.98% missing values.Hence the same can be removed from dataset."
   ]
  },
  {
   "cell_type": "code",
   "execution_count": 11,
   "id": "c1ae6c84",
   "metadata": {},
   "outputs": [],
   "source": [
    "df.drop('company',axis=1,inplace=True)"
   ]
  },
  {
   "cell_type": "code",
   "execution_count": 12,
   "id": "4f3882e2",
   "metadata": {},
   "outputs": [
    {
     "data": {
      "image/png": "[encoded data removed]",
      "text/plain": [
       "<Figure size 1440x1728 with 18 Axes>"
      ]
     },
     "metadata": {
      "needs_background": "light"
     },
     "output_type": "display_data"
    }
   ],
   "source": [
    "cols=['hotel','arrival_date_year','arrival_date_month','customer_type','is_repeated_guest','deposit_type','previous_cancellations',\n",
    "      'required_car_parking_spaces','total_of_special_requests','meal','market_segment','distribution_channel',\n",
    "      'reserved_room_type','assigned_room_type','reservation_status','adults','children','babies']\n",
    "plt.figure(figsize=(20,24))\n",
    "plt.subplots_adjust(wspace=0.30,hspace=0.75)\n",
    "for i in range(len(cols)):\n",
    "    plt.subplot(5,4,i+1)\n",
    "    plt.xticks(rotation=90)\n",
    "    sns.countplot(df[cols[i]],hue=df[\"is_canceled\"])\n",
    "      \n"
   ]
  },
  {
   "cell_type": "markdown",
   "id": "192e6dcd",
   "metadata": {},
   "source": [
    "From the dataset it can be observed that the reservation status and reservation status dates are updated on/after the day of arrival.Since the intention is to predict whether a booking will get cancelled these columns are irrelevant."
   ]
  },
  {
   "cell_type": "code",
   "execution_count": 13,
   "id": "8404f154",
   "metadata": {},
   "outputs": [
    {
     "name": "stdout",
     "output_type": "stream",
     "text": [
      "Hotel wise cancellation rate is :\n",
      " City Hotel      30.04\n",
      "Resort Hotel    23.48\n",
      "Name: hotel, dtype: float64\n"
     ]
    }
   ],
   "source": [
    "Cancellation_rate=df.loc[df['is_canceled']==1,'hotel'].value_counts()/df['hotel'].value_counts()*100\n",
    "print(\"Hotel wise cancellation rate is :\\n\",round(Cancellation_rate,2))"
   ]
  },
  {
   "cell_type": "code",
   "execution_count": 14,
   "id": "50030d90",
   "metadata": {},
   "outputs": [
    {
     "data": {
      "text/plain": [
       "0      5978\n",
       "1      3216\n",
       "2      1927\n",
       "3      1704\n",
       "4      1570\n",
       "       ... \n",
       "410       1\n",
       "411       1\n",
       "371       1\n",
       "532       1\n",
       "463       1\n",
       "Name: lead_time, Length: 479, dtype: int64"
      ]
     },
     "execution_count": 14,
     "metadata": {},
     "output_type": "execute_result"
    }
   ],
   "source": [
    "df['lead_time'].value_counts()"
   ]
  },
  {
   "cell_type": "code",
   "execution_count": 15,
   "id": "3fcaa159",
   "metadata": {},
   "outputs": [
    {
     "data": {
      "text/plain": [
       "<AxesSubplot:xlabel='is_canceled', ylabel='lead_time'>"
      ]
     },
     "execution_count": 15,
     "metadata": {},
     "output_type": "execute_result"
    },
    {
     "data": {
      "image/png": "[encoded data removed]",
      "text/plain": [
       "<Figure size 720x576 with 1 Axes>"
      ]
     },
     "metadata": {
      "needs_background": "light"
     },
     "output_type": "display_data"
    }
   ],
   "source": [
    "plt.figure(figsize=(10,8))\n",
    "sns.boxplot(data=df,x='is_canceled',y='lead_time')"
   ]
  },
  {
   "cell_type": "markdown",
   "id": "b42642e0",
   "metadata": {},
   "source": [
    "There are some outliers in the column 'lead_time' which need to me removed."
   ]
  },
  {
   "cell_type": "code",
   "execution_count": 16,
   "id": "5b6caf78",
   "metadata": {},
   "outputs": [
    {
     "data": {
      "text/plain": [
       "33    2793\n",
       "34    2491\n",
       "32    2449\n",
       "28    2344\n",
       "30    2335\n",
       "31    2287\n",
       "29    2197\n",
       "27    2166\n",
       "35    2105\n",
       "18    2089\n",
       "21    2044\n",
       "15    1989\n",
       "17    1878\n",
       "23    1872\n",
       "20    1843\n",
       "13    1818\n",
       "19    1813\n",
       "25    1786\n",
       "22    1753\n",
       "24    1746\n",
       "26    1739\n",
       "16    1737\n",
       "14    1693\n",
       "41    1663\n",
       "11    1658\n",
       "38    1635\n",
       "7     1630\n",
       "10    1630\n",
       "36    1626\n",
       "43    1605\n",
       "39    1590\n",
       "9     1579\n",
       "12    1573\n",
       "44    1550\n",
       "8     1525\n",
       "37    1474\n",
       "42    1445\n",
       "40    1427\n",
       "53    1423\n",
       "45    1315\n",
       "6     1299\n",
       "47    1289\n",
       "48    1199\n",
       "49    1170\n",
       "46    1141\n",
       "4     1125\n",
       "5     1101\n",
       "52    1061\n",
       "50    1053\n",
       "3     1050\n",
       "2      945\n",
       "1      862\n",
       "51     786\n",
       "Name: arrival_date_week_number, dtype: int64"
      ]
     },
     "execution_count": 16,
     "metadata": {},
     "output_type": "execute_result"
    }
   ],
   "source": [
    "df['arrival_date_week_number'].value_counts()"
   ]
  },
  {
   "cell_type": "code",
   "execution_count": 17,
   "id": "3db851c9",
   "metadata": {},
   "outputs": [
    {
     "data": {
      "text/plain": [
       "<AxesSubplot:xlabel='is_canceled', ylabel='arrival_date_week_number'>"
      ]
     },
     "execution_count": 17,
     "metadata": {},
     "output_type": "execute_result"
    },
    {
     "data": {
      "image/png": "[encoded data removed]",
      "text/plain": [
       "<Figure size 720x576 with 1 Axes>"
      ]
     },
     "metadata": {
      "needs_background": "light"
     },
     "output_type": "display_data"
    }
   ],
   "source": [
    "plt.figure(figsize=(10,8))\n",
    "sns.violinplot(data=df,x='is_canceled',y='arrival_date_week_number')"
   ]
  },
  {
   "cell_type": "code",
   "execution_count": 18,
   "id": "2a420ec3",
   "metadata": {},
   "outputs": [
    {
     "data": {
      "text/plain": [
       "<AxesSubplot:xlabel='arrival_date_month', ylabel='arrival_date_week_number'>"
      ]
     },
     "execution_count": 18,
     "metadata": {},
     "output_type": "execute_result"
    },
    {
     "data": {
      "image/png": "[encoded data removed]",
      "text/plain": [
       "<Figure size 720x576 with 1 Axes>"
      ]
     },
     "metadata": {
      "needs_background": "light"
     },
     "output_type": "display_data"
    }
   ],
   "source": [
    "plt.figure(figsize=(10,8))\n",
    "plt.xticks(rotation=90)\n",
    "sns.barplot(data=df,x='arrival_date_month',y='arrival_date_week_number',hue='is_canceled')"
   ]
  },
  {
   "cell_type": "markdown",
   "id": "60b6832a",
   "metadata": {},
   "source": [
    "So the column 'arrival_date_week_number' is another representation of the month and there doesn't seem to have any effect on the prediction.Hence it can be ignored."
   ]
  },
  {
   "cell_type": "code",
   "execution_count": 19,
   "id": "d490053e",
   "metadata": {},
   "outputs": [
    {
     "data": {
      "text/plain": [
       "<seaborn.axisgrid.FacetGrid at 0x19810927910>"
      ]
     },
     "execution_count": 19,
     "metadata": {},
     "output_type": "execute_result"
    },
    {
     "data": {
      "text/plain": [
       "<Figure size 720x576 with 0 Axes>"
      ]
     },
     "metadata": {},
     "output_type": "display_data"
    },
    {
     "data": {
      "image/png": "[encoded data removed]",
      "text/plain": [
       "<Figure size 360x360 with 1 Axes>"
      ]
     },
     "metadata": {
      "needs_background": "light"
     },
     "output_type": "display_data"
    },
    {
     "data": {
      "image/png": "[encoded data removed]",
      "text/plain": [
       "<Figure size 360x360 with 1 Axes>"
      ]
     },
     "metadata": {
      "needs_background": "light"
     },
     "output_type": "display_data"
    }
   ],
   "source": [
    "plt.figure(figsize=(10,8))\n",
    "sns.displot(df[df['is_canceled']==0]['arrival_date_day_of_month'],color='g')\n",
    "sns.displot(df[df['is_canceled']==1]['arrival_date_day_of_month'],color='r')"
   ]
  },
  {
   "cell_type": "code",
   "execution_count": 20,
   "id": "1e616c47",
   "metadata": {},
   "outputs": [
    {
     "data": {
      "text/plain": [
       "1     22191\n",
       "2     20744\n",
       "3     16259\n",
       "5      9663\n",
       "4      7874\n",
       "0      6175\n",
       "6      1379\n",
       "10      972\n",
       "7       967\n",
       "8       613\n",
       "9       219\n",
       "15       68\n",
       "11       50\n",
       "20       41\n",
       "12       40\n",
       "13       27\n",
       "14       25\n",
       "19       21\n",
       "21       15\n",
       "16       13\n",
       "22        7\n",
       "25        6\n",
       "18        6\n",
       "30        5\n",
       "17        4\n",
       "24        2\n",
       "40        2\n",
       "33        1\n",
       "42        1\n",
       "50        1\n",
       "32        1\n",
       "26        1\n",
       "34        1\n",
       "35        1\n",
       "41        1\n",
       "Name: stays_in_week_nights, dtype: int64"
      ]
     },
     "execution_count": 20,
     "metadata": {},
     "output_type": "execute_result"
    }
   ],
   "source": [
    "df['stays_in_week_nights'].value_counts()"
   ]
  },
  {
   "cell_type": "code",
   "execution_count": 21,
   "id": "453012e3",
   "metadata": {},
   "outputs": [
    {
     "data": {
      "text/plain": [
       "0     35151\n",
       "2     26414\n",
       "1     22657\n",
       "4      1734\n",
       "3      1150\n",
       "6       113\n",
       "5        70\n",
       "8        60\n",
       "7        15\n",
       "9        10\n",
       "10        7\n",
       "12        5\n",
       "13        3\n",
       "16        3\n",
       "14        2\n",
       "18        1\n",
       "19        1\n",
       "Name: stays_in_weekend_nights, dtype: int64"
      ]
     },
     "execution_count": 21,
     "metadata": {},
     "output_type": "execute_result"
    }
   ],
   "source": [
    "df['stays_in_weekend_nights'].value_counts()"
   ]
  },
  {
   "cell_type": "code",
   "execution_count": 22,
   "id": "29448080",
   "metadata": {},
   "outputs": [
    {
     "data": {
      "text/plain": [
       "<AxesSubplot:xlabel='is_canceled', ylabel='stays_in_week_nights'>"
      ]
     },
     "execution_count": 22,
     "metadata": {},
     "output_type": "execute_result"
    },
    {
     "data": {
      "image/png": "[encoded data removed]",
      "text/plain": [
       "<Figure size 432x288 with 1 Axes>"
      ]
     },
     "metadata": {
      "needs_background": "light"
     },
     "output_type": "display_data"
    }
   ],
   "source": [
    "sns.boxplot(data=df,x='is_canceled',y='stays_in_week_nights')"
   ]
  },
  {
   "cell_type": "code",
   "execution_count": 23,
   "id": "000f15a5",
   "metadata": {},
   "outputs": [
    {
     "data": {
      "text/plain": [
       "<AxesSubplot:xlabel='is_canceled', ylabel='stays_in_weekend_nights'>"
      ]
     },
     "execution_count": 23,
     "metadata": {},
     "output_type": "execute_result"
    },
    {
     "data": {
      "image/png": "[encoded data removed]",
      "text/plain": [
       "<Figure size 432x288 with 1 Axes>"
      ]
     },
     "metadata": {
      "needs_background": "light"
     },
     "output_type": "display_data"
    }
   ],
   "source": [
    "sns.boxplot(data=df,x='is_canceled',y='stays_in_weekend_nights')"
   ]
  },
  {
   "cell_type": "markdown",
   "id": "618fdb86",
   "metadata": {},
   "source": [
    "There are some outliers in \"stays_in_weekend_nights\" and \"stays_in_week_nights\" which need to be replaced with values close to the 100th percentile as they might be representing the actual no of days of stay."
   ]
  },
  {
   "cell_type": "code",
   "execution_count": 24,
   "id": "e0a31d7e",
   "metadata": {},
   "outputs": [
    {
     "data": {
      "text/plain": [
       "2     64497\n",
       "1     16503\n",
       "3      5935\n",
       "0       385\n",
       "4        60\n",
       "26        5\n",
       "27        2\n",
       "20        2\n",
       "5         2\n",
       "40        1\n",
       "50        1\n",
       "55        1\n",
       "6         1\n",
       "10        1\n",
       "Name: adults, dtype: int64"
      ]
     },
     "execution_count": 24,
     "metadata": {},
     "output_type": "execute_result"
    }
   ],
   "source": [
    "df['adults'].value_counts()"
   ]
  },
  {
   "cell_type": "code",
   "execution_count": 25,
   "id": "eae340d6",
   "metadata": {},
   "outputs": [
    {
     "data": {
      "text/plain": [
       "<AxesSubplot:xlabel='children', ylabel='count'>"
      ]
     },
     "execution_count": 25,
     "metadata": {},
     "output_type": "execute_result"
    },
    {
     "data": {
      "image/png": "[encoded data removed]",
      "text/plain": [
       "<Figure size 432x288 with 1 Axes>"
      ]
     },
     "metadata": {
      "needs_background": "light"
     },
     "output_type": "display_data"
    }
   ],
   "source": [
    "sns.countplot(df[df['adults']==0]['children'],hue=df['is_canceled'])"
   ]
  },
  {
   "cell_type": "code",
   "execution_count": 26,
   "id": "52e64df9",
   "metadata": {},
   "outputs": [
    {
     "data": {
      "text/plain": [
       "0.0     79028\n",
       "1.0      4695\n",
       "2.0      3593\n",
       "3.0        75\n",
       "10.0        1\n",
       "Name: children, dtype: int64"
      ]
     },
     "execution_count": 26,
     "metadata": {},
     "output_type": "execute_result"
    }
   ],
   "source": [
    "df['children'].value_counts()"
   ]
  },
  {
   "cell_type": "code",
   "execution_count": 27,
   "id": "2ea91a69",
   "metadata": {},
   "outputs": [
    {
     "data": {
      "text/plain": [
       "0     86482\n",
       "1       897\n",
       "2        15\n",
       "10        1\n",
       "9         1\n",
       "Name: babies, dtype: int64"
      ]
     },
     "execution_count": 27,
     "metadata": {},
     "output_type": "execute_result"
    }
   ],
   "source": [
    "df['babies'].value_counts()"
   ]
  },
  {
   "cell_type": "markdown",
   "id": "2b454778",
   "metadata": {},
   "source": [
    "* The categories 4 and above in \"adult\" column can be combined to a single category.\n",
    "* Categories 2 and above can be combined in 'children' column.\n",
    "* Categories 1 and above can be combined in 'babies' column."
   ]
  },
  {
   "cell_type": "code",
   "execution_count": 28,
   "id": "9dbb2d88",
   "metadata": {},
   "outputs": [
    {
     "data": {
      "text/plain": [
       "0     85711\n",
       "1      1407\n",
       "2       112\n",
       "3        61\n",
       "4        30\n",
       "11       27\n",
       "5        19\n",
       "6        17\n",
       "13        4\n",
       "25        2\n",
       "24        2\n",
       "26        1\n",
       "14        1\n",
       "19        1\n",
       "21        1\n",
       "Name: previous_cancellations, dtype: int64"
      ]
     },
     "execution_count": 28,
     "metadata": {},
     "output_type": "execute_result"
    }
   ],
   "source": [
    "df['previous_cancellations'].value_counts()"
   ]
  },
  {
   "cell_type": "code",
   "execution_count": 29,
   "id": "43e61fdf",
   "metadata": {},
   "outputs": [
    {
     "data": {
      "text/plain": [
       "Text(0.5, 1.0, 'prev cancellation>2')"
      ]
     },
     "execution_count": 29,
     "metadata": {},
     "output_type": "execute_result"
    },
    {
     "data": {
      "image/png": "[encoded data removed]",
      "text/plain": [
       "<Figure size 1080x360 with 4 Axes>"
      ]
     },
     "metadata": {
      "needs_background": "light"
     },
     "output_type": "display_data"
    }
   ],
   "source": [
    "fig,axes=plt.subplots(1,4,figsize=(15,5))\n",
    "sns.countplot(df[df['previous_cancellations']==0]['is_canceled'],ax=axes[0])\n",
    "axes[0].set_title('prev cancellation=0')\n",
    "sns.countplot(df[df['previous_cancellations']==1]['is_canceled'],ax=axes[1])\n",
    "axes[1].set_title('prev cancellation=1')\n",
    "sns.countplot(df[df['previous_cancellations']==2]['is_canceled'],ax=axes[2])\n",
    "axes[2].set_title('prev cancellation=2')\n",
    "sns.countplot(df[df['previous_cancellations']>2]['is_canceled'],ax=axes[3])\n",
    "axes[3].set_title('prev cancellation>2')"
   ]
  },
  {
   "cell_type": "markdown",
   "id": "dc65a9c9",
   "metadata": {},
   "source": [
    "Previous_cancellations above 1 can be combined to a single category"
   ]
  },
  {
   "cell_type": "code",
   "execution_count": 30,
   "id": "b0cfffe3",
   "metadata": {},
   "outputs": [
    {
     "data": {
      "text/plain": [
       "0     83851\n",
       "1      1482\n",
       "2       580\n",
       "3       331\n",
       "4       228\n",
       "      ...  \n",
       "47        1\n",
       "49        1\n",
       "50        1\n",
       "51        1\n",
       "72        1\n",
       "Name: previous_bookings_not_canceled, Length: 73, dtype: int64"
      ]
     },
     "execution_count": 30,
     "metadata": {},
     "output_type": "execute_result"
    }
   ],
   "source": [
    "df['previous_bookings_not_canceled'].value_counts()"
   ]
  },
  {
   "cell_type": "code",
   "execution_count": 31,
   "id": "f4ca44d2",
   "metadata": {},
   "outputs": [
    {
     "data": {
      "text/plain": [
       "Text(0.5, 1.0, 'previous_bookings_not_canceled>2')"
      ]
     },
     "execution_count": 31,
     "metadata": {},
     "output_type": "execute_result"
    },
    {
     "data": {
      "image/png": "[encoded data removed]",
      "text/plain": [
       "<Figure size 1080x360 with 4 Axes>"
      ]
     },
     "metadata": {
      "needs_background": "light"
     },
     "output_type": "display_data"
    }
   ],
   "source": [
    "fig,axes=plt.subplots(1,4,figsize=(15,5))\n",
    "sns.countplot(df[df['previous_bookings_not_canceled']==0]['is_canceled'],ax=axes[0])\n",
    "axes[0].set_title('previous_bookings_not_canceled =0')\n",
    "sns.countplot(df[df['previous_bookings_not_canceled']==1]['is_canceled'],ax=axes[1])\n",
    "axes[1].set_title('previous_bookings_not_canceled=1')\n",
    "sns.countplot(df[df['previous_bookings_not_canceled']==2]['is_canceled'],ax=axes[2])\n",
    "axes[2].set_title('previous_bookings_not_canceled=2')\n",
    "sns.countplot(df[df['previous_bookings_not_canceled']>2]['is_canceled'],ax=axes[3])\n",
    "axes[3].set_title('previous_bookings_not_canceled>2')"
   ]
  },
  {
   "cell_type": "markdown",
   "id": "d9a031c7",
   "metadata": {},
   "source": [
    "previous_bookings_not_canceled equal to and above 1 can be combined to a single category"
   ]
  },
  {
   "cell_type": "code",
   "execution_count": 32,
   "id": "181984ec",
   "metadata": {},
   "outputs": [
    {
     "data": {
      "text/plain": [
       "0     71494\n",
       "1     10902\n",
       "2      3508\n",
       "3       875\n",
       "4       356\n",
       "5       116\n",
       "6        59\n",
       "7        31\n",
       "8        17\n",
       "9         8\n",
       "10        6\n",
       "13        5\n",
       "14        5\n",
       "15        3\n",
       "16        2\n",
       "17        2\n",
       "12        2\n",
       "11        2\n",
       "20        1\n",
       "21        1\n",
       "18        1\n",
       "Name: booking_changes, dtype: int64"
      ]
     },
     "execution_count": 32,
     "metadata": {},
     "output_type": "execute_result"
    }
   ],
   "source": [
    "df['booking_changes'].value_counts()"
   ]
  },
  {
   "cell_type": "code",
   "execution_count": 33,
   "id": "92a61014",
   "metadata": {},
   "outputs": [
    {
     "data": {
      "text/plain": [
       "Text(0.5, 1.0, 'booking change>2')"
      ]
     },
     "execution_count": 33,
     "metadata": {},
     "output_type": "execute_result"
    },
    {
     "data": {
      "image/png": "[encoded data removed]",
      "text/plain": [
       "<Figure size 1080x360 with 4 Axes>"
      ]
     },
     "metadata": {
      "needs_background": "light"
     },
     "output_type": "display_data"
    }
   ],
   "source": [
    "fig,axes=plt.subplots(1,4,figsize=(15,5))\n",
    "sns.countplot(df[df['booking_changes']==0]['is_canceled'],ax=axes[0])\n",
    "axes[0].set_title('booking changes =0')\n",
    "sns.countplot(df[df['booking_changes']==1]['is_canceled'],ax=axes[1])\n",
    "axes[1].set_title('booking changes=1')\n",
    "sns.countplot(df[df['booking_changes']==2]['is_canceled'],ax=axes[2])\n",
    "axes[2].set_title('booking changes=2')\n",
    "sns.countplot(df[df['booking_changes']>2]['is_canceled'],ax=axes[3])\n",
    "axes[3].set_title('booking change>2')"
   ]
  },
  {
   "cell_type": "markdown",
   "id": "c21c61d0",
   "metadata": {},
   "source": [
    "Booking_changes above 2 can be combined to a single category."
   ]
  },
  {
   "cell_type": "code",
   "execution_count": 34,
   "id": "13649685",
   "metadata": {},
   "outputs": [
    {
     "data": {
      "text/plain": [
       "9.0      28759\n",
       "240.0    13028\n",
       "14.0      3349\n",
       "7.0       3300\n",
       "250.0     2779\n",
       "241.0     1644\n",
       "28.0      1502\n",
       "8.0       1383\n",
       "1.0       1232\n",
       "6.0       1117\n",
       "40.0       986\n",
       "314.0      844\n",
       "242.0      722\n",
       "83.0       614\n",
       "85.0       524\n",
       "243.0      477\n",
       "171.0      402\n",
       "27.0       395\n",
       "3.0        363\n",
       "22.0       345\n",
       "Name: agent, dtype: int64"
      ]
     },
     "execution_count": 34,
     "metadata": {},
     "output_type": "execute_result"
    }
   ],
   "source": [
    "df['agent'].value_counts().head(20)"
   ]
  },
  {
   "cell_type": "code",
   "execution_count": 35,
   "id": "c8465b0d",
   "metadata": {},
   "outputs": [
    {
     "data": {
      "text/plain": [
       "<AxesSubplot:xlabel='is_canceled', ylabel='agent'>"
      ]
     },
     "execution_count": 35,
     "metadata": {},
     "output_type": "execute_result"
    },
    {
     "data": {
      "image/png": "[encoded data removed]",
      "text/plain": [
       "<Figure size 720x576 with 1 Axes>"
      ]
     },
     "metadata": {
      "needs_background": "light"
     },
     "output_type": "display_data"
    }
   ],
   "source": [
    "plt.figure(figsize=(10,8))\n",
    "sns.violinplot(data=df,x='is_canceled',y='agent')"
   ]
  },
  {
   "cell_type": "code",
   "execution_count": 36,
   "id": "c6361ded",
   "metadata": {},
   "outputs": [
    {
     "data": {
      "text/plain": [
       "<AxesSubplot:xlabel='agent', ylabel='Count'>"
      ]
     },
     "execution_count": 36,
     "metadata": {},
     "output_type": "execute_result"
    },
    {
     "data": {
      "image/png": "[encoded data removed]",
      "text/plain": [
       "<Figure size 720x576 with 1 Axes>"
      ]
     },
     "metadata": {
      "needs_background": "light"
     },
     "output_type": "display_data"
    }
   ],
   "source": [
    "plt.figure(figsize=(10,8))\n",
    "sns.histplot(df['agent'],binwidth=10)"
   ]
  },
  {
   "cell_type": "markdown",
   "id": "662d86c2",
   "metadata": {},
   "source": [
    "The 'agent' column follows a patter in its distribution.It has high density in 0-30 range approx and 230-250 approx.There are also missing values in the column which need to be filled."
   ]
  },
  {
   "cell_type": "code",
   "execution_count": 37,
   "id": "dd4aad61",
   "metadata": {},
   "outputs": [
    {
     "data": {
      "text/plain": [
       "0      86536\n",
       "63        53\n",
       "87        25\n",
       "44        23\n",
       "15        22\n",
       "       ...  \n",
       "79         1\n",
       "120        1\n",
       "160        1\n",
       "85         1\n",
       "36         1\n",
       "Name: days_in_waiting_list, Length: 128, dtype: int64"
      ]
     },
     "execution_count": 37,
     "metadata": {},
     "output_type": "execute_result"
    }
   ],
   "source": [
    "df['days_in_waiting_list'].value_counts()"
   ]
  },
  {
   "cell_type": "code",
   "execution_count": 38,
   "id": "8480540e",
   "metadata": {},
   "outputs": [
    {
     "data": {
      "text/plain": [
       "Text(0.5, 1.0, 'days in waiting list>0')"
      ]
     },
     "execution_count": 38,
     "metadata": {},
     "output_type": "execute_result"
    },
    {
     "data": {
      "image/png": "[encoded data removed]",
      "text/plain": [
       "<Figure size 720x576 with 2 Axes>"
      ]
     },
     "metadata": {
      "needs_background": "light"
     },
     "output_type": "display_data"
    }
   ],
   "source": [
    "fig,axes=plt.subplots(1,2,figsize=(10,8))\n",
    "sns.countplot(df[df['days_in_waiting_list']==0]['is_canceled'],ax=axes[0])\n",
    "axes[0].set_title('days in waiting list =0')\n",
    "sns.countplot(df[df['days_in_waiting_list']>0]['is_canceled'],ax=axes[1])\n",
    "axes[1].set_title('days in waiting list>0')"
   ]
  },
  {
   "cell_type": "markdown",
   "id": "34ab2dcf",
   "metadata": {},
   "source": [
    "Days in waiting list above 0 can be combined to a single category."
   ]
  },
  {
   "cell_type": "code",
   "execution_count": 39,
   "id": "6a8d5bf6",
   "metadata": {},
   "outputs": [
    {
     "data": {
      "text/plain": [
       "0.00      1778\n",
       "75.00     1320\n",
       "65.00     1260\n",
       "48.00      878\n",
       "85.00      858\n",
       "          ... \n",
       "55.11        1\n",
       "33.65        1\n",
       "31.41        1\n",
       "31.80        1\n",
       "157.71       1\n",
       "Name: adr, Length: 8879, dtype: int64"
      ]
     },
     "execution_count": 39,
     "metadata": {},
     "output_type": "execute_result"
    }
   ],
   "source": [
    "df['adr'].value_counts()"
   ]
  },
  {
   "cell_type": "code",
   "execution_count": 40,
   "id": "6c0d5b9c",
   "metadata": {},
   "outputs": [
    {
     "data": {
      "text/plain": [
       "<AxesSubplot:xlabel='is_canceled', ylabel='adr'>"
      ]
     },
     "execution_count": 40,
     "metadata": {},
     "output_type": "execute_result"
    },
    {
     "data": {
      "image/png": "[encoded data removed]",
      "text/plain": [
       "<Figure size 720x576 with 1 Axes>"
      ]
     },
     "metadata": {
      "needs_background": "light"
     },
     "output_type": "display_data"
    }
   ],
   "source": [
    "plt.figure(figsize=(10,8))\n",
    "sns.boxplot(data=df,x='is_canceled',y='adr')"
   ]
  },
  {
   "cell_type": "markdown",
   "id": "e63ee1fd",
   "metadata": {},
   "source": [
    "There are outliers in adr column and need to be replaced."
   ]
  },
  {
   "cell_type": "code",
   "execution_count": 41,
   "id": "bb8163db",
   "metadata": {},
   "outputs": [
    {
     "data": {
      "text/plain": [
       "<AxesSubplot:xlabel='is_canceled', ylabel='adr'>"
      ]
     },
     "execution_count": 41,
     "metadata": {},
     "output_type": "execute_result"
    },
    {
     "data": {
      "image/png": "[encoded data removed]",
      "text/plain": [
       "<Figure size 720x576 with 1 Axes>"
      ]
     },
     "metadata": {
      "needs_background": "light"
     },
     "output_type": "display_data"
    }
   ],
   "source": [
    "plt.figure(figsize=(10,8))\n",
    "sns.boxplot(data=df,x='is_canceled',y=df[df['adr']<500]['adr'])"
   ]
  },
  {
   "cell_type": "code",
   "execution_count": 42,
   "id": "b68b125f",
   "metadata": {},
   "outputs": [
    {
     "data": {
      "text/plain": [
       "No Deposit    86251\n",
       "Non Refund     1038\n",
       "Refundable      107\n",
       "Name: deposit_type, dtype: int64"
      ]
     },
     "execution_count": 42,
     "metadata": {},
     "output_type": "execute_result"
    }
   ],
   "source": [
    "df['deposit_type'].value_counts()"
   ]
  },
  {
   "cell_type": "code",
   "execution_count": 43,
   "id": "66ab70b1",
   "metadata": {},
   "outputs": [
    {
     "data": {
      "text/plain": [
       "Text(0.5, 1.0, 'Refundable')"
      ]
     },
     "execution_count": 43,
     "metadata": {},
     "output_type": "execute_result"
    },
    {
     "data": {
      "image/png": "[encoded data removed]",
      "text/plain": [
       "<Figure size 720x576 with 3 Axes>"
      ]
     },
     "metadata": {
      "needs_background": "light"
     },
     "output_type": "display_data"
    }
   ],
   "source": [
    "fig,axes=plt.subplots(1,3,figsize=(10,8))\n",
    "sns.countplot(df[df['deposit_type']=='No Deposit']['is_canceled'],ax=axes[0])\n",
    "axes[0].set_title('No Deposit')\n",
    "sns.countplot(df[df['deposit_type']=='Non Refund']['is_canceled'],ax=axes[1])\n",
    "axes[1].set_title('Non Refund')\n",
    "sns.countplot(df[df['deposit_type']=='Refundable']['is_canceled'],ax=axes[2])\n",
    "axes[2].set_title('Refundable')"
   ]
  },
  {
   "cell_type": "code",
   "execution_count": 44,
   "id": "a02815d7",
   "metadata": {},
   "outputs": [
    {
     "data": {
      "text/plain": [
       "Text(0.5, 1.0, 'Different room assigned')"
      ]
     },
     "execution_count": 44,
     "metadata": {},
     "output_type": "execute_result"
    },
    {
     "data": {
      "image/png": "[encoded data removed]",
      "text/plain": [
       "<Figure size 720x576 with 2 Axes>"
      ]
     },
     "metadata": {
      "needs_background": "light"
     },
     "output_type": "display_data"
    }
   ],
   "source": [
    "fig,axes=plt.subplots(1,2,figsize=(10,8))\n",
    "sns.countplot(df[df['reserved_room_type']==df['assigned_room_type']]['is_canceled'],ax=axes[0])\n",
    "axes[0].set_title('Same room asigned')\n",
    "sns.countplot(df[df['reserved_room_type']!=df['assigned_room_type']]['is_canceled'],ax=axes[1])\n",
    "axes[1].set_title('Different room assigned')"
   ]
  },
  {
   "cell_type": "code",
   "execution_count": 45,
   "id": "3a29a48d",
   "metadata": {},
   "outputs": [
    {
     "data": {
      "text/plain": [
       "PRT    27453\n",
       "GBR    10433\n",
       "FRA     8837\n",
       "ESP     7252\n",
       "DEU     5387\n",
       "ITA     3066\n",
       "IRL     3016\n",
       "BEL     2081\n",
       "BRA     1995\n",
       "NLD     1911\n",
       "USA     1875\n",
       "CHE     1570\n",
       "CN      1093\n",
       "AUT      947\n",
       "SWE      837\n",
       "CHN      816\n",
       "POL      765\n",
       "RUS      561\n",
       "NOR      515\n",
       "ROU      458\n",
       "FIN      422\n",
       "ISR      403\n",
       "DNK      384\n",
       "AUS      378\n",
       "AGO      342\n",
       "LUX      262\n",
       "MAR      232\n",
       "TUR      213\n",
       "ARG      203\n",
       "HUN      202\n",
       "JPN      183\n",
       "IND      143\n",
       "CZE      136\n",
       "KOR      119\n",
       "GRC      117\n",
       "HRV       91\n",
       "DZA       82\n",
       "IRN       80\n",
       "EST       79\n",
       "ZAF       78\n",
       "MEX       74\n",
       "LTU       73\n",
       "COL       69\n",
       "BGR       68\n",
       "CHL       65\n",
       "NZL       63\n",
       "UKR       62\n",
       "MOZ       56\n",
       "SRB       54\n",
       "LVA       51\n",
       "Name: country, dtype: int64"
      ]
     },
     "execution_count": 45,
     "metadata": {},
     "output_type": "execute_result"
    }
   ],
   "source": [
    "df['country'].value_counts().head(50)"
   ]
  },
  {
   "cell_type": "markdown",
   "id": "3bbf9ea4",
   "metadata": {},
   "source": [
    "# DATA PREPROCESSING"
   ]
  },
  {
   "cell_type": "code",
   "execution_count": 46,
   "id": "6eed144d",
   "metadata": {},
   "outputs": [
    {
     "name": "stdout",
     "output_type": "stream",
     "text": [
      "<class 'pandas.core.frame.DataFrame'>\n",
      "RangeIndex: 87396 entries, 0 to 87395\n",
      "Data columns (total 31 columns):\n",
      " #   Column                          Non-Null Count  Dtype  \n",
      "---  ------                          --------------  -----  \n",
      " 0   hotel                           87396 non-null  object \n",
      " 1   is_canceled                     87396 non-null  int64  \n",
      " 2   lead_time                       87396 non-null  int64  \n",
      " 3   arrival_date_year               87396 non-null  int64  \n",
      " 4   arrival_date_month              87396 non-null  object \n",
      " 5   arrival_date_week_number        87396 non-null  int64  \n",
      " 6   arrival_date_day_of_month       87396 non-null  int64  \n",
      " 7   stays_in_weekend_nights         87396 non-null  int64  \n",
      " 8   stays_in_week_nights            87396 non-null  int64  \n",
      " 9   adults                          87396 non-null  int64  \n",
      " 10  children                        87392 non-null  float64\n",
      " 11  babies                          87396 non-null  int64  \n",
      " 12  meal                            87396 non-null  object \n",
      " 13  country                         86944 non-null  object \n",
      " 14  market_segment                  87396 non-null  object \n",
      " 15  distribution_channel            87396 non-null  object \n",
      " 16  is_repeated_guest               87396 non-null  int64  \n",
      " 17  previous_cancellations          87396 non-null  int64  \n",
      " 18  previous_bookings_not_canceled  87396 non-null  int64  \n",
      " 19  reserved_room_type              87396 non-null  object \n",
      " 20  assigned_room_type              87396 non-null  object \n",
      " 21  booking_changes                 87396 non-null  int64  \n",
      " 22  deposit_type                    87396 non-null  object \n",
      " 23  agent                           75203 non-null  float64\n",
      " 24  days_in_waiting_list            87396 non-null  int64  \n",
      " 25  customer_type                   87396 non-null  object \n",
      " 26  adr                             87396 non-null  float64\n",
      " 27  required_car_parking_spaces     87396 non-null  int64  \n",
      " 28  total_of_special_requests       87396 non-null  int64  \n",
      " 29  reservation_status              87396 non-null  object \n",
      " 30  reservation_status_date         87396 non-null  object \n",
      "dtypes: float64(3), int64(16), object(12)\n",
      "memory usage: 20.7+ MB\n"
     ]
    }
   ],
   "source": [
    "df.info()"
   ]
  },
  {
   "cell_type": "markdown",
   "id": "25656a7c",
   "metadata": {},
   "source": [
    "## Drop the irrelevant columns"
   ]
  },
  {
   "cell_type": "code",
   "execution_count": 47,
   "id": "282429eb",
   "metadata": {},
   "outputs": [],
   "source": [
    "df.drop(['arrival_date_week_number','reservation_status_date'],axis=1,inplace=True)"
   ]
  },
  {
   "cell_type": "markdown",
   "id": "033b1c43",
   "metadata": {},
   "source": [
    "## Fill the missing values"
   ]
  },
  {
   "cell_type": "code",
   "execution_count": 48,
   "id": "5eca5e02",
   "metadata": {},
   "outputs": [],
   "source": [
    "df['agent']=df['agent'].fillna(df['agent'].mean())"
   ]
  },
  {
   "cell_type": "code",
   "execution_count": 49,
   "id": "6e023aaf",
   "metadata": {},
   "outputs": [
    {
     "data": {
      "text/plain": [
       "PRT    27905\n",
       "GBR    10433\n",
       "FRA     8837\n",
       "ESP     7252\n",
       "DEU     5387\n",
       "       ...  \n",
       "MMR        1\n",
       "BFA        1\n",
       "CYM        1\n",
       "MLI        1\n",
       "KHM        1\n",
       "Name: country, Length: 177, dtype: int64"
      ]
     },
     "execution_count": 49,
     "metadata": {},
     "output_type": "execute_result"
    }
   ],
   "source": [
    "df['country']=df['country'].fillna(df['country'].mode()[0])\n",
    "df['country'].value_counts()"
   ]
  },
  {
   "cell_type": "code",
   "execution_count": 50,
   "id": "c0cd8fcb",
   "metadata": {},
   "outputs": [],
   "source": [
    "df['children']=df['children'].fillna(0)"
   ]
  },
  {
   "cell_type": "code",
   "execution_count": 51,
   "id": "0a98ae26",
   "metadata": {},
   "outputs": [
    {
     "name": "stdout",
     "output_type": "stream",
     "text": [
      "<class 'pandas.core.frame.DataFrame'>\n",
      "RangeIndex: 87396 entries, 0 to 87395\n",
      "Data columns (total 29 columns):\n",
      " #   Column                          Non-Null Count  Dtype  \n",
      "---  ------                          --------------  -----  \n",
      " 0   hotel                           87396 non-null  object \n",
      " 1   is_canceled                     87396 non-null  int64  \n",
      " 2   lead_time                       87396 non-null  int64  \n",
      " 3   arrival_date_year               87396 non-null  int64  \n",
      " 4   arrival_date_month              87396 non-null  object \n",
      " 5   arrival_date_day_of_month       87396 non-null  int64  \n",
      " 6   stays_in_weekend_nights         87396 non-null  int64  \n",
      " 7   stays_in_week_nights            87396 non-null  int64  \n",
      " 8   adults                          87396 non-null  int64  \n",
      " 9   children                        87396 non-null  float64\n",
      " 10  babies                          87396 non-null  int64  \n",
      " 11  meal                            87396 non-null  object \n",
      " 12  country                         87396 non-null  object \n",
      " 13  market_segment                  87396 non-null  object \n",
      " 14  distribution_channel            87396 non-null  object \n",
      " 15  is_repeated_guest               87396 non-null  int64  \n",
      " 16  previous_cancellations          87396 non-null  int64  \n",
      " 17  previous_bookings_not_canceled  87396 non-null  int64  \n",
      " 18  reserved_room_type              87396 non-null  object \n",
      " 19  assigned_room_type              87396 non-null  object \n",
      " 20  booking_changes                 87396 non-null  int64  \n",
      " 21  deposit_type                    87396 non-null  object \n",
      " 22  agent                           87396 non-null  float64\n",
      " 23  days_in_waiting_list            87396 non-null  int64  \n",
      " 24  customer_type                   87396 non-null  object \n",
      " 25  adr                             87396 non-null  float64\n",
      " 26  required_car_parking_spaces     87396 non-null  int64  \n",
      " 27  total_of_special_requests       87396 non-null  int64  \n",
      " 28  reservation_status              87396 non-null  object \n",
      "dtypes: float64(3), int64(15), object(11)\n",
      "memory usage: 19.3+ MB\n"
     ]
    }
   ],
   "source": [
    "df.info()"
   ]
  },
  {
   "cell_type": "markdown",
   "id": "b143cc84",
   "metadata": {},
   "source": [
    "## Remove and Replace the Outliers"
   ]
  },
  {
   "cell_type": "code",
   "execution_count": 52,
   "id": "1f4d3075",
   "metadata": {},
   "outputs": [
    {
     "name": "stdout",
     "output_type": "stream",
     "text": [
      "-160.0 296.0\n",
      "no: of outliers= 2396\n"
     ]
    }
   ],
   "source": [
    "Q1=np.percentile(df['lead_time'],25)\n",
    "Q2=np.percentile(df['lead_time'],50)\n",
    "Q3=np.percentile(df['lead_time'],75)\n",
    "lead_time_median=df['lead_time'].median()\n",
    "IQR_leadtime=Q3-Q1\n",
    "lower_lim=Q1-1.5*IQR_leadtime\n",
    "upper_lim=Q3+1.5*IQR_leadtime\n",
    "print(lower_lim,upper_lim)\n",
    "print(\"no: of outliers=\",len(df[(df['lead_time']<lower_lim)|(df['lead_time']>upper_lim)]))\n",
    "df['lead_time']=np.where((df[\"lead_time\"]< lower_lim)|(df['lead_time']> upper_lim),lead_time_median,df['lead_time'])"
   ]
  },
  {
   "cell_type": "code",
   "execution_count": 53,
   "id": "e10a120d",
   "metadata": {},
   "outputs": [
    {
     "data": {
      "text/plain": [
       "<AxesSubplot:xlabel='is_canceled', ylabel='lead_time'>"
      ]
     },
     "execution_count": 53,
     "metadata": {},
     "output_type": "execute_result"
    },
    {
     "data": {
      "image/png": "[encoded data removed]",
      "text/plain": [
       "<Figure size 720x576 with 1 Axes>"
      ]
     },
     "metadata": {
      "needs_background": "light"
     },
     "output_type": "display_data"
    }
   ],
   "source": [
    "plt.figure(figsize=(10,8))\n",
    "sns.boxplot(data=df,x='is_canceled',y='lead_time')"
   ]
  },
  {
   "cell_type": "code",
   "execution_count": 54,
   "id": "1cfc72db",
   "metadata": {},
   "outputs": [
    {
     "name": "stdout",
     "output_type": "stream",
     "text": [
      "-3.5 8.5\n",
      "no: of outliers= 1531\n"
     ]
    }
   ],
   "source": [
    "Q1=np.percentile(df['stays_in_week_nights'],25)\n",
    "Q2=np.percentile(df['stays_in_week_nights'],50)\n",
    "Q3=np.percentile(df['stays_in_week_nights'],75)\n",
    "threshold=np.percentile(df['stays_in_week_nights'],95)\n",
    "IQR_weekstay=Q3-Q1\n",
    "lower_lim=Q1-1.5*IQR_weekstay\n",
    "upper_lim=Q3+1.5*IQR_weekstay\n",
    "print(lower_lim,upper_lim)\n",
    "print(\"no: of outliers=\",len(df[(df['stays_in_week_nights']<lower_lim)|(df['stays_in_week_nights']>upper_lim)]))\n",
    "df['stays_in_week_nights']=np.where((df[\"stays_in_week_nights\"]< lower_lim)|(df['stays_in_week_nights']> upper_lim),threshold,df['stays_in_week_nights'])"
   ]
  },
  {
   "cell_type": "code",
   "execution_count": 55,
   "id": "85b367d9",
   "metadata": {},
   "outputs": [
    {
     "data": {
      "text/plain": [
       "<AxesSubplot:xlabel='stays_in_week_nights', ylabel='count'>"
      ]
     },
     "execution_count": 55,
     "metadata": {},
     "output_type": "execute_result"
    },
    {
     "data": {
      "image/png": "[encoded data removed]",
      "text/plain": [
       "<Figure size 720x576 with 1 Axes>"
      ]
     },
     "metadata": {
      "needs_background": "light"
     },
     "output_type": "display_data"
    }
   ],
   "source": [
    "plt.figure(figsize=(10,8))\n",
    "sns.countplot(df['stays_in_week_nights'],hue=df['is_canceled'])"
   ]
  },
  {
   "cell_type": "code",
   "execution_count": 56,
   "id": "1f85e350",
   "metadata": {},
   "outputs": [
    {
     "name": "stdout",
     "output_type": "stream",
     "text": [
      "-3.0 5.0\n",
      "no: of outliers= 220\n"
     ]
    }
   ],
   "source": [
    "Q1=np.percentile(df['stays_in_weekend_nights'],25)\n",
    "Q2=np.percentile(df['stays_in_weekend_nights'],50)\n",
    "Q3=np.percentile(df['stays_in_weekend_nights'],75)\n",
    "threshold=np.percentile(df['stays_in_weekend_nights'],95)\n",
    "IQR_weekendstay=Q3-Q1\n",
    "lower_lim=Q1-1.5*IQR_weekendstay\n",
    "upper_lim=Q3+1.5*IQR_weekendstay\n",
    "print(lower_lim,upper_lim)\n",
    "print(\"no: of outliers=\",len(df[(df['stays_in_weekend_nights']<lower_lim)|(df['stays_in_weekend_nights']>upper_lim)]))\n",
    "df['stays_in_weekend_nights']=np.where((df[\"stays_in_weekend_nights\"]< lower_lim)|(df['stays_in_weekend_nights']> upper_lim),threshold,df['stays_in_weekend_nights'])"
   ]
  },
  {
   "cell_type": "code",
   "execution_count": 57,
   "id": "e632c7d7",
   "metadata": {},
   "outputs": [
    {
     "data": {
      "text/plain": [
       "<AxesSubplot:xlabel='stays_in_weekend_nights', ylabel='count'>"
      ]
     },
     "execution_count": 57,
     "metadata": {},
     "output_type": "execute_result"
    },
    {
     "data": {
      "image/png": "[encoded data removed]",
      "text/plain": [
       "<Figure size 720x576 with 1 Axes>"
      ]
     },
     "metadata": {
      "needs_background": "light"
     },
     "output_type": "display_data"
    }
   ],
   "source": [
    "plt.figure(figsize=(10,8))\n",
    "sns.countplot(df['stays_in_weekend_nights'],hue=df['is_canceled'])"
   ]
  },
  {
   "cell_type": "code",
   "execution_count": 58,
   "id": "1fb2b05f",
   "metadata": {},
   "outputs": [
    {
     "name": "stdout",
     "output_type": "stream",
     "text": [
      "-328.5 571.5\n",
      "no: of outliers= 0\n"
     ]
    }
   ],
   "source": [
    "Q1=np.percentile(df['agent'],25)\n",
    "Q2=np.percentile(df['agent'],50)\n",
    "Q3=np.percentile(df['agent'],75)\n",
    "threshold=np.percentile(df['agent'],95)\n",
    "IQR_agent=Q3-Q1\n",
    "lower_lim=Q1-1.5*IQR_agent\n",
    "upper_lim=Q3+1.5*IQR_agent\n",
    "print(lower_lim,upper_lim)\n",
    "print(\"no: of outliers=\",len(df[(df['agent']<lower_lim)|(df['agent']>upper_lim)]))\n",
    "df['agent']=np.where((df[\"agent\"]< lower_lim)|(df['agent']> upper_lim),threshold,df['agent'])"
   ]
  },
  {
   "cell_type": "markdown",
   "id": "60417b27",
   "metadata": {},
   "source": [
    "There are no outliers in agent column"
   ]
  },
  {
   "cell_type": "code",
   "execution_count": 59,
   "id": "41d36cb1",
   "metadata": {},
   "outputs": [
    {
     "name": "stdout",
     "output_type": "stream",
     "text": [
      "-21.0 227.0\n",
      "no: of outliers= 2490\n"
     ]
    }
   ],
   "source": [
    "Q1=np.percentile(df['adr'],25)\n",
    "Q2=np.percentile(df['adr'],50)\n",
    "Q3=np.percentile(df['adr'],75)\n",
    "threshold=np.percentile(df['adr'],95)\n",
    "IQR_adr=Q3-Q1\n",
    "lower_lim=Q1-1.5*IQR_adr\n",
    "upper_lim=Q3+1.5*IQR_adr\n",
    "print(lower_lim,upper_lim)\n",
    "print(\"no: of outliers=\",len(df[(df['adr']<lower_lim)|(df['adr']>upper_lim)]))\n",
    "df['adr']=np.where((df[\"adr\"]< lower_lim)|(df['adr']> upper_lim),threshold,df['adr'])"
   ]
  },
  {
   "cell_type": "code",
   "execution_count": 60,
   "id": "8a41be49",
   "metadata": {},
   "outputs": [
    {
     "data": {
      "text/plain": [
       "<AxesSubplot:xlabel='is_canceled', ylabel='adr'>"
      ]
     },
     "execution_count": 60,
     "metadata": {},
     "output_type": "execute_result"
    },
    {
     "data": {
      "image/png": "[encoded data removed]",
      "text/plain": [
       "<Figure size 720x576 with 1 Axes>"
      ]
     },
     "metadata": {
      "needs_background": "light"
     },
     "output_type": "display_data"
    }
   ],
   "source": [
    "plt.figure(figsize=(10,8))\n",
    "sns.boxplot(data=df,x='is_canceled',y='adr')"
   ]
  },
  {
   "cell_type": "markdown",
   "id": "9cbbf093",
   "metadata": {},
   "source": [
    "## Merging Categories"
   ]
  },
  {
   "cell_type": "markdown",
   "id": "a817cb33",
   "metadata": {},
   "source": [
    "As per our EDA,the following conclusions were arrived.\n",
    "* The values 4 and above in \"adult\" column can be combined to a single category.\n",
    "* Values 2 and above can be combined in 'children' column.\n",
    "* Values 2 and above can be combined in 'babies' column.\n",
    "* Previous_cancellations above 1 can be combined to a single category\n",
    "* previous_bookings_not_canceled equal to and above 1 can be combined to a single category\n",
    "* Booking_changes above 2 can be combined to a single category.\n",
    "* Days in waiting list above 0 can be combined to a single category."
   ]
  },
  {
   "cell_type": "code",
   "execution_count": 61,
   "id": "a7eda674",
   "metadata": {},
   "outputs": [
    {
     "data": {
      "text/plain": [
       "2    64497\n",
       "1    16503\n",
       "3     5935\n",
       "0      385\n",
       "4       76\n",
       "Name: adults, dtype: int64"
      ]
     },
     "execution_count": 61,
     "metadata": {},
     "output_type": "execute_result"
    }
   ],
   "source": [
    "df['adults']=df['adults'].apply(lambda x:4 if x >= 4 else x)\n",
    "df['adults'].value_counts()"
   ]
  },
  {
   "cell_type": "code",
   "execution_count": 62,
   "id": "5b8b17d0",
   "metadata": {},
   "outputs": [
    {
     "data": {
      "text/plain": [
       "0.0    79032\n",
       "1.0     4695\n",
       "2.0     3669\n",
       "Name: children, dtype: int64"
      ]
     },
     "execution_count": 62,
     "metadata": {},
     "output_type": "execute_result"
    }
   ],
   "source": [
    "df['children']=df['children'].apply(lambda x:2 if x >= 2 else x)\n",
    "df['children'].value_counts()"
   ]
  },
  {
   "cell_type": "code",
   "execution_count": 63,
   "id": "71bc0a35",
   "metadata": {},
   "outputs": [
    {
     "data": {
      "text/plain": [
       "<AxesSubplot:xlabel='children', ylabel='count'>"
      ]
     },
     "execution_count": 63,
     "metadata": {},
     "output_type": "execute_result"
    },
    {
     "data": {
      "image/png": "[encoded data removed]",
      "text/plain": [
       "<Figure size 720x576 with 1 Axes>"
      ]
     },
     "metadata": {
      "needs_background": "light"
     },
     "output_type": "display_data"
    }
   ],
   "source": [
    "plt.figure(figsize=(10,8))\n",
    "sns.countplot(df['children'],hue=df['is_canceled'])"
   ]
  },
  {
   "cell_type": "code",
   "execution_count": 64,
   "id": "9d7ef578",
   "metadata": {},
   "outputs": [
    {
     "data": {
      "text/plain": [
       "0    86482\n",
       "1      914\n",
       "Name: babies, dtype: int64"
      ]
     },
     "execution_count": 64,
     "metadata": {},
     "output_type": "execute_result"
    }
   ],
   "source": [
    "df['babies']=df['babies'].apply(lambda x:1 if x >= 1 else x)\n",
    "df['babies'].value_counts()"
   ]
  },
  {
   "cell_type": "code",
   "execution_count": 65,
   "id": "a00b0aec",
   "metadata": {},
   "outputs": [
    {
     "data": {
      "text/plain": [
       "<AxesSubplot:xlabel='babies', ylabel='count'>"
      ]
     },
     "execution_count": 65,
     "metadata": {},
     "output_type": "execute_result"
    },
    {
     "data": {
      "image/png": "[encoded data removed]",
      "text/plain": [
       "<Figure size 720x576 with 1 Axes>"
      ]
     },
     "metadata": {
      "needs_background": "light"
     },
     "output_type": "display_data"
    }
   ],
   "source": [
    "plt.figure(figsize=(10,8))\n",
    "sns.countplot(df['babies'],hue=df['is_canceled'])"
   ]
  },
  {
   "cell_type": "code",
   "execution_count": 66,
   "id": "c69af9c5",
   "metadata": {},
   "outputs": [
    {
     "data": {
      "text/plain": [
       "0    85711\n",
       "1     1407\n",
       "2      278\n",
       "Name: previous_cancellations, dtype: int64"
      ]
     },
     "execution_count": 66,
     "metadata": {},
     "output_type": "execute_result"
    }
   ],
   "source": [
    "df['previous_cancellations']=df['previous_cancellations'].apply(lambda x:2 if x >= 2 else x)\n",
    "df['previous_cancellations'].value_counts()"
   ]
  },
  {
   "cell_type": "code",
   "execution_count": 67,
   "id": "b306de54",
   "metadata": {},
   "outputs": [
    {
     "data": {
      "text/plain": [
       "0    83851\n",
       "1     3545\n",
       "Name: previous_bookings_not_canceled, dtype: int64"
      ]
     },
     "execution_count": 67,
     "metadata": {},
     "output_type": "execute_result"
    }
   ],
   "source": [
    "df['previous_bookings_not_canceled']=df['previous_bookings_not_canceled'].apply(lambda x:1 if x >= 1 else x)\n",
    "df['previous_bookings_not_canceled'].value_counts()"
   ]
  },
  {
   "cell_type": "code",
   "execution_count": 68,
   "id": "a41f6233",
   "metadata": {},
   "outputs": [
    {
     "data": {
      "text/plain": [
       "0    71494\n",
       "1    10902\n",
       "2     3508\n",
       "3     1492\n",
       "Name: booking_changes, dtype: int64"
      ]
     },
     "execution_count": 68,
     "metadata": {},
     "output_type": "execute_result"
    }
   ],
   "source": [
    "df['booking_changes']=df['booking_changes'].apply(lambda x:3 if x >= 3 else x)\n",
    "df['booking_changes'].value_counts()"
   ]
  },
  {
   "cell_type": "code",
   "execution_count": 69,
   "id": "92f71de1",
   "metadata": {},
   "outputs": [
    {
     "data": {
      "text/plain": [
       "0    86536\n",
       "1      860\n",
       "Name: days_in_waiting_list, dtype: int64"
      ]
     },
     "execution_count": 69,
     "metadata": {},
     "output_type": "execute_result"
    }
   ],
   "source": [
    "df['days_in_waiting_list']=df['days_in_waiting_list'].apply(lambda x:1 if x >= 1 else x)\n",
    "df['days_in_waiting_list'].value_counts()"
   ]
  },
  {
   "cell_type": "code",
   "execution_count": 70,
   "id": "f0b3980f",
   "metadata": {},
   "outputs": [
    {
     "data": {
      "text/plain": [
       "Index(['PRT', 'GBR', 'FRA', 'ESP', 'DEU', 'ITA', 'IRL', 'BEL', 'BRA', 'NLD',\n",
       "       ...\n",
       "       'BHS', 'UMI', 'NIC', 'MDG', 'SMR', 'MMR', 'BFA', 'CYM', 'MLI', 'KHM'],\n",
       "      dtype='object', length=177)"
      ]
     },
     "execution_count": 70,
     "metadata": {},
     "output_type": "execute_result"
    }
   ],
   "source": [
    "value_counts=df['country'].value_counts()\n",
    "value_counts.index"
   ]
  },
  {
   "cell_type": "code",
   "execution_count": 71,
   "id": "e02b0ef4",
   "metadata": {},
   "outputs": [
    {
     "data": {
      "text/plain": [
       "PRT       27905\n",
       "others    27582\n",
       "GBR       10433\n",
       "FRA        8837\n",
       "ESP        7252\n",
       "DEU        5387\n",
       "Name: country, dtype: int64"
      ]
     },
     "execution_count": 71,
     "metadata": {},
     "output_type": "execute_result"
    }
   ],
   "source": [
    "for country in value_counts.index:\n",
    "    if value_counts[country]<5000:\n",
    "         df['country']=df['country'].replace(country,\"others\")\n",
    "df['country'].value_counts()"
   ]
  },
  {
   "cell_type": "code",
   "execution_count": 72,
   "id": "a2d64512",
   "metadata": {},
   "outputs": [
    {
     "data": {
      "text/plain": [
       "<AxesSubplot:xlabel='country', ylabel='count'>"
      ]
     },
     "execution_count": 72,
     "metadata": {},
     "output_type": "execute_result"
    },
    {
     "data": {
      "image/png": "[encoded data removed]",
      "text/plain": [
       "<Figure size 432x288 with 1 Axes>"
      ]
     },
     "metadata": {
      "needs_background": "light"
     },
     "output_type": "display_data"
    }
   ],
   "source": [
    "sns.countplot(df['country'],hue=df['is_canceled'])"
   ]
  },
  {
   "cell_type": "markdown",
   "id": "e6765e38",
   "metadata": {},
   "source": [
    "# Label encoding"
   ]
  },
  {
   "cell_type": "code",
   "execution_count": 73,
   "id": "30eb2f32",
   "metadata": {},
   "outputs": [
    {
     "data": {
      "text/html": [
       "<div>\n",
       "<style scoped>\n",
       "    .dataframe tbody tr th:only-of-type {\n",
       "        vertical-align: middle;\n",
       "    }\n",
       "\n",
       "    .dataframe tbody tr th {\n",
       "        vertical-align: top;\n",
       "    }\n",
       "\n",
       "    .dataframe thead th {\n",
       "        text-align: right;\n",
       "    }\n",
       "</style>\n",
       "<table border=\"1\" class=\"dataframe\">\n",
       "  <thead>\n",
       "    <tr style=\"text-align: right;\">\n",
       "      <th></th>\n",
       "      <th>is_canceled</th>\n",
       "      <th>lead_time</th>\n",
       "      <th>arrival_date_year</th>\n",
       "      <th>arrival_date_day_of_month</th>\n",
       "      <th>stays_in_weekend_nights</th>\n",
       "      <th>stays_in_week_nights</th>\n",
       "      <th>adults</th>\n",
       "      <th>children</th>\n",
       "      <th>babies</th>\n",
       "      <th>is_repeated_guest</th>\n",
       "      <th>previous_cancellations</th>\n",
       "      <th>previous_bookings_not_canceled</th>\n",
       "      <th>booking_changes</th>\n",
       "      <th>agent</th>\n",
       "      <th>days_in_waiting_list</th>\n",
       "      <th>adr</th>\n",
       "      <th>required_car_parking_spaces</th>\n",
       "      <th>total_of_special_requests</th>\n",
       "    </tr>\n",
       "  </thead>\n",
       "  <tbody>\n",
       "    <tr>\n",
       "      <th>count</th>\n",
       "      <td>87396.000000</td>\n",
       "      <td>87396.000000</td>\n",
       "      <td>87396.000000</td>\n",
       "      <td>87396.000000</td>\n",
       "      <td>87396.000000</td>\n",
       "      <td>87396.000000</td>\n",
       "      <td>87396.000000</td>\n",
       "      <td>87396.000000</td>\n",
       "      <td>87396.000000</td>\n",
       "      <td>87396.000000</td>\n",
       "      <td>87396.000000</td>\n",
       "      <td>87396.000000</td>\n",
       "      <td>87396.000000</td>\n",
       "      <td>87396.000000</td>\n",
       "      <td>87396.000000</td>\n",
       "      <td>87396.000000</td>\n",
       "      <td>87396.000000</td>\n",
       "      <td>87396.000000</td>\n",
       "    </tr>\n",
       "    <tr>\n",
       "      <th>mean</th>\n",
       "      <td>0.274898</td>\n",
       "      <td>71.592373</td>\n",
       "      <td>2016.210296</td>\n",
       "      <td>15.815541</td>\n",
       "      <td>0.991590</td>\n",
       "      <td>2.533297</td>\n",
       "      <td>1.872008</td>\n",
       "      <td>0.137684</td>\n",
       "      <td>0.010458</td>\n",
       "      <td>0.039075</td>\n",
       "      <td>0.022461</td>\n",
       "      <td>0.040562</td>\n",
       "      <td>0.256236</td>\n",
       "      <td>94.138306</td>\n",
       "      <td>0.009840</td>\n",
       "      <td>104.689209</td>\n",
       "      <td>0.084226</td>\n",
       "      <td>0.698567</td>\n",
       "    </tr>\n",
       "    <tr>\n",
       "      <th>std</th>\n",
       "      <td>0.446466</td>\n",
       "      <td>72.442331</td>\n",
       "      <td>0.686102</td>\n",
       "      <td>8.835146</td>\n",
       "      <td>0.975146</td>\n",
       "      <td>1.689835</td>\n",
       "      <td>0.511331</td>\n",
       "      <td>0.450213</td>\n",
       "      <td>0.101729</td>\n",
       "      <td>0.193775</td>\n",
       "      <td>0.168281</td>\n",
       "      <td>0.197276</td>\n",
       "      <td>0.610976</td>\n",
       "      <td>104.995926</td>\n",
       "      <td>0.098709</td>\n",
       "      <td>47.695802</td>\n",
       "      <td>0.281533</td>\n",
       "      <td>0.831946</td>\n",
       "    </tr>\n",
       "    <tr>\n",
       "      <th>min</th>\n",
       "      <td>0.000000</td>\n",
       "      <td>0.000000</td>\n",
       "      <td>2015.000000</td>\n",
       "      <td>1.000000</td>\n",
       "      <td>0.000000</td>\n",
       "      <td>0.000000</td>\n",
       "      <td>0.000000</td>\n",
       "      <td>0.000000</td>\n",
       "      <td>0.000000</td>\n",
       "      <td>0.000000</td>\n",
       "      <td>0.000000</td>\n",
       "      <td>0.000000</td>\n",
       "      <td>0.000000</td>\n",
       "      <td>1.000000</td>\n",
       "      <td>0.000000</td>\n",
       "      <td>-6.380000</td>\n",
       "      <td>0.000000</td>\n",
       "      <td>0.000000</td>\n",
       "    </tr>\n",
       "    <tr>\n",
       "      <th>25%</th>\n",
       "      <td>0.000000</td>\n",
       "      <td>11.000000</td>\n",
       "      <td>2016.000000</td>\n",
       "      <td>8.000000</td>\n",
       "      <td>0.000000</td>\n",
       "      <td>1.000000</td>\n",
       "      <td>2.000000</td>\n",
       "      <td>0.000000</td>\n",
       "      <td>0.000000</td>\n",
       "      <td>0.000000</td>\n",
       "      <td>0.000000</td>\n",
       "      <td>0.000000</td>\n",
       "      <td>0.000000</td>\n",
       "      <td>9.000000</td>\n",
       "      <td>0.000000</td>\n",
       "      <td>72.000000</td>\n",
       "      <td>0.000000</td>\n",
       "      <td>0.000000</td>\n",
       "    </tr>\n",
       "    <tr>\n",
       "      <th>50%</th>\n",
       "      <td>0.000000</td>\n",
       "      <td>49.000000</td>\n",
       "      <td>2016.000000</td>\n",
       "      <td>16.000000</td>\n",
       "      <td>1.000000</td>\n",
       "      <td>2.000000</td>\n",
       "      <td>2.000000</td>\n",
       "      <td>0.000000</td>\n",
       "      <td>0.000000</td>\n",
       "      <td>0.000000</td>\n",
       "      <td>0.000000</td>\n",
       "      <td>0.000000</td>\n",
       "      <td>0.000000</td>\n",
       "      <td>28.000000</td>\n",
       "      <td>0.000000</td>\n",
       "      <td>98.100000</td>\n",
       "      <td>0.000000</td>\n",
       "      <td>0.000000</td>\n",
       "    </tr>\n",
       "    <tr>\n",
       "      <th>75%</th>\n",
       "      <td>1.000000</td>\n",
       "      <td>114.000000</td>\n",
       "      <td>2017.000000</td>\n",
       "      <td>23.000000</td>\n",
       "      <td>2.000000</td>\n",
       "      <td>4.000000</td>\n",
       "      <td>2.000000</td>\n",
       "      <td>0.000000</td>\n",
       "      <td>0.000000</td>\n",
       "      <td>0.000000</td>\n",
       "      <td>0.000000</td>\n",
       "      <td>0.000000</td>\n",
       "      <td>0.000000</td>\n",
       "      <td>234.000000</td>\n",
       "      <td>0.000000</td>\n",
       "      <td>134.000000</td>\n",
       "      <td>0.000000</td>\n",
       "      <td>1.000000</td>\n",
       "    </tr>\n",
       "    <tr>\n",
       "      <th>max</th>\n",
       "      <td>1.000000</td>\n",
       "      <td>296.000000</td>\n",
       "      <td>2017.000000</td>\n",
       "      <td>31.000000</td>\n",
       "      <td>5.000000</td>\n",
       "      <td>8.000000</td>\n",
       "      <td>4.000000</td>\n",
       "      <td>2.000000</td>\n",
       "      <td>1.000000</td>\n",
       "      <td>1.000000</td>\n",
       "      <td>2.000000</td>\n",
       "      <td>1.000000</td>\n",
       "      <td>3.000000</td>\n",
       "      <td>535.000000</td>\n",
       "      <td>1.000000</td>\n",
       "      <td>227.000000</td>\n",
       "      <td>8.000000</td>\n",
       "      <td>5.000000</td>\n",
       "    </tr>\n",
       "  </tbody>\n",
       "</table>\n",
       "</div>"
      ],
      "text/plain": [
       "        is_canceled     lead_time  arrival_date_year  \\\n",
       "count  87396.000000  87396.000000       87396.000000   \n",
       "mean       0.274898     71.592373        2016.210296   \n",
       "std        0.446466     72.442331           0.686102   \n",
       "min        0.000000      0.000000        2015.000000   \n",
       "25%        0.000000     11.000000        2016.000000   \n",
       "50%        0.000000     49.000000        2016.000000   \n",
       "75%        1.000000    114.000000        2017.000000   \n",
       "max        1.000000    296.000000        2017.000000   \n",
       "\n",
       "       arrival_date_day_of_month  stays_in_weekend_nights  \\\n",
       "count               87396.000000             87396.000000   \n",
       "mean                   15.815541                 0.991590   \n",
       "std                     8.835146                 0.975146   \n",
       "min                     1.000000                 0.000000   \n",
       "25%                     8.000000                 0.000000   \n",
       "50%                    16.000000                 1.000000   \n",
       "75%                    23.000000                 2.000000   \n",
       "max                    31.000000                 5.000000   \n",
       "\n",
       "       stays_in_week_nights        adults      children        babies  \\\n",
       "count          87396.000000  87396.000000  87396.000000  87396.000000   \n",
       "mean               2.533297      1.872008      0.137684      0.010458   \n",
       "std                1.689835      0.511331      0.450213      0.101729   \n",
       "min                0.000000      0.000000      0.000000      0.000000   \n",
       "25%                1.000000      2.000000      0.000000      0.000000   \n",
       "50%                2.000000      2.000000      0.000000      0.000000   \n",
       "75%                4.000000      2.000000      0.000000      0.000000   \n",
       "max                8.000000      4.000000      2.000000      1.000000   \n",
       "\n",
       "       is_repeated_guest  previous_cancellations  \\\n",
       "count       87396.000000            87396.000000   \n",
       "mean            0.039075                0.022461   \n",
       "std             0.193775                0.168281   \n",
       "min             0.000000                0.000000   \n",
       "25%             0.000000                0.000000   \n",
       "50%             0.000000                0.000000   \n",
       "75%             0.000000                0.000000   \n",
       "max             1.000000                2.000000   \n",
       "\n",
       "       previous_bookings_not_canceled  booking_changes         agent  \\\n",
       "count                    87396.000000     87396.000000  87396.000000   \n",
       "mean                         0.040562         0.256236     94.138306   \n",
       "std                          0.197276         0.610976    104.995926   \n",
       "min                          0.000000         0.000000      1.000000   \n",
       "25%                          0.000000         0.000000      9.000000   \n",
       "50%                          0.000000         0.000000     28.000000   \n",
       "75%                          0.000000         0.000000    234.000000   \n",
       "max                          1.000000         3.000000    535.000000   \n",
       "\n",
       "       days_in_waiting_list           adr  required_car_parking_spaces  \\\n",
       "count          87396.000000  87396.000000                 87396.000000   \n",
       "mean               0.009840    104.689209                     0.084226   \n",
       "std                0.098709     47.695802                     0.281533   \n",
       "min                0.000000     -6.380000                     0.000000   \n",
       "25%                0.000000     72.000000                     0.000000   \n",
       "50%                0.000000     98.100000                     0.000000   \n",
       "75%                0.000000    134.000000                     0.000000   \n",
       "max                1.000000    227.000000                     8.000000   \n",
       "\n",
       "       total_of_special_requests  \n",
       "count               87396.000000  \n",
       "mean                    0.698567  \n",
       "std                     0.831946  \n",
       "min                     0.000000  \n",
       "25%                     0.000000  \n",
       "50%                     0.000000  \n",
       "75%                     1.000000  \n",
       "max                     5.000000  "
      ]
     },
     "execution_count": 73,
     "metadata": {},
     "output_type": "execute_result"
    }
   ],
   "source": [
    "df.describe()"
   ]
  },
  {
   "cell_type": "code",
   "execution_count": 74,
   "id": "8cc0a4f8",
   "metadata": {},
   "outputs": [
    {
     "data": {
      "text/html": [
       "<div>\n",
       "<style scoped>\n",
       "    .dataframe tbody tr th:only-of-type {\n",
       "        vertical-align: middle;\n",
       "    }\n",
       "\n",
       "    .dataframe tbody tr th {\n",
       "        vertical-align: top;\n",
       "    }\n",
       "\n",
       "    .dataframe thead th {\n",
       "        text-align: right;\n",
       "    }\n",
       "</style>\n",
       "<table border=\"1\" class=\"dataframe\">\n",
       "  <thead>\n",
       "    <tr style=\"text-align: right;\">\n",
       "      <th></th>\n",
       "      <th>hotel</th>\n",
       "      <th>arrival_date_month</th>\n",
       "      <th>meal</th>\n",
       "      <th>country</th>\n",
       "      <th>market_segment</th>\n",
       "      <th>distribution_channel</th>\n",
       "      <th>reserved_room_type</th>\n",
       "      <th>assigned_room_type</th>\n",
       "      <th>deposit_type</th>\n",
       "      <th>customer_type</th>\n",
       "      <th>reservation_status</th>\n",
       "    </tr>\n",
       "  </thead>\n",
       "  <tbody>\n",
       "    <tr>\n",
       "      <th>count</th>\n",
       "      <td>87396</td>\n",
       "      <td>87396</td>\n",
       "      <td>87396</td>\n",
       "      <td>87396</td>\n",
       "      <td>87396</td>\n",
       "      <td>87396</td>\n",
       "      <td>87396</td>\n",
       "      <td>87396</td>\n",
       "      <td>87396</td>\n",
       "      <td>87396</td>\n",
       "      <td>87396</td>\n",
       "    </tr>\n",
       "    <tr>\n",
       "      <th>unique</th>\n",
       "      <td>2</td>\n",
       "      <td>12</td>\n",
       "      <td>5</td>\n",
       "      <td>6</td>\n",
       "      <td>8</td>\n",
       "      <td>5</td>\n",
       "      <td>10</td>\n",
       "      <td>12</td>\n",
       "      <td>3</td>\n",
       "      <td>4</td>\n",
       "      <td>3</td>\n",
       "    </tr>\n",
       "    <tr>\n",
       "      <th>top</th>\n",
       "      <td>City Hotel</td>\n",
       "      <td>August</td>\n",
       "      <td>BB</td>\n",
       "      <td>PRT</td>\n",
       "      <td>Online TA</td>\n",
       "      <td>TA/TO</td>\n",
       "      <td>A</td>\n",
       "      <td>A</td>\n",
       "      <td>No Deposit</td>\n",
       "      <td>Transient</td>\n",
       "      <td>Check-Out</td>\n",
       "    </tr>\n",
       "    <tr>\n",
       "      <th>freq</th>\n",
       "      <td>53428</td>\n",
       "      <td>11257</td>\n",
       "      <td>67978</td>\n",
       "      <td>27905</td>\n",
       "      <td>51618</td>\n",
       "      <td>69141</td>\n",
       "      <td>56552</td>\n",
       "      <td>46313</td>\n",
       "      <td>86251</td>\n",
       "      <td>71986</td>\n",
       "      <td>63371</td>\n",
       "    </tr>\n",
       "  </tbody>\n",
       "</table>\n",
       "</div>"
      ],
      "text/plain": [
       "             hotel arrival_date_month   meal country market_segment  \\\n",
       "count        87396              87396  87396   87396          87396   \n",
       "unique           2                 12      5       6              8   \n",
       "top     City Hotel             August     BB     PRT      Online TA   \n",
       "freq         53428              11257  67978   27905          51618   \n",
       "\n",
       "       distribution_channel reserved_room_type assigned_room_type  \\\n",
       "count                 87396              87396              87396   \n",
       "unique                    5                 10                 12   \n",
       "top                   TA/TO                  A                  A   \n",
       "freq                  69141              56552              46313   \n",
       "\n",
       "       deposit_type customer_type reservation_status  \n",
       "count         87396         87396              87396  \n",
       "unique            3             4                  3  \n",
       "top      No Deposit     Transient          Check-Out  \n",
       "freq          86251         71986              63371  "
      ]
     },
     "execution_count": 74,
     "metadata": {},
     "output_type": "execute_result"
    }
   ],
   "source": [
    "df.describe(include=object)"
   ]
  },
  {
   "cell_type": "code",
   "execution_count": 75,
   "id": "7e1e29dd",
   "metadata": {},
   "outputs": [
    {
     "data": {
      "text/plain": [
       "Index(['hotel', 'arrival_date_month', 'meal', 'country', 'market_segment',\n",
       "       'distribution_channel', 'reserved_room_type', 'assigned_room_type',\n",
       "       'deposit_type', 'customer_type', 'reservation_status'],\n",
       "      dtype='object')"
      ]
     },
     "execution_count": 75,
     "metadata": {},
     "output_type": "execute_result"
    }
   ],
   "source": [
    "objects=df.select_dtypes(include=object).columns\n",
    "objects"
   ]
  },
  {
   "cell_type": "code",
   "execution_count": 76,
   "id": "ac0a658d",
   "metadata": {},
   "outputs": [
    {
     "data": {
      "text/html": [
       "<div>\n",
       "<style scoped>\n",
       "    .dataframe tbody tr th:only-of-type {\n",
       "        vertical-align: middle;\n",
       "    }\n",
       "\n",
       "    .dataframe tbody tr th {\n",
       "        vertical-align: top;\n",
       "    }\n",
       "\n",
       "    .dataframe thead th {\n",
       "        text-align: right;\n",
       "    }\n",
       "</style>\n",
       "<table border=\"1\" class=\"dataframe\">\n",
       "  <thead>\n",
       "    <tr style=\"text-align: right;\">\n",
       "      <th></th>\n",
       "      <th>is_canceled</th>\n",
       "      <th>lead_time</th>\n",
       "      <th>arrival_date_year</th>\n",
       "      <th>arrival_date_day_of_month</th>\n",
       "      <th>stays_in_weekend_nights</th>\n",
       "      <th>stays_in_week_nights</th>\n",
       "      <th>adults</th>\n",
       "      <th>children</th>\n",
       "      <th>babies</th>\n",
       "      <th>is_repeated_guest</th>\n",
       "      <th>previous_cancellations</th>\n",
       "      <th>previous_bookings_not_canceled</th>\n",
       "      <th>booking_changes</th>\n",
       "      <th>agent</th>\n",
       "      <th>days_in_waiting_list</th>\n",
       "      <th>adr</th>\n",
       "      <th>required_car_parking_spaces</th>\n",
       "      <th>total_of_special_requests</th>\n",
       "      <th>hotel_Resort Hotel</th>\n",
       "      <th>arrival_date_month_August</th>\n",
       "      <th>arrival_date_month_December</th>\n",
       "      <th>arrival_date_month_February</th>\n",
       "      <th>arrival_date_month_January</th>\n",
       "      <th>arrival_date_month_July</th>\n",
       "      <th>arrival_date_month_June</th>\n",
       "      <th>arrival_date_month_March</th>\n",
       "      <th>arrival_date_month_May</th>\n",
       "      <th>arrival_date_month_November</th>\n",
       "      <th>arrival_date_month_October</th>\n",
       "      <th>arrival_date_month_September</th>\n",
       "      <th>meal_FB</th>\n",
       "      <th>meal_HB</th>\n",
       "      <th>meal_SC</th>\n",
       "      <th>meal_Undefined</th>\n",
       "      <th>country_ESP</th>\n",
       "      <th>country_FRA</th>\n",
       "      <th>country_GBR</th>\n",
       "      <th>country_PRT</th>\n",
       "      <th>country_others</th>\n",
       "      <th>market_segment_Complementary</th>\n",
       "      <th>market_segment_Corporate</th>\n",
       "      <th>market_segment_Direct</th>\n",
       "      <th>market_segment_Groups</th>\n",
       "      <th>market_segment_Offline TA/TO</th>\n",
       "      <th>market_segment_Online TA</th>\n",
       "      <th>market_segment_Undefined</th>\n",
       "      <th>distribution_channel_Direct</th>\n",
       "      <th>distribution_channel_GDS</th>\n",
       "      <th>distribution_channel_TA/TO</th>\n",
       "      <th>distribution_channel_Undefined</th>\n",
       "      <th>reserved_room_type_B</th>\n",
       "      <th>reserved_room_type_C</th>\n",
       "      <th>reserved_room_type_D</th>\n",
       "      <th>reserved_room_type_E</th>\n",
       "      <th>reserved_room_type_F</th>\n",
       "      <th>reserved_room_type_G</th>\n",
       "      <th>reserved_room_type_H</th>\n",
       "      <th>reserved_room_type_L</th>\n",
       "      <th>reserved_room_type_P</th>\n",
       "      <th>assigned_room_type_B</th>\n",
       "      <th>assigned_room_type_C</th>\n",
       "      <th>assigned_room_type_D</th>\n",
       "      <th>assigned_room_type_E</th>\n",
       "      <th>assigned_room_type_F</th>\n",
       "      <th>assigned_room_type_G</th>\n",
       "      <th>assigned_room_type_H</th>\n",
       "      <th>assigned_room_type_I</th>\n",
       "      <th>assigned_room_type_K</th>\n",
       "      <th>assigned_room_type_L</th>\n",
       "      <th>assigned_room_type_P</th>\n",
       "      <th>deposit_type_Non Refund</th>\n",
       "      <th>deposit_type_Refundable</th>\n",
       "      <th>customer_type_Group</th>\n",
       "      <th>customer_type_Transient</th>\n",
       "      <th>customer_type_Transient-Party</th>\n",
       "      <th>reservation_status_Check-Out</th>\n",
       "      <th>reservation_status_No-Show</th>\n",
       "    </tr>\n",
       "  </thead>\n",
       "  <tbody>\n",
       "    <tr>\n",
       "      <th>0</th>\n",
       "      <td>0</td>\n",
       "      <td>49.0</td>\n",
       "      <td>2015</td>\n",
       "      <td>1</td>\n",
       "      <td>0.0</td>\n",
       "      <td>0.0</td>\n",
       "      <td>2</td>\n",
       "      <td>0.0</td>\n",
       "      <td>0</td>\n",
       "      <td>0</td>\n",
       "      <td>0</td>\n",
       "      <td>0</td>\n",
       "      <td>3</td>\n",
       "      <td>94.138306</td>\n",
       "      <td>0</td>\n",
       "      <td>0.0</td>\n",
       "      <td>0</td>\n",
       "      <td>0</td>\n",
       "      <td>1</td>\n",
       "      <td>0</td>\n",
       "      <td>0</td>\n",
       "      <td>0</td>\n",
       "      <td>0</td>\n",
       "      <td>1</td>\n",
       "      <td>0</td>\n",
       "      <td>0</td>\n",
       "      <td>0</td>\n",
       "      <td>0</td>\n",
       "      <td>0</td>\n",
       "      <td>0</td>\n",
       "      <td>0</td>\n",
       "      <td>0</td>\n",
       "      <td>0</td>\n",
       "      <td>0</td>\n",
       "      <td>0</td>\n",
       "      <td>0</td>\n",
       "      <td>0</td>\n",
       "      <td>1</td>\n",
       "      <td>0</td>\n",
       "      <td>0</td>\n",
       "      <td>0</td>\n",
       "      <td>1</td>\n",
       "      <td>0</td>\n",
       "      <td>0</td>\n",
       "      <td>0</td>\n",
       "      <td>0</td>\n",
       "      <td>1</td>\n",
       "      <td>0</td>\n",
       "      <td>0</td>\n",
       "      <td>0</td>\n",
       "      <td>0</td>\n",
       "      <td>1</td>\n",
       "      <td>0</td>\n",
       "      <td>0</td>\n",
       "      <td>0</td>\n",
       "      <td>0</td>\n",
       "      <td>0</td>\n",
       "      <td>0</td>\n",
       "      <td>0</td>\n",
       "      <td>0</td>\n",
       "      <td>1</td>\n",
       "      <td>0</td>\n",
       "      <td>0</td>\n",
       "      <td>0</td>\n",
       "      <td>0</td>\n",
       "      <td>0</td>\n",
       "      <td>0</td>\n",
       "      <td>0</td>\n",
       "      <td>0</td>\n",
       "      <td>0</td>\n",
       "      <td>0</td>\n",
       "      <td>0</td>\n",
       "      <td>0</td>\n",
       "      <td>1</td>\n",
       "      <td>0</td>\n",
       "      <td>1</td>\n",
       "      <td>0</td>\n",
       "    </tr>\n",
       "    <tr>\n",
       "      <th>1</th>\n",
       "      <td>0</td>\n",
       "      <td>49.0</td>\n",
       "      <td>2015</td>\n",
       "      <td>1</td>\n",
       "      <td>0.0</td>\n",
       "      <td>0.0</td>\n",
       "      <td>2</td>\n",
       "      <td>0.0</td>\n",
       "      <td>0</td>\n",
       "      <td>0</td>\n",
       "      <td>0</td>\n",
       "      <td>0</td>\n",
       "      <td>3</td>\n",
       "      <td>94.138306</td>\n",
       "      <td>0</td>\n",
       "      <td>0.0</td>\n",
       "      <td>0</td>\n",
       "      <td>0</td>\n",
       "      <td>1</td>\n",
       "      <td>0</td>\n",
       "      <td>0</td>\n",
       "      <td>0</td>\n",
       "      <td>0</td>\n",
       "      <td>1</td>\n",
       "      <td>0</td>\n",
       "      <td>0</td>\n",
       "      <td>0</td>\n",
       "      <td>0</td>\n",
       "      <td>0</td>\n",
       "      <td>0</td>\n",
       "      <td>0</td>\n",
       "      <td>0</td>\n",
       "      <td>0</td>\n",
       "      <td>0</td>\n",
       "      <td>0</td>\n",
       "      <td>0</td>\n",
       "      <td>0</td>\n",
       "      <td>1</td>\n",
       "      <td>0</td>\n",
       "      <td>0</td>\n",
       "      <td>0</td>\n",
       "      <td>1</td>\n",
       "      <td>0</td>\n",
       "      <td>0</td>\n",
       "      <td>0</td>\n",
       "      <td>0</td>\n",
       "      <td>1</td>\n",
       "      <td>0</td>\n",
       "      <td>0</td>\n",
       "      <td>0</td>\n",
       "      <td>0</td>\n",
       "      <td>1</td>\n",
       "      <td>0</td>\n",
       "      <td>0</td>\n",
       "      <td>0</td>\n",
       "      <td>0</td>\n",
       "      <td>0</td>\n",
       "      <td>0</td>\n",
       "      <td>0</td>\n",
       "      <td>0</td>\n",
       "      <td>1</td>\n",
       "      <td>0</td>\n",
       "      <td>0</td>\n",
       "      <td>0</td>\n",
       "      <td>0</td>\n",
       "      <td>0</td>\n",
       "      <td>0</td>\n",
       "      <td>0</td>\n",
       "      <td>0</td>\n",
       "      <td>0</td>\n",
       "      <td>0</td>\n",
       "      <td>0</td>\n",
       "      <td>0</td>\n",
       "      <td>1</td>\n",
       "      <td>0</td>\n",
       "      <td>1</td>\n",
       "      <td>0</td>\n",
       "    </tr>\n",
       "    <tr>\n",
       "      <th>2</th>\n",
       "      <td>0</td>\n",
       "      <td>7.0</td>\n",
       "      <td>2015</td>\n",
       "      <td>1</td>\n",
       "      <td>0.0</td>\n",
       "      <td>1.0</td>\n",
       "      <td>1</td>\n",
       "      <td>0.0</td>\n",
       "      <td>0</td>\n",
       "      <td>0</td>\n",
       "      <td>0</td>\n",
       "      <td>0</td>\n",
       "      <td>0</td>\n",
       "      <td>94.138306</td>\n",
       "      <td>0</td>\n",
       "      <td>75.0</td>\n",
       "      <td>0</td>\n",
       "      <td>0</td>\n",
       "      <td>1</td>\n",
       "      <td>0</td>\n",
       "      <td>0</td>\n",
       "      <td>0</td>\n",
       "      <td>0</td>\n",
       "      <td>1</td>\n",
       "      <td>0</td>\n",
       "      <td>0</td>\n",
       "      <td>0</td>\n",
       "      <td>0</td>\n",
       "      <td>0</td>\n",
       "      <td>0</td>\n",
       "      <td>0</td>\n",
       "      <td>0</td>\n",
       "      <td>0</td>\n",
       "      <td>0</td>\n",
       "      <td>0</td>\n",
       "      <td>0</td>\n",
       "      <td>1</td>\n",
       "      <td>0</td>\n",
       "      <td>0</td>\n",
       "      <td>0</td>\n",
       "      <td>0</td>\n",
       "      <td>1</td>\n",
       "      <td>0</td>\n",
       "      <td>0</td>\n",
       "      <td>0</td>\n",
       "      <td>0</td>\n",
       "      <td>1</td>\n",
       "      <td>0</td>\n",
       "      <td>0</td>\n",
       "      <td>0</td>\n",
       "      <td>0</td>\n",
       "      <td>0</td>\n",
       "      <td>0</td>\n",
       "      <td>0</td>\n",
       "      <td>0</td>\n",
       "      <td>0</td>\n",
       "      <td>0</td>\n",
       "      <td>0</td>\n",
       "      <td>0</td>\n",
       "      <td>0</td>\n",
       "      <td>1</td>\n",
       "      <td>0</td>\n",
       "      <td>0</td>\n",
       "      <td>0</td>\n",
       "      <td>0</td>\n",
       "      <td>0</td>\n",
       "      <td>0</td>\n",
       "      <td>0</td>\n",
       "      <td>0</td>\n",
       "      <td>0</td>\n",
       "      <td>0</td>\n",
       "      <td>0</td>\n",
       "      <td>0</td>\n",
       "      <td>1</td>\n",
       "      <td>0</td>\n",
       "      <td>1</td>\n",
       "      <td>0</td>\n",
       "    </tr>\n",
       "    <tr>\n",
       "      <th>3</th>\n",
       "      <td>0</td>\n",
       "      <td>13.0</td>\n",
       "      <td>2015</td>\n",
       "      <td>1</td>\n",
       "      <td>0.0</td>\n",
       "      <td>1.0</td>\n",
       "      <td>1</td>\n",
       "      <td>0.0</td>\n",
       "      <td>0</td>\n",
       "      <td>0</td>\n",
       "      <td>0</td>\n",
       "      <td>0</td>\n",
       "      <td>0</td>\n",
       "      <td>304.000000</td>\n",
       "      <td>0</td>\n",
       "      <td>75.0</td>\n",
       "      <td>0</td>\n",
       "      <td>0</td>\n",
       "      <td>1</td>\n",
       "      <td>0</td>\n",
       "      <td>0</td>\n",
       "      <td>0</td>\n",
       "      <td>0</td>\n",
       "      <td>1</td>\n",
       "      <td>0</td>\n",
       "      <td>0</td>\n",
       "      <td>0</td>\n",
       "      <td>0</td>\n",
       "      <td>0</td>\n",
       "      <td>0</td>\n",
       "      <td>0</td>\n",
       "      <td>0</td>\n",
       "      <td>0</td>\n",
       "      <td>0</td>\n",
       "      <td>0</td>\n",
       "      <td>0</td>\n",
       "      <td>1</td>\n",
       "      <td>0</td>\n",
       "      <td>0</td>\n",
       "      <td>0</td>\n",
       "      <td>1</td>\n",
       "      <td>0</td>\n",
       "      <td>0</td>\n",
       "      <td>0</td>\n",
       "      <td>0</td>\n",
       "      <td>0</td>\n",
       "      <td>0</td>\n",
       "      <td>0</td>\n",
       "      <td>0</td>\n",
       "      <td>0</td>\n",
       "      <td>0</td>\n",
       "      <td>0</td>\n",
       "      <td>0</td>\n",
       "      <td>0</td>\n",
       "      <td>0</td>\n",
       "      <td>0</td>\n",
       "      <td>0</td>\n",
       "      <td>0</td>\n",
       "      <td>0</td>\n",
       "      <td>0</td>\n",
       "      <td>0</td>\n",
       "      <td>0</td>\n",
       "      <td>0</td>\n",
       "      <td>0</td>\n",
       "      <td>0</td>\n",
       "      <td>0</td>\n",
       "      <td>0</td>\n",
       "      <td>0</td>\n",
       "      <td>0</td>\n",
       "      <td>0</td>\n",
       "      <td>0</td>\n",
       "      <td>0</td>\n",
       "      <td>0</td>\n",
       "      <td>1</td>\n",
       "      <td>0</td>\n",
       "      <td>1</td>\n",
       "      <td>0</td>\n",
       "    </tr>\n",
       "    <tr>\n",
       "      <th>4</th>\n",
       "      <td>0</td>\n",
       "      <td>14.0</td>\n",
       "      <td>2015</td>\n",
       "      <td>1</td>\n",
       "      <td>0.0</td>\n",
       "      <td>2.0</td>\n",
       "      <td>2</td>\n",
       "      <td>0.0</td>\n",
       "      <td>0</td>\n",
       "      <td>0</td>\n",
       "      <td>0</td>\n",
       "      <td>0</td>\n",
       "      <td>0</td>\n",
       "      <td>240.000000</td>\n",
       "      <td>0</td>\n",
       "      <td>98.0</td>\n",
       "      <td>0</td>\n",
       "      <td>1</td>\n",
       "      <td>1</td>\n",
       "      <td>0</td>\n",
       "      <td>0</td>\n",
       "      <td>0</td>\n",
       "      <td>0</td>\n",
       "      <td>1</td>\n",
       "      <td>0</td>\n",
       "      <td>0</td>\n",
       "      <td>0</td>\n",
       "      <td>0</td>\n",
       "      <td>0</td>\n",
       "      <td>0</td>\n",
       "      <td>0</td>\n",
       "      <td>0</td>\n",
       "      <td>0</td>\n",
       "      <td>0</td>\n",
       "      <td>0</td>\n",
       "      <td>0</td>\n",
       "      <td>1</td>\n",
       "      <td>0</td>\n",
       "      <td>0</td>\n",
       "      <td>0</td>\n",
       "      <td>0</td>\n",
       "      <td>0</td>\n",
       "      <td>0</td>\n",
       "      <td>0</td>\n",
       "      <td>1</td>\n",
       "      <td>0</td>\n",
       "      <td>0</td>\n",
       "      <td>0</td>\n",
       "      <td>1</td>\n",
       "      <td>0</td>\n",
       "      <td>0</td>\n",
       "      <td>0</td>\n",
       "      <td>0</td>\n",
       "      <td>0</td>\n",
       "      <td>0</td>\n",
       "      <td>0</td>\n",
       "      <td>0</td>\n",
       "      <td>0</td>\n",
       "      <td>0</td>\n",
       "      <td>0</td>\n",
       "      <td>0</td>\n",
       "      <td>0</td>\n",
       "      <td>0</td>\n",
       "      <td>0</td>\n",
       "      <td>0</td>\n",
       "      <td>0</td>\n",
       "      <td>0</td>\n",
       "      <td>0</td>\n",
       "      <td>0</td>\n",
       "      <td>0</td>\n",
       "      <td>0</td>\n",
       "      <td>0</td>\n",
       "      <td>0</td>\n",
       "      <td>1</td>\n",
       "      <td>0</td>\n",
       "      <td>1</td>\n",
       "      <td>0</td>\n",
       "    </tr>\n",
       "  </tbody>\n",
       "</table>\n",
       "</div>"
      ],
      "text/plain": [
       "   is_canceled  lead_time  arrival_date_year  arrival_date_day_of_month  \\\n",
       "0            0       49.0               2015                          1   \n",
       "1            0       49.0               2015                          1   \n",
       "2            0        7.0               2015                          1   \n",
       "3            0       13.0               2015                          1   \n",
       "4            0       14.0               2015                          1   \n",
       "\n",
       "   stays_in_weekend_nights  stays_in_week_nights  adults  children  babies  \\\n",
       "0                      0.0                   0.0       2       0.0       0   \n",
       "1                      0.0                   0.0       2       0.0       0   \n",
       "2                      0.0                   1.0       1       0.0       0   \n",
       "3                      0.0                   1.0       1       0.0       0   \n",
       "4                      0.0                   2.0       2       0.0       0   \n",
       "\n",
       "   is_repeated_guest  previous_cancellations  previous_bookings_not_canceled  \\\n",
       "0                  0                       0                               0   \n",
       "1                  0                       0                               0   \n",
       "2                  0                       0                               0   \n",
       "3                  0                       0                               0   \n",
       "4                  0                       0                               0   \n",
       "\n",
       "   booking_changes       agent  days_in_waiting_list   adr  \\\n",
       "0                3   94.138306                     0   0.0   \n",
       "1                3   94.138306                     0   0.0   \n",
       "2                0   94.138306                     0  75.0   \n",
       "3                0  304.000000                     0  75.0   \n",
       "4                0  240.000000                     0  98.0   \n",
       "\n",
       "   required_car_parking_spaces  total_of_special_requests  hotel_Resort Hotel  \\\n",
       "0                            0                          0                   1   \n",
       "1                            0                          0                   1   \n",
       "2                            0                          0                   1   \n",
       "3                            0                          0                   1   \n",
       "4                            0                          1                   1   \n",
       "\n",
       "   arrival_date_month_August  arrival_date_month_December  \\\n",
       "0                          0                            0   \n",
       "1                          0                            0   \n",
       "2                          0                            0   \n",
       "3                          0                            0   \n",
       "4                          0                            0   \n",
       "\n",
       "   arrival_date_month_February  arrival_date_month_January  \\\n",
       "0                            0                           0   \n",
       "1                            0                           0   \n",
       "2                            0                           0   \n",
       "3                            0                           0   \n",
       "4                            0                           0   \n",
       "\n",
       "   arrival_date_month_July  arrival_date_month_June  arrival_date_month_March  \\\n",
       "0                        1                        0                         0   \n",
       "1                        1                        0                         0   \n",
       "2                        1                        0                         0   \n",
       "3                        1                        0                         0   \n",
       "4                        1                        0                         0   \n",
       "\n",
       "   arrival_date_month_May  arrival_date_month_November  \\\n",
       "0                       0                            0   \n",
       "1                       0                            0   \n",
       "2                       0                            0   \n",
       "3                       0                            0   \n",
       "4                       0                            0   \n",
       "\n",
       "   arrival_date_month_October  arrival_date_month_September  meal_FB  meal_HB  \\\n",
       "0                           0                             0        0        0   \n",
       "1                           0                             0        0        0   \n",
       "2                           0                             0        0        0   \n",
       "3                           0                             0        0        0   \n",
       "4                           0                             0        0        0   \n",
       "\n",
       "   meal_SC  meal_Undefined  country_ESP  country_FRA  country_GBR  \\\n",
       "0        0               0            0            0            0   \n",
       "1        0               0            0            0            0   \n",
       "2        0               0            0            0            1   \n",
       "3        0               0            0            0            1   \n",
       "4        0               0            0            0            1   \n",
       "\n",
       "   country_PRT  country_others  market_segment_Complementary  \\\n",
       "0            1               0                             0   \n",
       "1            1               0                             0   \n",
       "2            0               0                             0   \n",
       "3            0               0                             0   \n",
       "4            0               0                             0   \n",
       "\n",
       "   market_segment_Corporate  market_segment_Direct  market_segment_Groups  \\\n",
       "0                         0                      1                      0   \n",
       "1                         0                      1                      0   \n",
       "2                         0                      1                      0   \n",
       "3                         1                      0                      0   \n",
       "4                         0                      0                      0   \n",
       "\n",
       "   market_segment_Offline TA/TO  market_segment_Online TA  \\\n",
       "0                             0                         0   \n",
       "1                             0                         0   \n",
       "2                             0                         0   \n",
       "3                             0                         0   \n",
       "4                             0                         1   \n",
       "\n",
       "   market_segment_Undefined  distribution_channel_Direct  \\\n",
       "0                         0                            1   \n",
       "1                         0                            1   \n",
       "2                         0                            1   \n",
       "3                         0                            0   \n",
       "4                         0                            0   \n",
       "\n",
       "   distribution_channel_GDS  distribution_channel_TA/TO  \\\n",
       "0                         0                           0   \n",
       "1                         0                           0   \n",
       "2                         0                           0   \n",
       "3                         0                           0   \n",
       "4                         0                           1   \n",
       "\n",
       "   distribution_channel_Undefined  reserved_room_type_B  reserved_room_type_C  \\\n",
       "0                               0                     0                     1   \n",
       "1                               0                     0                     1   \n",
       "2                               0                     0                     0   \n",
       "3                               0                     0                     0   \n",
       "4                               0                     0                     0   \n",
       "\n",
       "   reserved_room_type_D  reserved_room_type_E  reserved_room_type_F  \\\n",
       "0                     0                     0                     0   \n",
       "1                     0                     0                     0   \n",
       "2                     0                     0                     0   \n",
       "3                     0                     0                     0   \n",
       "4                     0                     0                     0   \n",
       "\n",
       "   reserved_room_type_G  reserved_room_type_H  reserved_room_type_L  \\\n",
       "0                     0                     0                     0   \n",
       "1                     0                     0                     0   \n",
       "2                     0                     0                     0   \n",
       "3                     0                     0                     0   \n",
       "4                     0                     0                     0   \n",
       "\n",
       "   reserved_room_type_P  assigned_room_type_B  assigned_room_type_C  \\\n",
       "0                     0                     0                     1   \n",
       "1                     0                     0                     1   \n",
       "2                     0                     0                     1   \n",
       "3                     0                     0                     0   \n",
       "4                     0                     0                     0   \n",
       "\n",
       "   assigned_room_type_D  assigned_room_type_E  assigned_room_type_F  \\\n",
       "0                     0                     0                     0   \n",
       "1                     0                     0                     0   \n",
       "2                     0                     0                     0   \n",
       "3                     0                     0                     0   \n",
       "4                     0                     0                     0   \n",
       "\n",
       "   assigned_room_type_G  assigned_room_type_H  assigned_room_type_I  \\\n",
       "0                     0                     0                     0   \n",
       "1                     0                     0                     0   \n",
       "2                     0                     0                     0   \n",
       "3                     0                     0                     0   \n",
       "4                     0                     0                     0   \n",
       "\n",
       "   assigned_room_type_K  assigned_room_type_L  assigned_room_type_P  \\\n",
       "0                     0                     0                     0   \n",
       "1                     0                     0                     0   \n",
       "2                     0                     0                     0   \n",
       "3                     0                     0                     0   \n",
       "4                     0                     0                     0   \n",
       "\n",
       "   deposit_type_Non Refund  deposit_type_Refundable  customer_type_Group  \\\n",
       "0                        0                        0                    0   \n",
       "1                        0                        0                    0   \n",
       "2                        0                        0                    0   \n",
       "3                        0                        0                    0   \n",
       "4                        0                        0                    0   \n",
       "\n",
       "   customer_type_Transient  customer_type_Transient-Party  \\\n",
       "0                        1                              0   \n",
       "1                        1                              0   \n",
       "2                        1                              0   \n",
       "3                        1                              0   \n",
       "4                        1                              0   \n",
       "\n",
       "   reservation_status_Check-Out  reservation_status_No-Show  \n",
       "0                             1                           0  \n",
       "1                             1                           0  \n",
       "2                             1                           0  \n",
       "3                             1                           0  \n",
       "4                             1                           0  "
      ]
     },
     "execution_count": 76,
     "metadata": {},
     "output_type": "execute_result"
    }
   ],
   "source": [
    "pd.set_option('display.max_columns',None)\n",
    "df=pd.get_dummies(df,columns=objects,drop_first=True)\n",
    "df.head()"
   ]
  },
  {
   "cell_type": "code",
   "execution_count": 77,
   "id": "11fe023c",
   "metadata": {},
   "outputs": [
    {
     "name": "stdout",
     "output_type": "stream",
     "text": [
      "<class 'pandas.core.frame.DataFrame'>\n",
      "RangeIndex: 87396 entries, 0 to 87395\n",
      "Data columns (total 77 columns):\n",
      " #   Column                          Non-Null Count  Dtype  \n",
      "---  ------                          --------------  -----  \n",
      " 0   is_canceled                     87396 non-null  int64  \n",
      " 1   lead_time                       87396 non-null  float64\n",
      " 2   arrival_date_year               87396 non-null  int64  \n",
      " 3   arrival_date_day_of_month       87396 non-null  int64  \n",
      " 4   stays_in_weekend_nights         87396 non-null  float64\n",
      " 5   stays_in_week_nights            87396 non-null  float64\n",
      " 6   adults                          87396 non-null  int64  \n",
      " 7   children                        87396 non-null  float64\n",
      " 8   babies                          87396 non-null  int64  \n",
      " 9   is_repeated_guest               87396 non-null  int64  \n",
      " 10  previous_cancellations          87396 non-null  int64  \n",
      " 11  previous_bookings_not_canceled  87396 non-null  int64  \n",
      " 12  booking_changes                 87396 non-null  int64  \n",
      " 13  agent                           87396 non-null  float64\n",
      " 14  days_in_waiting_list            87396 non-null  int64  \n",
      " 15  adr                             87396 non-null  float64\n",
      " 16  required_car_parking_spaces     87396 non-null  int64  \n",
      " 17  total_of_special_requests       87396 non-null  int64  \n",
      " 18  hotel_Resort Hotel              87396 non-null  uint8  \n",
      " 19  arrival_date_month_August       87396 non-null  uint8  \n",
      " 20  arrival_date_month_December     87396 non-null  uint8  \n",
      " 21  arrival_date_month_February     87396 non-null  uint8  \n",
      " 22  arrival_date_month_January      87396 non-null  uint8  \n",
      " 23  arrival_date_month_July         87396 non-null  uint8  \n",
      " 24  arrival_date_month_June         87396 non-null  uint8  \n",
      " 25  arrival_date_month_March        87396 non-null  uint8  \n",
      " 26  arrival_date_month_May          87396 non-null  uint8  \n",
      " 27  arrival_date_month_November     87396 non-null  uint8  \n",
      " 28  arrival_date_month_October      87396 non-null  uint8  \n",
      " 29  arrival_date_month_September    87396 non-null  uint8  \n",
      " 30  meal_FB                         87396 non-null  uint8  \n",
      " 31  meal_HB                         87396 non-null  uint8  \n",
      " 32  meal_SC                         87396 non-null  uint8  \n",
      " 33  meal_Undefined                  87396 non-null  uint8  \n",
      " 34  country_ESP                     87396 non-null  uint8  \n",
      " 35  country_FRA                     87396 non-null  uint8  \n",
      " 36  country_GBR                     87396 non-null  uint8  \n",
      " 37  country_PRT                     87396 non-null  uint8  \n",
      " 38  country_others                  87396 non-null  uint8  \n",
      " 39  market_segment_Complementary    87396 non-null  uint8  \n",
      " 40  market_segment_Corporate        87396 non-null  uint8  \n",
      " 41  market_segment_Direct           87396 non-null  uint8  \n",
      " 42  market_segment_Groups           87396 non-null  uint8  \n",
      " 43  market_segment_Offline TA/TO    87396 non-null  uint8  \n",
      " 44  market_segment_Online TA        87396 non-null  uint8  \n",
      " 45  market_segment_Undefined        87396 non-null  uint8  \n",
      " 46  distribution_channel_Direct     87396 non-null  uint8  \n",
      " 47  distribution_channel_GDS        87396 non-null  uint8  \n",
      " 48  distribution_channel_TA/TO      87396 non-null  uint8  \n",
      " 49  distribution_channel_Undefined  87396 non-null  uint8  \n",
      " 50  reserved_room_type_B            87396 non-null  uint8  \n",
      " 51  reserved_room_type_C            87396 non-null  uint8  \n",
      " 52  reserved_room_type_D            87396 non-null  uint8  \n",
      " 53  reserved_room_type_E            87396 non-null  uint8  \n",
      " 54  reserved_room_type_F            87396 non-null  uint8  \n",
      " 55  reserved_room_type_G            87396 non-null  uint8  \n",
      " 56  reserved_room_type_H            87396 non-null  uint8  \n",
      " 57  reserved_room_type_L            87396 non-null  uint8  \n",
      " 58  reserved_room_type_P            87396 non-null  uint8  \n",
      " 59  assigned_room_type_B            87396 non-null  uint8  \n",
      " 60  assigned_room_type_C            87396 non-null  uint8  \n",
      " 61  assigned_room_type_D            87396 non-null  uint8  \n",
      " 62  assigned_room_type_E            87396 non-null  uint8  \n",
      " 63  assigned_room_type_F            87396 non-null  uint8  \n",
      " 64  assigned_room_type_G            87396 non-null  uint8  \n",
      " 65  assigned_room_type_H            87396 non-null  uint8  \n",
      " 66  assigned_room_type_I            87396 non-null  uint8  \n",
      " 67  assigned_room_type_K            87396 non-null  uint8  \n",
      " 68  assigned_room_type_L            87396 non-null  uint8  \n",
      " 69  assigned_room_type_P            87396 non-null  uint8  \n",
      " 70  deposit_type_Non Refund         87396 non-null  uint8  \n",
      " 71  deposit_type_Refundable         87396 non-null  uint8  \n",
      " 72  customer_type_Group             87396 non-null  uint8  \n",
      " 73  customer_type_Transient         87396 non-null  uint8  \n",
      " 74  customer_type_Transient-Party   87396 non-null  uint8  \n",
      " 75  reservation_status_Check-Out    87396 non-null  uint8  \n",
      " 76  reservation_status_No-Show      87396 non-null  uint8  \n",
      "dtypes: float64(6), int64(12), uint8(59)\n",
      "memory usage: 16.9 MB\n"
     ]
    }
   ],
   "source": [
    "df.info()"
   ]
  },
  {
   "cell_type": "code",
   "execution_count": 78,
   "id": "3aaed079",
   "metadata": {},
   "outputs": [],
   "source": [
    "#shuffle the data set\n",
    "import random\n",
    "df=df.sample(frac=1).reset_index(drop=True)\n",
    "#seperating independent and dependent features\n",
    "x=df.drop(['is_canceled'],axis=1)\n",
    "y=df['is_canceled']"
   ]
  },
  {
   "cell_type": "markdown",
   "id": "713b0c35",
   "metadata": {},
   "source": [
    "## Undersampling\n",
    "    \n",
    " Since the number of count for 1 in the target column \"is_canceled\" is considerably lower than that of 0 the sample needs to be balanced.Hence under sampling technique can be used here."
   ]
  },
  {
   "cell_type": "code",
   "execution_count": 80,
   "id": "6b37e5c1",
   "metadata": {},
   "outputs": [
    {
     "data": {
      "text/plain": [
       "0    35691\n",
       "1    24025\n",
       "Name: is_canceled, dtype: int64"
      ]
     },
     "execution_count": 80,
     "metadata": {},
     "output_type": "execute_result"
    }
   ],
   "source": [
    "from imblearn.under_sampling import EditedNearestNeighbours\n",
    "enn=EditedNearestNeighbours()\n",
    "x_enn,y_enn=enn.fit_resample(x,y)\n",
    "y_enn.value_counts()"
   ]
  },
  {
   "cell_type": "markdown",
   "id": "4eeeebd9",
   "metadata": {},
   "source": [
    "# Scaling"
   ]
  },
  {
   "cell_type": "code",
   "execution_count": 81,
   "id": "f10f7bc6",
   "metadata": {},
   "outputs": [
    {
     "data": {
      "text/html": [
       "<div>\n",
       "<style scoped>\n",
       "    .dataframe tbody tr th:only-of-type {\n",
       "        vertical-align: middle;\n",
       "    }\n",
       "\n",
       "    .dataframe tbody tr th {\n",
       "        vertical-align: top;\n",
       "    }\n",
       "\n",
       "    .dataframe thead th {\n",
       "        text-align: right;\n",
       "    }\n",
       "</style>\n",
       "<table border=\"1\" class=\"dataframe\">\n",
       "  <thead>\n",
       "    <tr style=\"text-align: right;\">\n",
       "      <th></th>\n",
       "      <th>lead_time</th>\n",
       "      <th>arrival_date_year</th>\n",
       "      <th>arrival_date_day_of_month</th>\n",
       "      <th>stays_in_weekend_nights</th>\n",
       "      <th>stays_in_week_nights</th>\n",
       "      <th>adults</th>\n",
       "      <th>children</th>\n",
       "      <th>babies</th>\n",
       "      <th>is_repeated_guest</th>\n",
       "      <th>previous_cancellations</th>\n",
       "      <th>previous_bookings_not_canceled</th>\n",
       "      <th>booking_changes</th>\n",
       "      <th>agent</th>\n",
       "      <th>days_in_waiting_list</th>\n",
       "      <th>adr</th>\n",
       "      <th>required_car_parking_spaces</th>\n",
       "      <th>total_of_special_requests</th>\n",
       "      <th>hotel_Resort Hotel</th>\n",
       "      <th>arrival_date_month_August</th>\n",
       "      <th>arrival_date_month_December</th>\n",
       "      <th>arrival_date_month_February</th>\n",
       "      <th>arrival_date_month_January</th>\n",
       "      <th>arrival_date_month_July</th>\n",
       "      <th>arrival_date_month_June</th>\n",
       "      <th>arrival_date_month_March</th>\n",
       "      <th>arrival_date_month_May</th>\n",
       "      <th>arrival_date_month_November</th>\n",
       "      <th>arrival_date_month_October</th>\n",
       "      <th>arrival_date_month_September</th>\n",
       "      <th>meal_FB</th>\n",
       "      <th>meal_HB</th>\n",
       "      <th>meal_SC</th>\n",
       "      <th>meal_Undefined</th>\n",
       "      <th>country_ESP</th>\n",
       "      <th>country_FRA</th>\n",
       "      <th>country_GBR</th>\n",
       "      <th>country_PRT</th>\n",
       "      <th>country_others</th>\n",
       "      <th>market_segment_Complementary</th>\n",
       "      <th>market_segment_Corporate</th>\n",
       "      <th>market_segment_Direct</th>\n",
       "      <th>market_segment_Groups</th>\n",
       "      <th>market_segment_Offline TA/TO</th>\n",
       "      <th>market_segment_Online TA</th>\n",
       "      <th>market_segment_Undefined</th>\n",
       "      <th>distribution_channel_Direct</th>\n",
       "      <th>distribution_channel_GDS</th>\n",
       "      <th>distribution_channel_TA/TO</th>\n",
       "      <th>distribution_channel_Undefined</th>\n",
       "      <th>reserved_room_type_B</th>\n",
       "      <th>reserved_room_type_C</th>\n",
       "      <th>reserved_room_type_D</th>\n",
       "      <th>reserved_room_type_E</th>\n",
       "      <th>reserved_room_type_F</th>\n",
       "      <th>reserved_room_type_G</th>\n",
       "      <th>reserved_room_type_H</th>\n",
       "      <th>reserved_room_type_L</th>\n",
       "      <th>reserved_room_type_P</th>\n",
       "      <th>assigned_room_type_B</th>\n",
       "      <th>assigned_room_type_C</th>\n",
       "      <th>assigned_room_type_D</th>\n",
       "      <th>assigned_room_type_E</th>\n",
       "      <th>assigned_room_type_F</th>\n",
       "      <th>assigned_room_type_G</th>\n",
       "      <th>assigned_room_type_H</th>\n",
       "      <th>assigned_room_type_I</th>\n",
       "      <th>assigned_room_type_K</th>\n",
       "      <th>assigned_room_type_L</th>\n",
       "      <th>assigned_room_type_P</th>\n",
       "      <th>deposit_type_Non Refund</th>\n",
       "      <th>deposit_type_Refundable</th>\n",
       "      <th>customer_type_Group</th>\n",
       "      <th>customer_type_Transient</th>\n",
       "      <th>customer_type_Transient-Party</th>\n",
       "      <th>reservation_status_Check-Out</th>\n",
       "      <th>reservation_status_No-Show</th>\n",
       "    </tr>\n",
       "  </thead>\n",
       "  <tbody>\n",
       "    <tr>\n",
       "      <th>0</th>\n",
       "      <td>0.217182</td>\n",
       "      <td>1.166838</td>\n",
       "      <td>-1.452042</td>\n",
       "      <td>-0.982318</td>\n",
       "      <td>-0.271903</td>\n",
       "      <td>2.230716</td>\n",
       "      <td>-0.295434</td>\n",
       "      <td>-0.101674</td>\n",
       "      <td>-0.222878</td>\n",
       "      <td>-0.156933</td>\n",
       "      <td>-0.223911</td>\n",
       "      <td>-0.412763</td>\n",
       "      <td>-0.833936</td>\n",
       "      <td>-0.109459</td>\n",
       "      <td>0.858555</td>\n",
       "      <td>-0.274719</td>\n",
       "      <td>0.487053</td>\n",
       "      <td>-0.816485</td>\n",
       "      <td>-0.369306</td>\n",
       "      <td>-0.260616</td>\n",
       "      <td>-0.287464</td>\n",
       "      <td>-0.254368</td>\n",
       "      <td>-0.337024</td>\n",
       "      <td>-0.304005</td>\n",
       "      <td>3.220607</td>\n",
       "      <td>-0.321273</td>\n",
       "      <td>-0.255188</td>\n",
       "      <td>-0.300541</td>\n",
       "      <td>-0.288078</td>\n",
       "      <td>-0.063921</td>\n",
       "      <td>-0.333284</td>\n",
       "      <td>-0.344766</td>\n",
       "      <td>-0.076673</td>\n",
       "      <td>-0.300309</td>\n",
       "      <td>-0.321812</td>\n",
       "      <td>2.847073</td>\n",
       "      <td>-0.762729</td>\n",
       "      <td>-0.643740</td>\n",
       "      <td>-0.09499</td>\n",
       "      <td>-0.248381</td>\n",
       "      <td>-0.408252</td>\n",
       "      <td>-0.26916</td>\n",
       "      <td>-0.454268</td>\n",
       "      <td>0.907163</td>\n",
       "      <td>-0.005787</td>\n",
       "      <td>-0.433562</td>\n",
       "      <td>-0.046529</td>\n",
       "      <td>0.548120</td>\n",
       "      <td>-0.008185</td>\n",
       "      <td>-0.10804</td>\n",
       "      <td>-0.103837</td>\n",
       "      <td>2.100943</td>\n",
       "      <td>-0.26589</td>\n",
       "      <td>-0.175434</td>\n",
       "      <td>-0.1522</td>\n",
       "      <td>-0.084161</td>\n",
       "      <td>-0.009151</td>\n",
       "      <td>-0.010024</td>\n",
       "      <td>-0.147528</td>\n",
       "      <td>-0.160738</td>\n",
       "      <td>1.727576</td>\n",
       "      <td>-0.295076</td>\n",
       "      <td>-0.200418</td>\n",
       "      <td>-0.166404</td>\n",
       "      <td>-0.091889</td>\n",
       "      <td>-0.066001</td>\n",
       "      <td>-0.05709</td>\n",
       "      <td>-0.004092</td>\n",
       "      <td>-0.010024</td>\n",
       "      <td>-0.131824</td>\n",
       "      <td>-0.040956</td>\n",
       "      <td>-0.084865</td>\n",
       "      <td>0.474203</td>\n",
       "      <td>-0.405177</td>\n",
       "      <td>0.82045</td>\n",
       "      <td>-0.131429</td>\n",
       "    </tr>\n",
       "    <tr>\n",
       "      <th>1</th>\n",
       "      <td>0.037422</td>\n",
       "      <td>-0.281517</td>\n",
       "      <td>-0.656653</td>\n",
       "      <td>-0.982318</td>\n",
       "      <td>-0.865207</td>\n",
       "      <td>0.308224</td>\n",
       "      <td>-0.295434</td>\n",
       "      <td>-0.101674</td>\n",
       "      <td>-0.222878</td>\n",
       "      <td>-0.156933</td>\n",
       "      <td>-0.223911</td>\n",
       "      <td>2.889119</td>\n",
       "      <td>-0.833936</td>\n",
       "      <td>-0.109459</td>\n",
       "      <td>0.726559</td>\n",
       "      <td>-0.274719</td>\n",
       "      <td>0.487053</td>\n",
       "      <td>-0.816485</td>\n",
       "      <td>-0.369306</td>\n",
       "      <td>-0.260616</td>\n",
       "      <td>-0.287464</td>\n",
       "      <td>-0.254368</td>\n",
       "      <td>-0.337024</td>\n",
       "      <td>-0.304005</td>\n",
       "      <td>-0.310500</td>\n",
       "      <td>3.112617</td>\n",
       "      <td>-0.255188</td>\n",
       "      <td>-0.300541</td>\n",
       "      <td>-0.288078</td>\n",
       "      <td>-0.063921</td>\n",
       "      <td>-0.333284</td>\n",
       "      <td>-0.344766</td>\n",
       "      <td>-0.076673</td>\n",
       "      <td>-0.300309</td>\n",
       "      <td>-0.321812</td>\n",
       "      <td>-0.351238</td>\n",
       "      <td>-0.762729</td>\n",
       "      <td>1.553423</td>\n",
       "      <td>-0.09499</td>\n",
       "      <td>-0.248381</td>\n",
       "      <td>-0.408252</td>\n",
       "      <td>-0.26916</td>\n",
       "      <td>-0.454268</td>\n",
       "      <td>0.907163</td>\n",
       "      <td>-0.005787</td>\n",
       "      <td>-0.433562</td>\n",
       "      <td>-0.046529</td>\n",
       "      <td>0.548120</td>\n",
       "      <td>-0.008185</td>\n",
       "      <td>-0.10804</td>\n",
       "      <td>-0.103837</td>\n",
       "      <td>-0.475977</td>\n",
       "      <td>-0.26589</td>\n",
       "      <td>-0.175434</td>\n",
       "      <td>-0.1522</td>\n",
       "      <td>-0.084161</td>\n",
       "      <td>-0.009151</td>\n",
       "      <td>-0.010024</td>\n",
       "      <td>-0.147528</td>\n",
       "      <td>-0.160738</td>\n",
       "      <td>-0.578846</td>\n",
       "      <td>-0.295076</td>\n",
       "      <td>-0.200418</td>\n",
       "      <td>-0.166404</td>\n",
       "      <td>-0.091889</td>\n",
       "      <td>-0.066001</td>\n",
       "      <td>-0.05709</td>\n",
       "      <td>-0.004092</td>\n",
       "      <td>-0.010024</td>\n",
       "      <td>-0.131824</td>\n",
       "      <td>-0.040956</td>\n",
       "      <td>-0.084865</td>\n",
       "      <td>0.474203</td>\n",
       "      <td>-0.405177</td>\n",
       "      <td>0.82045</td>\n",
       "      <td>-0.131429</td>\n",
       "    </tr>\n",
       "    <tr>\n",
       "      <th>2</th>\n",
       "      <td>-0.902862</td>\n",
       "      <td>-0.281517</td>\n",
       "      <td>0.025109</td>\n",
       "      <td>-0.982318</td>\n",
       "      <td>-0.865207</td>\n",
       "      <td>0.308224</td>\n",
       "      <td>-0.295434</td>\n",
       "      <td>-0.101674</td>\n",
       "      <td>-0.222878</td>\n",
       "      <td>-0.156933</td>\n",
       "      <td>-0.223911</td>\n",
       "      <td>1.238178</td>\n",
       "      <td>-0.786084</td>\n",
       "      <td>-0.109459</td>\n",
       "      <td>-0.151318</td>\n",
       "      <td>-0.274719</td>\n",
       "      <td>-0.760475</td>\n",
       "      <td>-0.816485</td>\n",
       "      <td>-0.369306</td>\n",
       "      <td>-0.260616</td>\n",
       "      <td>-0.287464</td>\n",
       "      <td>3.931313</td>\n",
       "      <td>-0.337024</td>\n",
       "      <td>-0.304005</td>\n",
       "      <td>-0.310500</td>\n",
       "      <td>-0.321273</td>\n",
       "      <td>-0.255188</td>\n",
       "      <td>-0.300541</td>\n",
       "      <td>-0.288078</td>\n",
       "      <td>-0.063921</td>\n",
       "      <td>-0.333284</td>\n",
       "      <td>2.900515</td>\n",
       "      <td>-0.076673</td>\n",
       "      <td>-0.300309</td>\n",
       "      <td>-0.321812</td>\n",
       "      <td>-0.351238</td>\n",
       "      <td>1.311082</td>\n",
       "      <td>-0.643740</td>\n",
       "      <td>-0.09499</td>\n",
       "      <td>-0.248381</td>\n",
       "      <td>2.449466</td>\n",
       "      <td>-0.26916</td>\n",
       "      <td>-0.454268</td>\n",
       "      <td>-1.102338</td>\n",
       "      <td>-0.005787</td>\n",
       "      <td>2.306474</td>\n",
       "      <td>-0.046529</td>\n",
       "      <td>-1.824418</td>\n",
       "      <td>-0.008185</td>\n",
       "      <td>-0.10804</td>\n",
       "      <td>-0.103837</td>\n",
       "      <td>-0.475977</td>\n",
       "      <td>-0.26589</td>\n",
       "      <td>-0.175434</td>\n",
       "      <td>-0.1522</td>\n",
       "      <td>-0.084161</td>\n",
       "      <td>-0.009151</td>\n",
       "      <td>-0.010024</td>\n",
       "      <td>-0.147528</td>\n",
       "      <td>-0.160738</td>\n",
       "      <td>1.727576</td>\n",
       "      <td>-0.295076</td>\n",
       "      <td>-0.200418</td>\n",
       "      <td>-0.166404</td>\n",
       "      <td>-0.091889</td>\n",
       "      <td>-0.066001</td>\n",
       "      <td>-0.05709</td>\n",
       "      <td>-0.004092</td>\n",
       "      <td>-0.010024</td>\n",
       "      <td>-0.131824</td>\n",
       "      <td>-0.040956</td>\n",
       "      <td>-0.084865</td>\n",
       "      <td>0.474203</td>\n",
       "      <td>-0.405177</td>\n",
       "      <td>0.82045</td>\n",
       "      <td>-0.131429</td>\n",
       "    </tr>\n",
       "    <tr>\n",
       "      <th>3</th>\n",
       "      <td>-0.875206</td>\n",
       "      <td>-0.281517</td>\n",
       "      <td>-0.656653</td>\n",
       "      <td>-0.982318</td>\n",
       "      <td>-0.865207</td>\n",
       "      <td>-1.614267</td>\n",
       "      <td>-0.295434</td>\n",
       "      <td>-0.101674</td>\n",
       "      <td>-0.222878</td>\n",
       "      <td>-0.156933</td>\n",
       "      <td>-0.223911</td>\n",
       "      <td>-0.412763</td>\n",
       "      <td>-0.019126</td>\n",
       "      <td>-0.109459</td>\n",
       "      <td>-0.130366</td>\n",
       "      <td>-0.274719</td>\n",
       "      <td>-0.760475</td>\n",
       "      <td>-0.816485</td>\n",
       "      <td>-0.369306</td>\n",
       "      <td>-0.260616</td>\n",
       "      <td>-0.287464</td>\n",
       "      <td>-0.254368</td>\n",
       "      <td>-0.337024</td>\n",
       "      <td>-0.304005</td>\n",
       "      <td>-0.310500</td>\n",
       "      <td>-0.321273</td>\n",
       "      <td>3.918682</td>\n",
       "      <td>-0.300541</td>\n",
       "      <td>-0.288078</td>\n",
       "      <td>-0.063921</td>\n",
       "      <td>-0.333284</td>\n",
       "      <td>-0.344766</td>\n",
       "      <td>-0.076673</td>\n",
       "      <td>-0.300309</td>\n",
       "      <td>-0.321812</td>\n",
       "      <td>-0.351238</td>\n",
       "      <td>-0.762729</td>\n",
       "      <td>1.553423</td>\n",
       "      <td>-0.09499</td>\n",
       "      <td>-0.248381</td>\n",
       "      <td>-0.408252</td>\n",
       "      <td>-0.26916</td>\n",
       "      <td>-0.454268</td>\n",
       "      <td>-1.102338</td>\n",
       "      <td>-0.005787</td>\n",
       "      <td>-0.433562</td>\n",
       "      <td>-0.046529</td>\n",
       "      <td>-1.824418</td>\n",
       "      <td>-0.008185</td>\n",
       "      <td>-0.10804</td>\n",
       "      <td>-0.103837</td>\n",
       "      <td>2.100943</td>\n",
       "      <td>-0.26589</td>\n",
       "      <td>-0.175434</td>\n",
       "      <td>-0.1522</td>\n",
       "      <td>-0.084161</td>\n",
       "      <td>-0.009151</td>\n",
       "      <td>-0.010024</td>\n",
       "      <td>-0.147528</td>\n",
       "      <td>-0.160738</td>\n",
       "      <td>1.727576</td>\n",
       "      <td>-0.295076</td>\n",
       "      <td>-0.200418</td>\n",
       "      <td>-0.166404</td>\n",
       "      <td>-0.091889</td>\n",
       "      <td>-0.066001</td>\n",
       "      <td>-0.05709</td>\n",
       "      <td>-0.004092</td>\n",
       "      <td>-0.010024</td>\n",
       "      <td>-0.131824</td>\n",
       "      <td>-0.040956</td>\n",
       "      <td>-0.084865</td>\n",
       "      <td>-2.108803</td>\n",
       "      <td>2.468060</td>\n",
       "      <td>0.82045</td>\n",
       "      <td>-0.131429</td>\n",
       "    </tr>\n",
       "    <tr>\n",
       "      <th>4</th>\n",
       "      <td>-0.916690</td>\n",
       "      <td>-1.729871</td>\n",
       "      <td>1.388634</td>\n",
       "      <td>-0.982318</td>\n",
       "      <td>-1.458511</td>\n",
       "      <td>0.308224</td>\n",
       "      <td>-0.295434</td>\n",
       "      <td>-0.101674</td>\n",
       "      <td>-0.222878</td>\n",
       "      <td>-0.156933</td>\n",
       "      <td>-0.223911</td>\n",
       "      <td>-0.412763</td>\n",
       "      <td>-0.019126</td>\n",
       "      <td>-0.109459</td>\n",
       "      <td>-2.120779</td>\n",
       "      <td>-0.274719</td>\n",
       "      <td>-0.760475</td>\n",
       "      <td>-0.816485</td>\n",
       "      <td>-0.369306</td>\n",
       "      <td>-0.260616</td>\n",
       "      <td>-0.287464</td>\n",
       "      <td>-0.254368</td>\n",
       "      <td>2.967149</td>\n",
       "      <td>-0.304005</td>\n",
       "      <td>-0.310500</td>\n",
       "      <td>-0.321273</td>\n",
       "      <td>-0.255188</td>\n",
       "      <td>-0.300541</td>\n",
       "      <td>-0.288078</td>\n",
       "      <td>-0.063921</td>\n",
       "      <td>-0.333284</td>\n",
       "      <td>-0.344766</td>\n",
       "      <td>-0.076673</td>\n",
       "      <td>-0.300309</td>\n",
       "      <td>-0.321812</td>\n",
       "      <td>-0.351238</td>\n",
       "      <td>1.311082</td>\n",
       "      <td>-0.643740</td>\n",
       "      <td>-0.09499</td>\n",
       "      <td>-0.248381</td>\n",
       "      <td>2.449466</td>\n",
       "      <td>-0.26916</td>\n",
       "      <td>-0.454268</td>\n",
       "      <td>-1.102338</td>\n",
       "      <td>-0.005787</td>\n",
       "      <td>2.306474</td>\n",
       "      <td>-0.046529</td>\n",
       "      <td>-1.824418</td>\n",
       "      <td>-0.008185</td>\n",
       "      <td>-0.10804</td>\n",
       "      <td>-0.103837</td>\n",
       "      <td>-0.475977</td>\n",
       "      <td>-0.26589</td>\n",
       "      <td>-0.175434</td>\n",
       "      <td>-0.1522</td>\n",
       "      <td>-0.084161</td>\n",
       "      <td>-0.009151</td>\n",
       "      <td>-0.010024</td>\n",
       "      <td>-0.147528</td>\n",
       "      <td>-0.160738</td>\n",
       "      <td>-0.578846</td>\n",
       "      <td>-0.295076</td>\n",
       "      <td>-0.200418</td>\n",
       "      <td>-0.166404</td>\n",
       "      <td>-0.091889</td>\n",
       "      <td>-0.066001</td>\n",
       "      <td>-0.05709</td>\n",
       "      <td>-0.004092</td>\n",
       "      <td>-0.010024</td>\n",
       "      <td>-0.131824</td>\n",
       "      <td>-0.040956</td>\n",
       "      <td>-0.084865</td>\n",
       "      <td>0.474203</td>\n",
       "      <td>-0.405177</td>\n",
       "      <td>0.82045</td>\n",
       "      <td>-0.131429</td>\n",
       "    </tr>\n",
       "  </tbody>\n",
       "</table>\n",
       "</div>"
      ],
      "text/plain": [
       "   lead_time  arrival_date_year  arrival_date_day_of_month  \\\n",
       "0   0.217182           1.166838                  -1.452042   \n",
       "1   0.037422          -0.281517                  -0.656653   \n",
       "2  -0.902862          -0.281517                   0.025109   \n",
       "3  -0.875206          -0.281517                  -0.656653   \n",
       "4  -0.916690          -1.729871                   1.388634   \n",
       "\n",
       "   stays_in_weekend_nights  stays_in_week_nights    adults  children  \\\n",
       "0                -0.982318             -0.271903  2.230716 -0.295434   \n",
       "1                -0.982318             -0.865207  0.308224 -0.295434   \n",
       "2                -0.982318             -0.865207  0.308224 -0.295434   \n",
       "3                -0.982318             -0.865207 -1.614267 -0.295434   \n",
       "4                -0.982318             -1.458511  0.308224 -0.295434   \n",
       "\n",
       "     babies  is_repeated_guest  previous_cancellations  \\\n",
       "0 -0.101674          -0.222878               -0.156933   \n",
       "1 -0.101674          -0.222878               -0.156933   \n",
       "2 -0.101674          -0.222878               -0.156933   \n",
       "3 -0.101674          -0.222878               -0.156933   \n",
       "4 -0.101674          -0.222878               -0.156933   \n",
       "\n",
       "   previous_bookings_not_canceled  booking_changes     agent  \\\n",
       "0                       -0.223911        -0.412763 -0.833936   \n",
       "1                       -0.223911         2.889119 -0.833936   \n",
       "2                       -0.223911         1.238178 -0.786084   \n",
       "3                       -0.223911        -0.412763 -0.019126   \n",
       "4                       -0.223911        -0.412763 -0.019126   \n",
       "\n",
       "   days_in_waiting_list       adr  required_car_parking_spaces  \\\n",
       "0             -0.109459  0.858555                    -0.274719   \n",
       "1             -0.109459  0.726559                    -0.274719   \n",
       "2             -0.109459 -0.151318                    -0.274719   \n",
       "3             -0.109459 -0.130366                    -0.274719   \n",
       "4             -0.109459 -2.120779                    -0.274719   \n",
       "\n",
       "   total_of_special_requests  hotel_Resort Hotel  arrival_date_month_August  \\\n",
       "0                   0.487053           -0.816485                  -0.369306   \n",
       "1                   0.487053           -0.816485                  -0.369306   \n",
       "2                  -0.760475           -0.816485                  -0.369306   \n",
       "3                  -0.760475           -0.816485                  -0.369306   \n",
       "4                  -0.760475           -0.816485                  -0.369306   \n",
       "\n",
       "   arrival_date_month_December  arrival_date_month_February  \\\n",
       "0                    -0.260616                    -0.287464   \n",
       "1                    -0.260616                    -0.287464   \n",
       "2                    -0.260616                    -0.287464   \n",
       "3                    -0.260616                    -0.287464   \n",
       "4                    -0.260616                    -0.287464   \n",
       "\n",
       "   arrival_date_month_January  arrival_date_month_July  \\\n",
       "0                   -0.254368                -0.337024   \n",
       "1                   -0.254368                -0.337024   \n",
       "2                    3.931313                -0.337024   \n",
       "3                   -0.254368                -0.337024   \n",
       "4                   -0.254368                 2.967149   \n",
       "\n",
       "   arrival_date_month_June  arrival_date_month_March  arrival_date_month_May  \\\n",
       "0                -0.304005                  3.220607               -0.321273   \n",
       "1                -0.304005                 -0.310500                3.112617   \n",
       "2                -0.304005                 -0.310500               -0.321273   \n",
       "3                -0.304005                 -0.310500               -0.321273   \n",
       "4                -0.304005                 -0.310500               -0.321273   \n",
       "\n",
       "   arrival_date_month_November  arrival_date_month_October  \\\n",
       "0                    -0.255188                   -0.300541   \n",
       "1                    -0.255188                   -0.300541   \n",
       "2                    -0.255188                   -0.300541   \n",
       "3                     3.918682                   -0.300541   \n",
       "4                    -0.255188                   -0.300541   \n",
       "\n",
       "   arrival_date_month_September   meal_FB   meal_HB   meal_SC  meal_Undefined  \\\n",
       "0                     -0.288078 -0.063921 -0.333284 -0.344766       -0.076673   \n",
       "1                     -0.288078 -0.063921 -0.333284 -0.344766       -0.076673   \n",
       "2                     -0.288078 -0.063921 -0.333284  2.900515       -0.076673   \n",
       "3                     -0.288078 -0.063921 -0.333284 -0.344766       -0.076673   \n",
       "4                     -0.288078 -0.063921 -0.333284 -0.344766       -0.076673   \n",
       "\n",
       "   country_ESP  country_FRA  country_GBR  country_PRT  country_others  \\\n",
       "0    -0.300309    -0.321812     2.847073    -0.762729       -0.643740   \n",
       "1    -0.300309    -0.321812    -0.351238    -0.762729        1.553423   \n",
       "2    -0.300309    -0.321812    -0.351238     1.311082       -0.643740   \n",
       "3    -0.300309    -0.321812    -0.351238    -0.762729        1.553423   \n",
       "4    -0.300309    -0.321812    -0.351238     1.311082       -0.643740   \n",
       "\n",
       "   market_segment_Complementary  market_segment_Corporate  \\\n",
       "0                      -0.09499                 -0.248381   \n",
       "1                      -0.09499                 -0.248381   \n",
       "2                      -0.09499                 -0.248381   \n",
       "3                      -0.09499                 -0.248381   \n",
       "4                      -0.09499                 -0.248381   \n",
       "\n",
       "   market_segment_Direct  market_segment_Groups  market_segment_Offline TA/TO  \\\n",
       "0              -0.408252               -0.26916                     -0.454268   \n",
       "1              -0.408252               -0.26916                     -0.454268   \n",
       "2               2.449466               -0.26916                     -0.454268   \n",
       "3              -0.408252               -0.26916                     -0.454268   \n",
       "4               2.449466               -0.26916                     -0.454268   \n",
       "\n",
       "   market_segment_Online TA  market_segment_Undefined  \\\n",
       "0                  0.907163                 -0.005787   \n",
       "1                  0.907163                 -0.005787   \n",
       "2                 -1.102338                 -0.005787   \n",
       "3                 -1.102338                 -0.005787   \n",
       "4                 -1.102338                 -0.005787   \n",
       "\n",
       "   distribution_channel_Direct  distribution_channel_GDS  \\\n",
       "0                    -0.433562                 -0.046529   \n",
       "1                    -0.433562                 -0.046529   \n",
       "2                     2.306474                 -0.046529   \n",
       "3                    -0.433562                 -0.046529   \n",
       "4                     2.306474                 -0.046529   \n",
       "\n",
       "   distribution_channel_TA/TO  distribution_channel_Undefined  \\\n",
       "0                    0.548120                       -0.008185   \n",
       "1                    0.548120                       -0.008185   \n",
       "2                   -1.824418                       -0.008185   \n",
       "3                   -1.824418                       -0.008185   \n",
       "4                   -1.824418                       -0.008185   \n",
       "\n",
       "   reserved_room_type_B  reserved_room_type_C  reserved_room_type_D  \\\n",
       "0              -0.10804             -0.103837              2.100943   \n",
       "1              -0.10804             -0.103837             -0.475977   \n",
       "2              -0.10804             -0.103837             -0.475977   \n",
       "3              -0.10804             -0.103837              2.100943   \n",
       "4              -0.10804             -0.103837             -0.475977   \n",
       "\n",
       "   reserved_room_type_E  reserved_room_type_F  reserved_room_type_G  \\\n",
       "0              -0.26589             -0.175434               -0.1522   \n",
       "1              -0.26589             -0.175434               -0.1522   \n",
       "2              -0.26589             -0.175434               -0.1522   \n",
       "3              -0.26589             -0.175434               -0.1522   \n",
       "4              -0.26589             -0.175434               -0.1522   \n",
       "\n",
       "   reserved_room_type_H  reserved_room_type_L  reserved_room_type_P  \\\n",
       "0             -0.084161             -0.009151             -0.010024   \n",
       "1             -0.084161             -0.009151             -0.010024   \n",
       "2             -0.084161             -0.009151             -0.010024   \n",
       "3             -0.084161             -0.009151             -0.010024   \n",
       "4             -0.084161             -0.009151             -0.010024   \n",
       "\n",
       "   assigned_room_type_B  assigned_room_type_C  assigned_room_type_D  \\\n",
       "0             -0.147528             -0.160738              1.727576   \n",
       "1             -0.147528             -0.160738             -0.578846   \n",
       "2             -0.147528             -0.160738              1.727576   \n",
       "3             -0.147528             -0.160738              1.727576   \n",
       "4             -0.147528             -0.160738             -0.578846   \n",
       "\n",
       "   assigned_room_type_E  assigned_room_type_F  assigned_room_type_G  \\\n",
       "0             -0.295076             -0.200418             -0.166404   \n",
       "1             -0.295076             -0.200418             -0.166404   \n",
       "2             -0.295076             -0.200418             -0.166404   \n",
       "3             -0.295076             -0.200418             -0.166404   \n",
       "4             -0.295076             -0.200418             -0.166404   \n",
       "\n",
       "   assigned_room_type_H  assigned_room_type_I  assigned_room_type_K  \\\n",
       "0             -0.091889             -0.066001              -0.05709   \n",
       "1             -0.091889             -0.066001              -0.05709   \n",
       "2             -0.091889             -0.066001              -0.05709   \n",
       "3             -0.091889             -0.066001              -0.05709   \n",
       "4             -0.091889             -0.066001              -0.05709   \n",
       "\n",
       "   assigned_room_type_L  assigned_room_type_P  deposit_type_Non Refund  \\\n",
       "0             -0.004092             -0.010024                -0.131824   \n",
       "1             -0.004092             -0.010024                -0.131824   \n",
       "2             -0.004092             -0.010024                -0.131824   \n",
       "3             -0.004092             -0.010024                -0.131824   \n",
       "4             -0.004092             -0.010024                -0.131824   \n",
       "\n",
       "   deposit_type_Refundable  customer_type_Group  customer_type_Transient  \\\n",
       "0                -0.040956            -0.084865                 0.474203   \n",
       "1                -0.040956            -0.084865                 0.474203   \n",
       "2                -0.040956            -0.084865                 0.474203   \n",
       "3                -0.040956            -0.084865                -2.108803   \n",
       "4                -0.040956            -0.084865                 0.474203   \n",
       "\n",
       "   customer_type_Transient-Party  reservation_status_Check-Out  \\\n",
       "0                      -0.405177                       0.82045   \n",
       "1                      -0.405177                       0.82045   \n",
       "2                      -0.405177                       0.82045   \n",
       "3                       2.468060                       0.82045   \n",
       "4                      -0.405177                       0.82045   \n",
       "\n",
       "   reservation_status_No-Show  \n",
       "0                   -0.131429  \n",
       "1                   -0.131429  \n",
       "2                   -0.131429  \n",
       "3                   -0.131429  \n",
       "4                   -0.131429  "
      ]
     },
     "execution_count": 81,
     "metadata": {},
     "output_type": "execute_result"
    }
   ],
   "source": [
    "from sklearn.preprocessing import StandardScaler\n",
    "sc=StandardScaler()\n",
    "x_scaled=sc.fit_transform(x_enn)\n",
    "x=pd.DataFrame(x_scaled,columns=x.columns)\n",
    "x.head()"
   ]
  },
  {
   "cell_type": "code",
   "execution_count": 82,
   "id": "3e3f9a33",
   "metadata": {},
   "outputs": [],
   "source": [
    "#Trian test split\n",
    "\n",
    "from sklearn.model_selection import train_test_split\n",
    "x_train,x_test,y_train,y_test=train_test_split(x,y_enn,test_size=0.20,random_state=88)"
   ]
  },
  {
   "cell_type": "markdown",
   "id": "38739b83",
   "metadata": {},
   "source": [
    "# Model Training and Performance Evaluation"
   ]
  },
  {
   "cell_type": "code",
   "execution_count": 83,
   "id": "3787bb5f",
   "metadata": {},
   "outputs": [],
   "source": [
    "from sklearn.linear_model import LogisticRegression\n",
    "from sklearn.tree import DecisionTreeClassifier\n",
    "from sklearn.ensemble import RandomForestClassifier, VotingClassifier\n",
    "from sklearn.neighbors import KNeighborsClassifier\n",
    "from sklearn.ensemble import GradientBoostingClassifier\n",
    "from xgboost import XGBClassifier\n",
    "from sklearn.model_selection import RandomizedSearchCV\n",
    "from sklearn.metrics import confusion_matrix,classification_report,accuracy_score"
   ]
  },
  {
   "cell_type": "code",
   "execution_count": 84,
   "id": "183347ad",
   "metadata": {},
   "outputs": [
    {
     "name": "stdout",
     "output_type": "stream",
     "text": [
      "For train data\n",
      "              precision    recall  f1-score   support\n",
      "\n",
      "           0       1.00      1.00      1.00     28595\n",
      "           1       1.00      1.00      1.00     19177\n",
      "\n",
      "    accuracy                           1.00     47772\n",
      "   macro avg       1.00      1.00      1.00     47772\n",
      "weighted avg       1.00      1.00      1.00     47772\n",
      "\n",
      "For test data\n",
      "              precision    recall  f1-score   support\n",
      "\n",
      "           0       1.00      1.00      1.00      7096\n",
      "           1       1.00      1.00      1.00      4848\n",
      "\n",
      "    accuracy                           1.00     11944\n",
      "   macro avg       1.00      1.00      1.00     11944\n",
      "weighted avg       1.00      1.00      1.00     11944\n",
      "\n"
     ]
    }
   ],
   "source": [
    "# Logistic Regression\n",
    "\n",
    "lr=LogisticRegression()\n",
    "model=lr.fit(x_train,y_train)\n",
    "\n",
    "y_pred=model.predict(x_test)\n",
    "y_pred_train=model.predict(x_train)\n",
    "\n",
    "print('For train data')\n",
    "print(classification_report(y_train,y_pred_train))\n",
    "\n",
    "print('For test data')\n",
    "print(classification_report(y_test,y_pred))"
   ]
  },
  {
   "cell_type": "code",
   "execution_count": 84,
   "id": "2271477f",
   "metadata": {},
   "outputs": [
    {
     "name": "stdout",
     "output_type": "stream",
     "text": [
      "For train data\n",
      "              precision    recall  f1-score   support\n",
      "\n",
      "           0       0.88      0.82      0.85     26680\n",
      "           1       0.78      0.85      0.81     19178\n",
      "\n",
      "    accuracy                           0.83     45858\n",
      "   macro avg       0.83      0.84      0.83     45858\n",
      "weighted avg       0.84      0.83      0.83     45858\n",
      "\n",
      "For test data\n",
      "              precision    recall  f1-score   support\n",
      "\n",
      "           0       0.85      0.79      0.82      6618\n",
      "           1       0.74      0.82      0.77      4847\n",
      "\n",
      "    accuracy                           0.80     11465\n",
      "   macro avg       0.79      0.80      0.80     11465\n",
      "weighted avg       0.80      0.80      0.80     11465\n",
      "\n"
     ]
    }
   ],
   "source": [
    "# K Nearest Neighbours\n",
    "\n",
    "knn=KNeighborsClassifier(n_neighbors=11)\n",
    "model=knn.fit(x_train,y_train)\n",
    "\n",
    "y_pred=model.predict(x_test)\n",
    "y_pred_train=model.predict(x_train)\n",
    "\n",
    "print('For train data')\n",
    "print(classification_report(y_train,y_pred_train))\n",
    "\n",
    "print('For test data')\n",
    "print(classification_report(y_test,y_pred))"
   ]
  },
  {
   "cell_type": "code",
   "execution_count": 85,
   "id": "fee03004",
   "metadata": {},
   "outputs": [
    {
     "name": "stdout",
     "output_type": "stream",
     "text": [
      "For train data\n",
      "              precision    recall  f1-score   support\n",
      "\n",
      "           0       0.88      0.85      0.86     26680\n",
      "           1       0.80      0.84      0.82     19178\n",
      "\n",
      "    accuracy                           0.85     45858\n",
      "   macro avg       0.84      0.85      0.84     45858\n",
      "weighted avg       0.85      0.85      0.85     45858\n",
      "\n",
      "For test data\n",
      "              precision    recall  f1-score   support\n",
      "\n",
      "           0       0.88      0.85      0.87      6618\n",
      "           1       0.81      0.85      0.83      4847\n",
      "\n",
      "    accuracy                           0.85     11465\n",
      "   macro avg       0.85      0.85      0.85     11465\n",
      "weighted avg       0.85      0.85      0.85     11465\n",
      "\n"
     ]
    }
   ],
   "source": [
    "#Decision Tree\n",
    "\n",
    "dt=DecisionTreeClassifier(random_state=50,max_depth=10,max_leaf_nodes=50,criterion='entropy',min_samples_split=10)\n",
    "model=dt.fit(x_train,y_train)\n",
    "\n",
    "y_pred=model.predict(x_test)\n",
    "y_pred_train=model.predict(x_train)\n",
    "\n",
    "print('For train data')\n",
    "print(classification_report(y_train,y_pred_train))\n",
    "\n",
    "print('For test data')\n",
    "print(classification_report(y_test,y_pred))"
   ]
  },
  {
   "cell_type": "code",
   "execution_count": 86,
   "id": "67dab2f5",
   "metadata": {},
   "outputs": [
    {
     "name": "stdout",
     "output_type": "stream",
     "text": [
      "For train data\n",
      "              precision    recall  f1-score   support\n",
      "\n",
      "           0       0.84      0.86      0.85     26680\n",
      "           1       0.80      0.78      0.79     19178\n",
      "\n",
      "    accuracy                           0.82     45858\n",
      "   macro avg       0.82      0.82      0.82     45858\n",
      "weighted avg       0.82      0.82      0.82     45858\n",
      "\n",
      "For test data\n",
      "              precision    recall  f1-score   support\n",
      "\n",
      "           0       0.84      0.86      0.85      6618\n",
      "           1       0.81      0.78      0.79      4847\n",
      "\n",
      "    accuracy                           0.83     11465\n",
      "   macro avg       0.83      0.82      0.82     11465\n",
      "weighted avg       0.83      0.83      0.83     11465\n",
      "\n"
     ]
    }
   ],
   "source": [
    "#Rnadom Forest Classifier\n",
    "\n",
    "rf=RandomForestClassifier(random_state=50,max_depth=10,max_leaf_nodes=50,criterion='entropy',min_samples_split=10,n_estimators=20)\n",
    "model=rf.fit(x_train,y_train)\n",
    "\n",
    "y_pred=model.predict(x_test)\n",
    "y_pred_train=model.predict(x_train)\n",
    "\n",
    "print('For train data')\n",
    "print(classification_report(y_train,y_pred_train))\n",
    "\n",
    "print('For test data')\n",
    "print(classification_report(y_test,y_pred))"
   ]
  },
  {
   "cell_type": "code",
   "execution_count": 87,
   "id": "b8d86f05",
   "metadata": {},
   "outputs": [
    {
     "name": "stdout",
     "output_type": "stream",
     "text": [
      "For train data\n",
      "              precision    recall  f1-score   support\n",
      "\n",
      "           0       0.94      0.92      0.93     26680\n",
      "           1       0.89      0.91      0.90     19178\n",
      "\n",
      "    accuracy                           0.92     45858\n",
      "   macro avg       0.91      0.92      0.91     45858\n",
      "weighted avg       0.92      0.92      0.92     45858\n",
      "\n",
      "For test data\n",
      "              precision    recall  f1-score   support\n",
      "\n",
      "           0       0.91      0.90      0.91      6618\n",
      "           1       0.87      0.89      0.88      4847\n",
      "\n",
      "    accuracy                           0.89     11465\n",
      "   macro avg       0.89      0.89      0.89     11465\n",
      "weighted avg       0.89      0.89      0.89     11465\n",
      "\n"
     ]
    }
   ],
   "source": [
    "# XG Boost\n",
    "\n",
    "xgb=XGBClassifier()\n",
    "model=xgb.fit(x_train,y_train)\n",
    "\n",
    "y_pred=model.predict(x_test)\n",
    "y_pred_train=model.predict(x_train)\n",
    "\n",
    "print('For train data')\n",
    "print(classification_report(y_train,y_pred_train))\n",
    "\n",
    "print('For test data')\n",
    "print(classification_report(y_test,y_pred))"
   ]
  },
  {
   "cell_type": "code",
   "execution_count": 88,
   "id": "5fc19dae",
   "metadata": {},
   "outputs": [
    {
     "name": "stdout",
     "output_type": "stream",
     "text": [
      "For train data\n",
      "              precision    recall  f1-score   support\n",
      "\n",
      "           0       0.89      0.86      0.88     26680\n",
      "           1       0.81      0.86      0.84     19178\n",
      "\n",
      "    accuracy                           0.86     45858\n",
      "   macro avg       0.85      0.86      0.86     45858\n",
      "weighted avg       0.86      0.86      0.86     45858\n",
      "\n",
      "For test data\n",
      "              precision    recall  f1-score   support\n",
      "\n",
      "           0       0.90      0.87      0.88      6618\n",
      "           1       0.83      0.86      0.85      4847\n",
      "\n",
      "    accuracy                           0.87     11465\n",
      "   macro avg       0.86      0.87      0.86     11465\n",
      "weighted avg       0.87      0.87      0.87     11465\n",
      "\n"
     ]
    }
   ],
   "source": [
    "#Gradient Boosting Classifier\n",
    "\n",
    "gb=GradientBoostingClassifier()\n",
    "model=gb.fit(x_train,y_train)\n",
    "\n",
    "y_pred=model.predict(x_test)\n",
    "y_pred_train=model.predict(x_train)\n",
    "\n",
    "print('For train data')\n",
    "print(classification_report(y_train,y_pred_train))\n",
    "\n",
    "print('For test data')\n",
    "print(classification_report(y_test,y_pred))"
   ]
  },
  {
   "cell_type": "code",
   "execution_count": 89,
   "id": "12e43b10",
   "metadata": {},
   "outputs": [
    {
     "data": {
      "text/plain": [
       "{'n_estimators': 20,\n",
       " 'min_samples_split': 20,\n",
       " 'max_leaf_nodes': 60,\n",
       " 'max_depth': 20,\n",
       " 'criterion': 'gini'}"
      ]
     },
     "execution_count": 89,
     "metadata": {},
     "output_type": "execute_result"
    }
   ],
   "source": [
    "#Hyper parameter tuning Random Forest\n",
    "\n",
    "param_grid={'max_depth':[4,8,10,12,16,18,20],'max_leaf_nodes':[30,40,45,50,55,60],'criterion':['gini','entropy'],\n",
    "            'min_samples_split':[10,20,30],'n_estimators':[20,30,40,50,60]}\n",
    "\n",
    "rf_cv=RandomForestClassifier(random_state=55)\n",
    "grid=RandomizedSearchCV(rf_cv,param_grid,cv=10)\n",
    "\n",
    "grid.fit(x_train,y_train)\n",
    "grid.best_params_"
   ]
  },
  {
   "cell_type": "code",
   "execution_count": 97,
   "id": "b008aa01",
   "metadata": {},
   "outputs": [
    {
     "name": "stdout",
     "output_type": "stream",
     "text": [
      "For train data\n",
      "              precision    recall  f1-score   support\n",
      "\n",
      "           0       0.85      0.87      0.86     26680\n",
      "           1       0.82      0.79      0.80     19178\n",
      "\n",
      "    accuracy                           0.84     45858\n",
      "   macro avg       0.83      0.83      0.83     45858\n",
      "weighted avg       0.84      0.84      0.84     45858\n",
      "\n",
      "For test data\n",
      "              precision    recall  f1-score   support\n",
      "\n",
      "           0       0.85      0.88      0.86      6618\n",
      "           1       0.83      0.79      0.81      4847\n",
      "\n",
      "    accuracy                           0.84     11465\n",
      "   macro avg       0.84      0.83      0.84     11465\n",
      "weighted avg       0.84      0.84      0.84     11465\n",
      "\n"
     ]
    }
   ],
   "source": [
    "rf2=RandomForestClassifier(max_depth=20,max_leaf_nodes=60,criterion='gini',min_samples_split=20,n_estimators=20)\n",
    "model=rf2.fit(x_train,y_train)\n",
    "y_pred=model.predict(x_test)\n",
    "y_pred_train=model.predict(x_train)\n",
    "print('For train data')\n",
    "print(classification_report(y_train,y_pred_train))\n",
    "print('For test data')\n",
    "print(classification_report(y_test,y_pred))"
   ]
  },
  {
   "cell_type": "code",
   "execution_count": 91,
   "id": "18a24a62",
   "metadata": {},
   "outputs": [
    {
     "data": {
      "text/plain": [
       "{'min_samples_split': 10,\n",
       " 'max_leaf_nodes': 60,\n",
       " 'max_depth': 16,\n",
       " 'criterion': 'entropy'}"
      ]
     },
     "execution_count": 91,
     "metadata": {},
     "output_type": "execute_result"
    }
   ],
   "source": [
    "# Hyper Prameter Tuning Decision Tree\n",
    "\n",
    "param_grid={'max_depth':[4,8,10,12,16,18,20],'max_leaf_nodes':[25,30,40,45,50,55,60],'criterion':['gini','entropy'],\n",
    "            'min_samples_split':[10,20,30,40]}\n",
    "\n",
    "dt_cv=DecisionTreeClassifier(random_state=55)\n",
    "grid=RandomizedSearchCV(dt_cv,param_grid,cv=10)\n",
    "\n",
    "grid.fit(x_train,y_train)\n",
    "grid.best_params_"
   ]
  },
  {
   "cell_type": "code",
   "execution_count": 98,
   "id": "999fb1f5",
   "metadata": {},
   "outputs": [
    {
     "name": "stdout",
     "output_type": "stream",
     "text": [
      "For train data\n",
      "              precision    recall  f1-score   support\n",
      "\n",
      "           0       0.88      0.86      0.87     26680\n",
      "           1       0.81      0.84      0.82     19178\n",
      "\n",
      "    accuracy                           0.85     45858\n",
      "   macro avg       0.85      0.85      0.85     45858\n",
      "weighted avg       0.85      0.85      0.85     45858\n",
      "\n",
      "For test data\n",
      "              precision    recall  f1-score   support\n",
      "\n",
      "           0       0.88      0.86      0.87      6618\n",
      "           1       0.82      0.85      0.83      4847\n",
      "\n",
      "    accuracy                           0.86     11465\n",
      "   macro avg       0.85      0.85      0.85     11465\n",
      "weighted avg       0.86      0.86      0.86     11465\n",
      "\n"
     ]
    }
   ],
   "source": [
    "dt2=DecisionTreeClassifier(random_state=22,max_depth=16,max_leaf_nodes=60,criterion='entropy',min_samples_split=10)\n",
    "model=dt2.fit(x_train,y_train)\n",
    "y_pred=model.predict(x_test)\n",
    "y_pred_train=model.predict(x_train)\n",
    "print('For train data')\n",
    "print(classification_report(y_train,y_pred_train))\n",
    "print('For test data')\n",
    "print(classification_report(y_test,y_pred))"
   ]
  },
  {
   "cell_type": "code",
   "execution_count": 93,
   "id": "461111bb",
   "metadata": {},
   "outputs": [
    {
     "data": {
      "text/plain": [
       "{'n_estimators': 120, 'max_depth': 16, 'learning_rate': 0.2}"
      ]
     },
     "execution_count": 93,
     "metadata": {},
     "output_type": "execute_result"
    }
   ],
   "source": [
    "#Hyper Prameter tuning XG Boost\n",
    "\n",
    "param_grid={'learning_rate':[0.05,0.1,0.15,0.2],'max_depth':[2,4,6,8,10,12,16,18,20],'n_estimators':[30,50,80,100,120]}\n",
    "\n",
    "xgb=XGBClassifier(random_state=55)\n",
    "grid=RandomizedSearchCV(xgb,param_grid,cv=5)\n",
    "\n",
    "grid.fit(x_train,y_train)\n",
    "grid.best_params_"
   ]
  },
  {
   "cell_type": "code",
   "execution_count": 94,
   "id": "56b078d9",
   "metadata": {},
   "outputs": [
    {
     "name": "stdout",
     "output_type": "stream",
     "text": [
      "For train data\n",
      "              precision    recall  f1-score   support\n",
      "\n",
      "           0       0.95      0.93      0.94     26680\n",
      "           1       0.90      0.93      0.92     19178\n",
      "\n",
      "    accuracy                           0.93     45858\n",
      "   macro avg       0.93      0.93      0.93     45858\n",
      "weighted avg       0.93      0.93      0.93     45858\n",
      "\n",
      "For test data\n",
      "              precision    recall  f1-score   support\n",
      "\n",
      "           0       0.91      0.90      0.91      6618\n",
      "           1       0.87      0.88      0.88      4847\n",
      "\n",
      "    accuracy                           0.89     11465\n",
      "   macro avg       0.89      0.89      0.89     11465\n",
      "weighted avg       0.89      0.89      0.89     11465\n",
      "\n"
     ]
    }
   ],
   "source": [
    "# Best performing model\n",
    "\n",
    "xgb=XGBClassifier(n_estimators=100,max_depth=10,learning_rate=0.10)\n",
    "model=xgb.fit(x_train,y_train)\n",
    "\n",
    "y_pred=model.predict(x_test)\n",
    "y_pred_train=model.predict(x_train)\n",
    "\n",
    "print('For train data')\n",
    "print(classification_report(y_train,y_pred_train))\n",
    "\n",
    "print('For test data')\n",
    "print(classification_report(y_test,y_pred))"
   ]
  },
  {
   "cell_type": "code",
   "execution_count": 95,
   "id": "d4c0b14e",
   "metadata": {},
   "outputs": [
    {
     "name": "stdout",
     "output_type": "stream",
     "text": [
      "[0.88696031 0.88338421 0.88975142 0.89131193 0.88773552]\n",
      "Mean of scores :  0.89\n"
     ]
    }
   ],
   "source": [
    "#Cross Validation used with XG Boost\n",
    "\n",
    "from sklearn.model_selection import cross_val_score\n",
    "from sklearn.model_selection import KFold\n",
    "\n",
    "xgb=XGBClassifier(n_estimators=100,max_depth=10,learning_rate=0.10)\n",
    "cv=KFold(n_splits=5,shuffle=True,random_state=45)\n",
    "\n",
    "scores=cross_val_score(xgb,x,y_enn,cv=cv,scoring='accuracy')\n",
    "print(scores)\n",
    "print(\"Mean of scores : \", round(scores.mean(),2))"
   ]
  },
  {
   "cell_type": "code",
   "execution_count": 96,
   "id": "882dddc6",
   "metadata": {},
   "outputs": [
    {
     "name": "stdout",
     "output_type": "stream",
     "text": [
      "              precision    recall  f1-score   support\n",
      "\n",
      "           0       0.91      0.89      0.90     33298\n",
      "           1       0.86      0.88      0.87     24025\n",
      "\n",
      "    accuracy                           0.89     57323\n",
      "   macro avg       0.88      0.89      0.89     57323\n",
      "weighted avg       0.89      0.89      0.89     57323\n",
      "\n"
     ]
    }
   ],
   "source": [
    "from sklearn.model_selection import cross_val_predict\n",
    "\n",
    "predicted=cross_val_predict(xgb,x,y_enn,cv=cv)\n",
    "print(classification_report(y_enn,predicted))"
   ]
  },
  {
   "cell_type": "markdown",
   "id": "3b3c4aa2",
   "metadata": {},
   "source": [
    "The highest performance is obtained using XG Boost Classifier model and the highest accuracy obtained is 89%."
   ]
  },
  {
   "cell_type": "code",
   "execution_count": null,
   "id": "b97f2694",
   "metadata": {},
   "outputs": [],
   "source": []
  }
 ],
 "metadata": {
  "kernelspec": {
   "display_name": "Python 3 (ipykernel)",
   "language": "python",
   "name": "python3"
  },
  "language_info": {
   "codemirror_mode": {
    "name": "ipython",
    "version": 3
   },
   "file_extension": ".py",
   "mimetype": "text/x-python",
   "name": "python",
   "nbconvert_exporter": "python",
   "pygments_lexer": "ipython3",
   "version": "3.11.4"
  }
 },
 "nbformat": 4,
 "nbformat_minor": 5
}
